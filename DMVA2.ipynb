{
  "nbformat": 4,
  "nbformat_minor": 0,
  "metadata": {
    "colab": {
      "provenance": [],
      "collapsed_sections": [
        "w5WPlNy8yv_t",
        "SlScn552yzRx",
        "9YOecTqW6xoU",
        "wMmM9B-slMbQ",
        "AFmZOAVHoCm8",
        "33_UgiO-rGE1",
        "l-9BPSbp2pBr",
        "8HDo78ngbhkQ",
        "11V87hyLbmF5",
        "bpI8zo9i7kNt",
        "SfEZpkIG7t2L",
        "hrMj8XJ-2Y9D",
        "M5ZHw__MadE6",
        "o3tmbDJ_ZlqE",
        "GrTJRnBDZ7_h",
        "nQtx-Vo1aXOY",
        "3wRV5GUU9Ip3",
        "1BdLgHyk95sP",
        "gbggi5QiakPG",
        "dTw-Kpnxn6xY"
      ],
      "authorship_tag": "ABX9TyPTmkKjlloAlKnqCyoJKMth",
      "include_colab_link": true
    },
    "kernelspec": {
      "name": "python3",
      "display_name": "Python 3"
    },
    "language_info": {
      "name": "python"
    }
  },
  "cells": [
    {
      "cell_type": "markdown",
      "metadata": {
        "id": "view-in-github",
        "colab_type": "text"
      },
      "source": [
        "<a href=\"https://colab.research.google.com/github/mivinmathew/DataMiningProblemSets/blob/main/DMVA2.ipynb\" target=\"_parent\"><img src=\"https://colab.research.google.com/assets/colab-badge.svg\" alt=\"Open In Colab\"/></a>"
      ]
    },
    {
      "cell_type": "markdown",
      "source": [
        "#**DMV A2 Problem Sets**"
      ],
      "metadata": {
        "id": "vOSbWVroynSK"
      }
    },
    {
      "cell_type": "markdown",
      "source": [
        "mivin mathew 2023\n"
      ],
      "metadata": {
        "id": "1Uc7GuhkS4wP"
      }
    },
    {
      "cell_type": "markdown",
      "source": [
        "*Implementation and answers to questions are all included below.*"
      ],
      "metadata": {
        "id": "YXEXF-5PS0Xj"
      }
    },
    {
      "cell_type": "markdown",
      "source": [
        "##**Q1_HouseholdWealth.csv**"
      ],
      "metadata": {
        "id": "w5WPlNy8yv_t"
      }
    },
    {
      "cell_type": "markdown",
      "source": [
        "### **Setting up Environment**"
      ],
      "metadata": {
        "id": "SlScn552yzRx"
      }
    },
    {
      "cell_type": "code",
      "execution_count": 1,
      "metadata": {
        "id": "Ze0MCZjprhxS"
      },
      "outputs": [],
      "source": [
        "from google.colab import drive "
      ]
    },
    {
      "cell_type": "code",
      "source": [
        "drive.mount('/content/drive')"
      ],
      "metadata": {
        "colab": {
          "base_uri": "https://localhost:8080/"
        },
        "id": "XXappSNVwTf3",
        "outputId": "df670070-e26e-43d8-9bc3-80e754521a34"
      },
      "execution_count": 2,
      "outputs": [
        {
          "output_type": "stream",
          "name": "stdout",
          "text": [
            "Mounted at /content/drive\n"
          ]
        }
      ]
    },
    {
      "cell_type": "markdown",
      "source": [
        "Importing relevant libraries"
      ],
      "metadata": {
        "id": "7YuXPTRU00z3"
      }
    },
    {
      "cell_type": "code",
      "source": [
        "import csv\n",
        "import numpy as np"
      ],
      "metadata": {
        "id": "5R_OcIkrwarJ"
      },
      "execution_count": 3,
      "outputs": []
    },
    {
      "cell_type": "markdown",
      "source": [
        "Reading file into a Pandas Dataframe"
      ],
      "metadata": {
        "id": "P1jF85xfz8EV"
      }
    },
    {
      "cell_type": "markdown",
      "source": [
        "Testing Successful File Read"
      ],
      "metadata": {
        "id": "xxopffQMymA_"
      }
    },
    {
      "cell_type": "markdown",
      "source": [
        "Loading data from csv file"
      ],
      "metadata": {
        "id": "KFdmSpP71Osp"
      }
    },
    {
      "cell_type": "code",
      "source": [
        "data = []\n",
        "with open('/content/drive/MyDrive/HouseholdWealth.csv', 'r') as file:\n",
        "    reader = csv.reader(file)\n",
        "    for row in reader:\n",
        "        data.append(row)"
      ],
      "metadata": {
        "id": "3hSklw6h0zzw"
      },
      "execution_count": 4,
      "outputs": []
    },
    {
      "cell_type": "markdown",
      "source": [
        "*   Loading data into Numpy Array\n",
        "*   Skipping first two of data(titles) using 'skiprows =1'\n",
        "*   Converting rest of data into floating point values using 'dtype = float'"
      ],
      "metadata": {
        "id": "UOXokXRC59aY"
      }
    },
    {
      "cell_type": "code",
      "source": [
        "data = np.loadtxt('/content/drive/MyDrive/HouseholdWealth.csv', delimiter=',', skiprows=1, dtype=float)"
      ],
      "metadata": {
        "id": "Nfh6agMu1TCC"
      },
      "execution_count": 5,
      "outputs": []
    },
    {
      "cell_type": "markdown",
      "source": [
        "Testing Succesful Conversion into Numpy Array"
      ],
      "metadata": {
        "id": "7WSOv6F1552G"
      }
    },
    {
      "cell_type": "code",
      "source": [
        "print(data)"
      ],
      "metadata": {
        "colab": {
          "base_uri": "https://localhost:8080/"
        },
        "id": "14glXg605HkM",
        "outputId": "eaf5917c-a480-40a2-9cee-235e4c0cffe4"
      },
      "execution_count": 6,
      "outputs": [
        {
          "output_type": "stream",
          "name": "stdout",
          "text": [
            "[[1230531.   15724.]\n",
            " [4877446.  124751.]\n",
            " [4430878.  124372.]\n",
            " ...\n",
            " [ 985874.  196997.]\n",
            " [ 482927.   35603.]\n",
            " [  30641.   93254.]]\n"
          ]
        }
      ]
    },
    {
      "cell_type": "markdown",
      "source": [
        "### **Question 1[a]:** Running K-means clustering algorithm"
      ],
      "metadata": {
        "id": "9YOecTqW6xoU"
      }
    },
    {
      "cell_type": "code",
      "source": [
        "k = 3"
      ],
      "metadata": {
        "id": "-LPlNpPY2D9y"
      },
      "execution_count": 7,
      "outputs": []
    },
    {
      "cell_type": "code",
      "source": [
        "#max_iterations = 100"
      ],
      "metadata": {
        "id": "rZGGF_jm2E1m"
      },
      "execution_count": null,
      "outputs": []
    },
    {
      "cell_type": "markdown",
      "source": [
        "* Shuffling column data\n",
        "* Initialising centroids \n",
        "* Randomly selecting k Data points without replacement\n"
      ],
      "metadata": {
        "id": "9IdMdmF6EJn-"
      }
    },
    {
      "cell_type": "code",
      "source": [
        "#np.random.shuffle(data.T)"
      ],
      "metadata": {
        "id": "IDWryv62FJFq"
      },
      "execution_count": null,
      "outputs": []
    },
    {
      "cell_type": "code",
      "source": [
        "centroids = data[np.random.choice(range(len(data)), k, replace=False)]"
      ],
      "metadata": {
        "id": "AxCinsIx3Atr"
      },
      "execution_count": 8,
      "outputs": []
    },
    {
      "cell_type": "code",
      "source": [
        "print('Initial centroids:\\n',centroids)"
      ],
      "metadata": {
        "colab": {
          "base_uri": "https://localhost:8080/"
        },
        "id": "kaCeZ2CtFhMo",
        "outputId": "daff2f52-0611-46be-b0f5-608ed3528ed1"
      },
      "execution_count": 9,
      "outputs": [
        {
          "output_type": "stream",
          "name": "stdout",
          "text": [
            "Initial centroids:\n",
            " [[2708482.   83677.]\n",
            " [2988328.  282286.]\n",
            " [3317942.   61679.]]\n"
          ]
        }
      ]
    },
    {
      "cell_type": "code",
      "source": [
        "def euclidean_distance(x1, x2):\n",
        "    return np.sqrt(np.sum((x1 - x2) ** 2))"
      ],
      "metadata": {
        "id": "ayA8sODG3HpK"
      },
      "execution_count": 10,
      "outputs": []
    },
    {
      "cell_type": "code",
      "source": [
        "def assign_clusters(data, centroids):\n",
        "    clusters = []\n",
        "    for point in data:\n",
        "        distances = [euclidean_distance(point, centroid) for centroid in centroids]\n",
        "        cluster = np.argmin(distances)\n",
        "        clusters.append(cluster)\n",
        "    return clusters"
      ],
      "metadata": {
        "id": "5LE-Au_a3LrD"
      },
      "execution_count": 11,
      "outputs": []
    },
    {
      "cell_type": "code",
      "source": [
        "def update_centroids(data, clusters, centroids):\n",
        "    for i in range(k):\n",
        "        points = [data[j] for j in range(len(data)) if clusters[j] == i]\n",
        "        if len(points) > 0:\n",
        "            centroids[i] = np.mean(points, axis=0)"
      ],
      "metadata": {
        "id": "m6DlhgHf3N5D"
      },
      "execution_count": 12,
      "outputs": []
    },
    {
      "cell_type": "code",
      "source": [
        "max_iterations=100"
      ],
      "metadata": {
        "id": "LLAIER1lhG4a"
      },
      "execution_count": 13,
      "outputs": []
    },
    {
      "cell_type": "code",
      "source": [
        "for i in range(max_iterations):\n",
        "    clusters = assign_clusters(data, centroids)\n",
        "    old_centroids = centroids.copy()\n",
        "    update_centroids(data, clusters, centroids)\n",
        "    if np.all(old_centroids == centroids):\n",
        "        break"
      ],
      "metadata": {
        "id": "89YzurQ23R7b"
      },
      "execution_count": 14,
      "outputs": []
    },
    {
      "cell_type": "code",
      "source": [
        "print('Final centroids:\\n', centroids)"
      ],
      "metadata": {
        "colab": {
          "base_uri": "https://localhost:8080/"
        },
        "id": "BKZ0G3IlhQuX",
        "outputId": "2a2419a4-3b2b-4d26-c6d2-df084f25db1c"
      },
      "execution_count": 15,
      "outputs": [
        {
          "output_type": "stream",
          "name": "stdout",
          "text": [
            "Final centroids:\n",
            " [[ 862360.32335329  147073.61377246]\n",
            " [2525378.03344482  153072.41471572]\n",
            " [4127403.67847411  155618.71662125]]\n"
          ]
        }
      ]
    },
    {
      "cell_type": "markdown",
      "source": [
        "* [4127403.67847411 155618.71662125] represents the centroid for the cluster with the highest total asset value and annual income. \n",
        "* [2525378.03344482 153072.41471572] represents the centroid for the cluster with a moderately high total asset value and annual income\n",
        "* [862360.32335329 147073.61377246] represents the centroid for the cluster with the lowest total asset value and annual income."
      ],
      "metadata": {
        "id": "h_NsnhZJhqEv"
      }
    },
    {
      "cell_type": "code",
      "source": [
        "import matplotlib.pyplot as plt\n",
        "\n",
        "# Define colors for each cluster\n",
        "colors = ['r', 'g', 'b']\n",
        "\n",
        "# Plot the data points\n",
        "plt.scatter(data[:, 0], data[:, 1], alpha=0.5)\n",
        "\n",
        "# Plot the centroids\n",
        "for i in range(k):\n",
        "    plt.scatter(centroids[i, 0], centroids[i, 1], marker='x', s=200, c=colors[i])\n",
        "\n",
        "# Set x and y axis labels\n",
        "plt.xlabel('Total Asset Value(in millions)')\n",
        "plt.ylabel('Annual Household Income')\n",
        "\n",
        "# Show the plot\n",
        "plt.show()"
      ],
      "metadata": {
        "colab": {
          "base_uri": "https://localhost:8080/",
          "height": 449
        },
        "id": "0NvQqSpKh_lY",
        "outputId": "25072d8e-33f2-4698-b8a6-9c9ab11e7646"
      },
      "execution_count": 16,
      "outputs": [
        {
          "output_type": "display_data",
          "data": {
            "text/plain": [
              "<Figure size 640x480 with 1 Axes>"
            ],
            "image/png": "[encoded data removed]"
          },
          "metadata": {}
        }
      ]
    },
    {
      "cell_type": "markdown",
      "source": [
        "### **Question 1[b]:** Cluster Interpretation in terms of customer segmentation."
      ],
      "metadata": {
        "id": "wMmM9B-slMbQ"
      }
    },
    {
      "cell_type": "markdown",
      "source": [
        "With the three centroids as an outcome, [HA.HI, MA.MI, LA.LI] we can infer that the difference in asset accumulation is the differential factor within this dataset, as the average household income only ranges between 147,000 to 156,000 whereas the average total asset value ranges between 862,000 to 4,100,000. From this we know the centroid with the High Asset, High income have extremely advantageous spending power compared to the Low Asset, Low Income centroid, with the Moderate Asset, Moderate Income can be seen as customers with reliable purchasing power. Understanding such broad clusters of customers can help with targeted marketing - understanding and expressing the trade-off between value and price for the LA.LI customer segment, in comparison to the freedom in art direction that can be achieved with the HA.HI customer segment, who have limited financial constraints. Affordability is both an attitude and an ability as seen by the difference in customers, and when selling a product or relying on customers for profit and business operation, it is vital to cater to what is affordable and what is wanted in value by your consumer audience."
      ],
      "metadata": {
        "id": "cCdwcbaclY6C"
      }
    },
    {
      "cell_type": "markdown",
      "source": [
        "### **Question 1[c]:** Determining number of clusters in context of customer segmentation"
      ],
      "metadata": {
        "id": "AFmZOAVHoCm8"
      }
    },
    {
      "cell_type": "markdown",
      "source": [
        "There are two methods that can aid with determining the number of clusters that can aid with customer segmentation on a dataset.\n",
        "-\tElbow method: this is a process that involves plotting the within-cluster sum of squares(WCSS) against the number of clusters. WCSS simply put is the sum of the squared distances between a datapoint and its centroid. With more centroids, and more clusters, the WCSS decreases in value due to the distance covered, and the rate in which this occurs can suggest an optimal number of clusters for a given dataset regarding customer segmentation –  known as the elbow point where the decrease rate of the WCSS is significantly slow.\n",
        "-\tSilhouette method: computing the silhouette coefficient for each datapoint, measuring similarity between it and its centroid, compared to other clusters. The range of this silhouette coefficient ranges from -1 to 1, with -1 indicating a poor clustered point and 1 being the opposite, The mean silhouette coefficient for each number of clusters assigned, and the specification that has the highest average is considered the optimal number of clusters to use. \n"
      ],
      "metadata": {
        "id": "qvLMfRgaoL0b"
      }
    },
    {
      "cell_type": "markdown",
      "source": [
        "### **Question 1[d]:** Intertia and Dunn Index Calculation for Optimal K"
      ],
      "metadata": {
        "id": "33_UgiO-rGE1"
      }
    },
    {
      "cell_type": "markdown",
      "source": [
        "Dunn Index : Ratio of min inter-cluster distance to the max intra-cluster distance\n",
        "\n",
        "\n",
        "*   Higher Dunn Index indicates well separated clusters.\n",
        "\n"
      ],
      "metadata": {
        "id": "opAXTp28vvfN"
      }
    },
    {
      "cell_type": "markdown",
      "source": [
        "Inertia : Sum of the squared distances between each datapoint and its centroid.\n",
        "* Lower Intertia indicates clusters are close together."
      ],
      "metadata": {
        "id": "KtHOQeezwATg"
      }
    },
    {
      "cell_type": "markdown",
      "source": [
        "Low Inertia + High Dunn Index = optimal cluster result."
      ],
      "metadata": {
        "id": "5ircc4uwwM_y"
      }
    },
    {
      "cell_type": "markdown",
      "source": [
        "#### Implementation K = 2 -> K = 10"
      ],
      "metadata": {
        "id": "l-9BPSbp2pBr"
      }
    },
    {
      "cell_type": "markdown",
      "source": [
        "k = 2"
      ],
      "metadata": {
        "id": "ngTLtAO1rwwN"
      }
    },
    {
      "cell_type": "code",
      "source": [
        "k = 2\n",
        "centroids = data[np.random.choice(range(len(data)), k, replace=False)]\n",
        "print('Initial centroids:\\n',centroids)\n",
        "def euclidean_distance(x1, x2):\n",
        "    return np.sqrt(np.sum((x1 - x2) ** 2))\n",
        "def assign_clusters(data, centroids):\n",
        "    clusters = []\n",
        "    for point in data:\n",
        "        distances = [euclidean_distance(point, centroid) for centroid in centroids]\n",
        "        cluster = np.argmin(distances)\n",
        "        clusters.append(cluster)\n",
        "    return clusters\n",
        "def update_centroids(data, clusters, centroids):\n",
        "    for i in range(k):\n",
        "        points = [data[j] for j in range(len(data)) if clusters[j] == i]\n",
        "        if len(points) > 0:\n",
        "            centroids[i] = np.mean(points, axis=0)\n",
        "max_iterations=100\n",
        "for i in range(max_iterations):\n",
        "    clusters = assign_clusters(data, centroids)\n",
        "    old_centroids = centroids.copy()\n",
        "    update_centroids(data, clusters, centroids)\n",
        "    if np.all(old_centroids == centroids):\n",
        "        break\n",
        "\n",
        "# Calculate inertia\n",
        "inertia = 0\n",
        "for i in range(k):\n",
        "    points = [data[j] for j in range(len(data)) if clusters[j] == i]\n",
        "    if len(points) > 0:\n",
        "        centroid = centroids[i]\n",
        "        distances = [euclidean_distance(point, centroid) ** 2 for point in points]\n",
        "        inertia += np.sum(distances)\n",
        "\n",
        "# Calculate Dunn index\n",
        "inter_cluster_distances = []\n",
        "for i in range(k):\n",
        "    points = [data[j] for j in range(len(data)) if clusters[j] == i]\n",
        "    centroid = centroids[i]\n",
        "    distances = [euclidean_distance(point, centroid) for point in points]\n",
        "    if len(distances) > 0:\n",
        "        inter_cluster_distances.append(max(distances))\n",
        "max_inter_cluster_distance = max(inter_cluster_distances)\n",
        "\n",
        "# Calculate intra-cluster distance\n",
        "intra_cluster_distances = []\n",
        "for i in range(k):\n",
        "    points = [data[j] for j in range(len(data)) if clusters[j] == i]\n",
        "    distances = []\n",
        "    for j in range(len(points)):\n",
        "        for l in range(j + 1, len(points)):\n",
        "            distances.append(euclidean_distance(points[j], points[l]))\n",
        "    if len(distances) > 0:\n",
        "        intra_cluster_distances.append(min(distances))\n",
        "min_intra_cluster_distance = min(intra_cluster_distances)\n",
        "\n",
        "dunn_index = min_intra_cluster_distance / max_inter_cluster_distance\n",
        "\n",
        "# Print results\n",
        "print('Final centroids:\\n', centroids)\n",
        "print('Inertia:', inertia)\n",
        "print('Dunn index:', dunn_index)\n"
      ],
      "metadata": {
        "colab": {
          "base_uri": "https://localhost:8080/"
        },
        "id": "GEDq9jPErLHX",
        "outputId": "ff4c636f-681e-44e7-8085-b46278e66fc6"
      },
      "execution_count": 28,
      "outputs": [
        {
          "output_type": "stream",
          "name": "stdout",
          "text": [
            "Initial centroids:\n",
            " [[2972507.   97235.]\n",
            " [4089545.  219113.]]\n",
            "Final centroids:\n",
            " [[1203214.7457265   149351.52991453]\n",
            " [3749565.84398496  154336.07518797]]\n",
            "Inertia: 493039335348780.4\n",
            "Dunn index: 0.0005783492218923254\n"
          ]
        }
      ]
    },
    {
      "cell_type": "markdown",
      "source": [
        "k = 3"
      ],
      "metadata": {
        "id": "PmH0ngjRr8qi"
      }
    },
    {
      "cell_type": "code",
      "source": [
        "k = 3\n",
        "centroids = data[np.random.choice(range(len(data)), k, replace=False)]\n",
        "print('Initial centroids:\\n',centroids)\n",
        "def euclidean_distance(x1, x2):\n",
        "    return np.sqrt(np.sum((x1 - x2) ** 2))\n",
        "def assign_clusters(data, centroids):\n",
        "    clusters = []\n",
        "    for point in data:\n",
        "        distances = [euclidean_distance(point, centroid) for centroid in centroids]\n",
        "        cluster = np.argmin(distances)\n",
        "        clusters.append(cluster)\n",
        "    return clusters\n",
        "def update_centroids(data, clusters, centroids):\n",
        "    for i in range(k):\n",
        "        points = [data[j] for j in range(len(data)) if clusters[j] == i]\n",
        "        if len(points) > 0:\n",
        "            centroids[i] = np.mean(points, axis=0)\n",
        "max_iterations=100\n",
        "for i in range(max_iterations):\n",
        "    clusters = assign_clusters(data, centroids)\n",
        "    old_centroids = centroids.copy()\n",
        "    update_centroids(data, clusters, centroids)\n",
        "    if np.all(old_centroids == centroids):\n",
        "        break\n",
        "\n",
        "# Calculate inertia\n",
        "inertia = 0\n",
        "for i in range(k):\n",
        "    points = [data[j] for j in range(len(data)) if clusters[j] == i]\n",
        "    if len(points) > 0:\n",
        "        centroid = centroids[i]\n",
        "        distances = [euclidean_distance(point, centroid) ** 2 for point in points]\n",
        "        inertia += np.sum(distances)\n",
        "\n",
        "# Calculate Dunn index\n",
        "inter_cluster_distances = []\n",
        "for i in range(k):\n",
        "    points = [data[j] for j in range(len(data)) if clusters[j] == i]\n",
        "    centroid = centroids[i]\n",
        "    distances = [euclidean_distance(point, centroid) for point in points]\n",
        "    if len(distances) > 0:\n",
        "        inter_cluster_distances.append(max(distances))\n",
        "max_inter_cluster_distance = max(inter_cluster_distances)\n",
        "\n",
        "# Calculate the intra-cluster distance \n",
        "intra_cluster_distances = []\n",
        "for i in range(k):\n",
        "    points = [data[j] for j in range(len(data)) if clusters[j] == i]\n",
        "    distances = []\n",
        "    for j in range(len(points)):\n",
        "        for l in range(j + 1, len(points)):\n",
        "            distances.append(euclidean_distance(points[j], points[l]))\n",
        "    if len(distances) > 0:\n",
        "        intra_cluster_distances.append(min(distances))\n",
        "min_intra_cluster_distance = min(intra_cluster_distances)\n",
        "\n",
        "dunn_index = min_intra_cluster_distance / max_inter_cluster_distance\n",
        "\n",
        "# Print results\n",
        "print('Final centroids:\\n', centroids)\n",
        "print('Inertia:', inertia)\n",
        "print('Dunn index:', dunn_index)\n"
      ],
      "metadata": {
        "colab": {
          "base_uri": "https://localhost:8080/"
        },
        "id": "VCIq0GESr-YT",
        "outputId": "27610901-99a5-4fa2-fdc8-f967b0f7d3d7"
      },
      "execution_count": 29,
      "outputs": [
        {
          "output_type": "stream",
          "name": "stdout",
          "text": [
            "Initial centroids:\n",
            " [[2176067.   92150.]\n",
            " [ 621589.  290157.]\n",
            " [2847231.  274787.]]\n",
            "Final centroids:\n",
            " [[2417741.31543624  151174.47986577]\n",
            " [ 815127.04761905  147591.29206349]\n",
            " [4084293.53488372  156232.70284238]]\n",
            "Inertia: 243116058190689.22\n",
            "Dunn index: 0.0008110648662184794\n"
          ]
        }
      ]
    },
    {
      "cell_type": "markdown",
      "source": [
        "k = 4"
      ],
      "metadata": {
        "id": "Ej9ssj5osBXR"
      }
    },
    {
      "cell_type": "code",
      "source": [
        "k = 4\n",
        "centroids = data[np.random.choice(range(len(data)), k, replace=False)]\n",
        "print('Initial centroids:\\n',centroids)\n",
        "def euclidean_distance(x1, x2):\n",
        "    return np.sqrt(np.sum((x1 - x2) ** 2))\n",
        "def assign_clusters(data, centroids):\n",
        "    clusters = []\n",
        "    for point in data:\n",
        "        distances = [euclidean_distance(point, centroid) for centroid in centroids]\n",
        "        cluster = np.argmin(distances)\n",
        "        clusters.append(cluster)\n",
        "    return clusters\n",
        "def update_centroids(data, clusters, centroids):\n",
        "    for i in range(k):\n",
        "        points = [data[j] for j in range(len(data)) if clusters[j] == i]\n",
        "        if len(points) > 0:\n",
        "            centroids[i] = np.mean(points, axis=0)\n",
        "max_iterations=100\n",
        "for i in range(max_iterations):\n",
        "    clusters = assign_clusters(data, centroids)\n",
        "    old_centroids = centroids.copy()\n",
        "    update_centroids(data, clusters, centroids)\n",
        "    if np.all(old_centroids == centroids):\n",
        "        break\n",
        "        \n",
        "# Calculate inertia\n",
        "inertia = 0\n",
        "for i in range(k):\n",
        "    points = [data[j] for j in range(len(data)) if clusters[j] == i]\n",
        "    if len(points) > 0:\n",
        "        centroid = centroids[i]\n",
        "        distances = [euclidean_distance(point, centroid) ** 2 for point in points]\n",
        "        inertia += np.sum(distances)\n",
        "\n",
        "# Calculate Dunn index\n",
        "inter_cluster_distances = []\n",
        "for i in range(k):\n",
        "    points = [data[j] for j in range(len(data)) if clusters[j] == i]\n",
        "    centroid = centroids[i]\n",
        "    distances = [euclidean_distance(point, centroid) for point in points]\n",
        "    if len(distances) > 0:\n",
        "        inter_cluster_distances.append(max(distances))\n",
        "max_inter_cluster_distance = max(inter_cluster_distances)\n",
        "\n",
        "intra_cluster_distances = []\n",
        "for i in range(k):\n",
        "    points = [data[j] for j in range(len(data)) if clusters[j] == i]\n",
        "    distances = []\n",
        "    for j in range(len(points)):\n",
        "        for l in range(j + 1, len(points)):\n",
        "            distances.append(euclidean_distance(points[j], points[l]))\n",
        "    if len(distances) > 0:\n",
        "        intra_cluster_distances.append(min(distances))\n",
        "min_intra_cluster_distance = min(intra_cluster_distances)\n",
        "\n",
        "dunn_index = min_intra_cluster_distance / max_inter_cluster_distance\n",
        "\n",
        "# Print results\n",
        "print('Final centroids:\\n', centroids)\n",
        "print('Inertia:', inertia)\n",
        "print('Dunn index:', dunn_index)\n",
        "\n"
      ],
      "metadata": {
        "colab": {
          "base_uri": "https://localhost:8080/"
        },
        "id": "Y6ykRfj1sGfT",
        "outputId": "29cb1703-6d6a-40f2-e4bb-630fa838b2da"
      },
      "execution_count": 26,
      "outputs": [
        {
          "output_type": "stream",
          "name": "stdout",
          "text": [
            "Initial centroids:\n",
            " [[4000709.  165248.]\n",
            " [4250151.  215749.]\n",
            " [3591491.  189655.]\n",
            " [4843714.  127546.]]\n",
            "Final centroids:\n",
            " [[1744187.20171674  148746.32188841]\n",
            " [3083801.34230769  160257.17692308]\n",
            " [ 579311.66964286  148139.24553571]\n",
            " [4310684.6254417   150160.27561837]]\n",
            "Inertia: 134807065726074.62\n",
            "Dunn index: 0.0010813334911792068\n"
          ]
        }
      ]
    },
    {
      "cell_type": "markdown",
      "source": [
        "k = 5 "
      ],
      "metadata": {
        "id": "6YORRsmWwkQM"
      }
    },
    {
      "cell_type": "code",
      "source": [
        "k = 5\n",
        "centroids = data[np.random.choice(range(len(data)), k, replace=False)]\n",
        "print('Initial centroids:\\n',centroids)\n",
        "def euclidean_distance(x1, x2):\n",
        "    return np.sqrt(np.sum((x1 - x2) ** 2))\n",
        "def assign_clusters(data, centroids):\n",
        "    clusters = []\n",
        "    for point in data:\n",
        "        distances = [euclidean_distance(point, centroid) for centroid in centroids]\n",
        "        cluster = np.argmin(distances)\n",
        "        clusters.append(cluster)\n",
        "    return clusters\n",
        "def update_centroids(data, clusters, centroids):\n",
        "    for i in range(k):\n",
        "        points = [data[j] for j in range(len(data)) if clusters[j] == i]\n",
        "        if len(points) > 0:\n",
        "            centroids[i] = np.mean(points, axis=0)\n",
        "max_iterations=100\n",
        "for i in range(max_iterations):\n",
        "    clusters = assign_clusters(data, centroids)\n",
        "    old_centroids = centroids.copy()\n",
        "    update_centroids(data, clusters, centroids)\n",
        "    if np.all(old_centroids == centroids):\n",
        "        break\n",
        "inertia = 0\n",
        "for i in range(k):\n",
        "    points = [data[j] for j in range(len(data)) if clusters[j] == i]\n",
        "    if len(points) > 0:\n",
        "        centroid = centroids[i]\n",
        "        distances = [euclidean_distance(point, centroid) ** 2 for point in points]\n",
        "        inertia += np.sum(distances)\n",
        "inter_cluster_distances = []\n",
        "for i in range(k):\n",
        "    points = [data[j] for j in range(len(data)) if clusters[j] == i]\n",
        "    centroid = centroids[i]\n",
        "    distances = [euclidean_distance(point, centroid) for point in points]\n",
        "    if len(distances) > 0:\n",
        "        inter_cluster_distances.append(max(distances))\n",
        "max_inter_cluster_distance = max(inter_cluster_distances)\n",
        "intra_cluster_distances = []\n",
        "for i in range(k):\n",
        "    points = [data[j] for j in range(len(data)) if clusters[j] == i]\n",
        "    distances = []\n",
        "    for j in range(len(points)):\n",
        "        for l in range(j + 1, len(points)):\n",
        "            distances.append(euclidean_distance(points[j], points[l]))\n",
        "    if len(distances) > 0:\n",
        "        intra_cluster_distances.append(min(distances))\n",
        "min_intra_cluster_distance = min(intra_cluster_distances)\n",
        "\n",
        "dunn_index = min_intra_cluster_distance / max_inter_cluster_distance\n",
        "\n",
        "\n",
        "print('Final centroids:\\n', centroids)\n",
        "print('Inertia:', inertia)\n",
        "print('Dunn index:', dunn_index)"
      ],
      "metadata": {
        "colab": {
          "base_uri": "https://localhost:8080/"
        },
        "id": "nfDYwPChsHya",
        "outputId": "3ebb0dfb-2c87-4fe3-c87c-2b6023ecd0b2"
      },
      "execution_count": 30,
      "outputs": [
        {
          "output_type": "stream",
          "name": "stdout",
          "text": [
            "Initial centroids:\n",
            " [[4892805.  289320.]\n",
            " [2709027.  275138.]\n",
            " [4256166.  279017.]\n",
            " [3659753.   95029.]\n",
            " [2225999.   87644.]]\n",
            "Final centroids:\n",
            " [[4510168.44041451  151778.26943005]\n",
            " [1592720.62385321  147537.28899083]\n",
            " [3647308.775       160930.805     ]\n",
            " [2710039.31182796  152474.54301075]\n",
            " [ 525462.3546798   147785.94581281]]\n",
            "Inertia: 88464072120466.7\n",
            "Dunn index: 0.0013127646084169864\n"
          ]
        }
      ]
    },
    {
      "cell_type": "markdown",
      "source": [
        "k = 6 "
      ],
      "metadata": {
        "id": "ybMvwB-Gw1sp"
      }
    },
    {
      "cell_type": "code",
      "source": [
        "k = 6\n",
        "centroids = data[np.random.choice(range(len(data)), k, replace=False)]\n",
        "print('Initial centroids:\\n',centroids)\n",
        "def euclidean_distance(x1, x2):\n",
        "    return np.sqrt(np.sum((x1 - x2) ** 2))\n",
        "def assign_clusters(data, centroids):\n",
        "    clusters = []\n",
        "    for point in data:\n",
        "        distances = [euclidean_distance(point, centroid) for centroid in centroids]\n",
        "        cluster = np.argmin(distances)\n",
        "        clusters.append(cluster)\n",
        "    return clusters\n",
        "def update_centroids(data, clusters, centroids):\n",
        "    for i in range(k):\n",
        "        points = [data[j] for j in range(len(data)) if clusters[j] == i]\n",
        "        if len(points) > 0:\n",
        "            centroids[i] = np.mean(points, axis=0)\n",
        "max_iterations=100\n",
        "for i in range(max_iterations):\n",
        "    clusters = assign_clusters(data, centroids)\n",
        "    old_centroids = centroids.copy()\n",
        "    update_centroids(data, clusters, centroids)\n",
        "    if np.all(old_centroids == centroids):\n",
        "        break\n",
        "inertia = 0\n",
        "for i in range(k):\n",
        "    points = [data[j] for j in range(len(data)) if clusters[j] == i]\n",
        "    if len(points) > 0:\n",
        "        centroid = centroids[i]\n",
        "        distances = [euclidean_distance(point, centroid) ** 2 for point in points]\n",
        "        inertia += np.sum(distances)\n",
        "inter_cluster_distances = []\n",
        "for i in range(k):\n",
        "    points = [data[j] for j in range(len(data)) if clusters[j] == i]\n",
        "    centroid = centroids[i]\n",
        "    distances = [euclidean_distance(point, centroid) for point in points]\n",
        "    if len(distances) > 0:\n",
        "        inter_cluster_distances.append(max(distances))\n",
        "max_inter_cluster_distance = max(inter_cluster_distances)\n",
        "intra_cluster_distances = []\n",
        "for i in range(k):\n",
        "    points = [data[j] for j in range(len(data)) if clusters[j] == i]\n",
        "    distances = []\n",
        "    for j in range(len(points)):\n",
        "        for l in range(j + 1, len(points)):\n",
        "            distances.append(euclidean_distance(points[j], points[l]))\n",
        "    if len(distances) > 0:\n",
        "        intra_cluster_distances.append(min(distances))\n",
        "min_intra_cluster_distance = min(intra_cluster_distances)\n",
        "\n",
        "dunn_index = min_intra_cluster_distance / max_inter_cluster_distance\n",
        "\n",
        "\n",
        "print('Final centroids:\\n', centroids)\n",
        "print('Inertia:', inertia)\n",
        "print('Dunn index:', dunn_index)"
      ],
      "metadata": {
        "colab": {
          "base_uri": "https://localhost:8080/"
        },
        "id": "lzdYAHLxw3LA",
        "outputId": "b9509108-bfd6-4c28-e35d-b277f6b7f893"
      },
      "execution_count": 31,
      "outputs": [
        {
          "output_type": "stream",
          "name": "stdout",
          "text": [
            "Initial centroids:\n",
            " [[2959518.  250817.]\n",
            " [1095067.  176237.]\n",
            " [2891705.   31339.]\n",
            " [1475239.    6828.]\n",
            " [3362165.  293165.]\n",
            " [4182979.  147345.]]\n",
            "Final centroids:\n",
            " [[2906531.68674699  151190.5060241 ]\n",
            " [ 411590.81875     147570.45625   ]\n",
            " [2030783.61428571  155282.93571429]\n",
            " [1260286.7245509   146363.65868263]\n",
            " [3745261.39690722  159134.34020619]\n",
            " [4555933.1734104   151676.34104046]]\n",
            "Inertia: 65882868131830.766\n",
            "Dunn index: 0.0016276753960671715\n"
          ]
        }
      ]
    },
    {
      "cell_type": "markdown",
      "source": [
        "k = 7"
      ],
      "metadata": {
        "id": "xKfToBKow7hj"
      }
    },
    {
      "cell_type": "code",
      "source": [
        "k = 7\n",
        "centroids = data[np.random.choice(range(len(data)), k, replace=False)]\n",
        "print('Initial centroids:\\n',centroids)\n",
        "def euclidean_distance(x1, x2):\n",
        "    return np.sqrt(np.sum((x1 - x2) ** 2))\n",
        "def assign_clusters(data, centroids):\n",
        "    clusters = []\n",
        "    for point in data:\n",
        "        distances = [euclidean_distance(point, centroid) for centroid in centroids]\n",
        "        cluster = np.argmin(distances)\n",
        "        clusters.append(cluster)\n",
        "    return clusters\n",
        "def update_centroids(data, clusters, centroids):\n",
        "    for i in range(k):\n",
        "        points = [data[j] for j in range(len(data)) if clusters[j] == i]\n",
        "        if len(points) > 0:\n",
        "            centroids[i] = np.mean(points, axis=0)\n",
        "max_iterations=100\n",
        "for i in range(max_iterations):\n",
        "    clusters = assign_clusters(data, centroids)\n",
        "    old_centroids = centroids.copy()\n",
        "    update_centroids(data, clusters, centroids)\n",
        "    if np.all(old_centroids == centroids):\n",
        "        break\n",
        "inertia = 0\n",
        "for i in range(k):\n",
        "    points = [data[j] for j in range(len(data)) if clusters[j] == i]\n",
        "    if len(points) > 0:\n",
        "        centroid = centroids[i]\n",
        "        distances = [euclidean_distance(point, centroid) ** 2 for point in points]\n",
        "        inertia += np.sum(distances)\n",
        "inter_cluster_distances = []\n",
        "for i in range(k):\n",
        "    points = [data[j] for j in range(len(data)) if clusters[j] == i]\n",
        "    centroid = centroids[i]\n",
        "    distances = [euclidean_distance(point, centroid) for point in points]\n",
        "    if len(distances) > 0:\n",
        "        inter_cluster_distances.append(max(distances))\n",
        "max_inter_cluster_distance = max(inter_cluster_distances)\n",
        "intra_cluster_distances = []\n",
        "for i in range(k):\n",
        "    points = [data[j] for j in range(len(data)) if clusters[j] == i]\n",
        "    distances = []\n",
        "    for j in range(len(points)):\n",
        "        for l in range(j + 1, len(points)):\n",
        "            distances.append(euclidean_distance(points[j], points[l]))\n",
        "    if len(distances) > 0:\n",
        "        intra_cluster_distances.append(min(distances))\n",
        "min_intra_cluster_distance = min(intra_cluster_distances)\n",
        "\n",
        "dunn_index = min_intra_cluster_distance / max_inter_cluster_distance\n",
        "\n",
        "\n",
        "print('Final centroids:\\n', centroids)\n",
        "print('Inertia:', inertia)\n",
        "print('Dunn index:', dunn_index)"
      ],
      "metadata": {
        "colab": {
          "base_uri": "https://localhost:8080/"
        },
        "id": "9OXX4t3Ew8yT",
        "outputId": "ae94d325-c927-4a73-a16b-3147a525dd0d"
      },
      "execution_count": 32,
      "outputs": [
        {
          "output_type": "stream",
          "name": "stdout",
          "text": [
            "Initial centroids:\n",
            " [[3647621.   13454.]\n",
            " [4542203.  213504.]\n",
            " [1641046.  116965.]\n",
            " [2793856.  184421.]\n",
            " [ 850286.  282875.]\n",
            " [4328701.  160269.]\n",
            " [1904497.   80547.]]\n",
            "Final centroids:\n",
            " [[3392370.51111111  168333.48148148]\n",
            " [4657062.5530303   150060.84090909]\n",
            " [1039428.15328467  143552.65693431]\n",
            " [2676511.          155867.50331126]\n",
            " [ 331464.41221374  148569.82442748]\n",
            " [4007890.67549669  150247.1986755 ]\n",
            " [1779160.1595092   147960.58895706]]\n",
            "Inertia: 47962428457199.29\n",
            "Dunn index: 0.001609282874805485\n"
          ]
        }
      ]
    },
    {
      "cell_type": "markdown",
      "source": [
        "k = 8"
      ],
      "metadata": {
        "id": "JbwiTTPKw9LX"
      }
    },
    {
      "cell_type": "code",
      "source": [
        "k = 8\n",
        "centroids = data[np.random.choice(range(len(data)), k, replace=False)]\n",
        "print('Initial centroids:\\n',centroids)\n",
        "def euclidean_distance(x1, x2):\n",
        "    return np.sqrt(np.sum((x1 - x2) ** 2))\n",
        "def assign_clusters(data, centroids):\n",
        "    clusters = []\n",
        "    for point in data:\n",
        "        distances = [euclidean_distance(point, centroid) for centroid in centroids]\n",
        "        cluster = np.argmin(distances)\n",
        "        clusters.append(cluster)\n",
        "    return clusters\n",
        "def update_centroids(data, clusters, centroids):\n",
        "    for i in range(k):\n",
        "        points = [data[j] for j in range(len(data)) if clusters[j] == i]\n",
        "        if len(points) > 0:\n",
        "            centroids[i] = np.mean(points, axis=0)\n",
        "max_iterations=100\n",
        "for i in range(max_iterations):\n",
        "    clusters = assign_clusters(data, centroids)\n",
        "    old_centroids = centroids.copy()\n",
        "    update_centroids(data, clusters, centroids)\n",
        "    if np.all(old_centroids == centroids):\n",
        "        break\n",
        "inertia = 0\n",
        "for i in range(k):\n",
        "    points = [data[j] for j in range(len(data)) if clusters[j] == i]\n",
        "    if len(points) > 0:\n",
        "        centroid = centroids[i]\n",
        "        distances = [euclidean_distance(point, centroid) ** 2 for point in points]\n",
        "        inertia += np.sum(distances)\n",
        "inter_cluster_distances = []\n",
        "for i in range(k):\n",
        "    points = [data[j] for j in range(len(data)) if clusters[j] == i]\n",
        "    centroid = centroids[i]\n",
        "    distances = [euclidean_distance(point, centroid) for point in points]\n",
        "    if len(distances) > 0:\n",
        "        inter_cluster_distances.append(max(distances))\n",
        "max_inter_cluster_distance = max(inter_cluster_distances)\n",
        "intra_cluster_distances = []\n",
        "for i in range(k):\n",
        "    points = [data[j] for j in range(len(data)) if clusters[j] == i]\n",
        "    distances = []\n",
        "    for j in range(len(points)):\n",
        "        for l in range(j + 1, len(points)):\n",
        "            distances.append(euclidean_distance(points[j], points[l]))\n",
        "    if len(distances) > 0:\n",
        "        intra_cluster_distances.append(min(distances))\n",
        "min_intra_cluster_distance = min(intra_cluster_distances)\n",
        "\n",
        "dunn_index = min_intra_cluster_distance / max_inter_cluster_distance\n",
        "\n",
        "\n",
        "print('Final centroids:\\n', centroids)\n",
        "print('Inertia:', inertia)\n",
        "print('Dunn index:', dunn_index)"
      ],
      "metadata": {
        "colab": {
          "base_uri": "https://localhost:8080/"
        },
        "id": "Jb2AebA1w-S7",
        "outputId": "4c9b624b-5a60-4914-e36e-e25a1d603bd6"
      },
      "execution_count": 33,
      "outputs": [
        {
          "output_type": "stream",
          "name": "stdout",
          "text": [
            "Initial centroids:\n",
            " [[ 659957.  176629.]\n",
            " [4092631.   54574.]\n",
            " [2451024.  156764.]\n",
            " [3399742.  299383.]\n",
            " [4128991.   71837.]\n",
            " [ 131042.   72305.]\n",
            " [4843791.  104920.]\n",
            " [2650036.   55689.]]\n",
            "Final centroids:\n",
            " [[ 989358.55223881  141938.82089552]\n",
            " [3520134.22058824  168116.18382353]\n",
            " [1657983.75182482  150840.2189781 ]\n",
            " [2889820.8699187   149665.89430894]\n",
            " [4072303.81746032  147861.52380952]\n",
            " [ 309753.20325203  146953.75609756]\n",
            " [4664226.92248062  152921.46511628]\n",
            " [2294285.77173913  158836.48913043]]\n",
            "Inertia: 37867884928564.51\n",
            "Dunn index: 0.0021003500785637987\n"
          ]
        }
      ]
    },
    {
      "cell_type": "markdown",
      "source": [
        "k = 9"
      ],
      "metadata": {
        "id": "xqcAAdjWw-jB"
      }
    },
    {
      "cell_type": "code",
      "source": [
        "k = 9\n",
        "centroids = data[np.random.choice(range(len(data)), k, replace=False)]\n",
        "print('Initial centroids:\\n',centroids)\n",
        "def euclidean_distance(x1, x2):\n",
        "    return np.sqrt(np.sum((x1 - x2) ** 2))\n",
        "def assign_clusters(data, centroids):\n",
        "    clusters = []\n",
        "    for point in data:\n",
        "        distances = [euclidean_distance(point, centroid) for centroid in centroids]\n",
        "        cluster = np.argmin(distances)\n",
        "        clusters.append(cluster)\n",
        "    return clusters\n",
        "def update_centroids(data, clusters, centroids):\n",
        "    for i in range(k):\n",
        "        points = [data[j] for j in range(len(data)) if clusters[j] == i]\n",
        "        if len(points) > 0:\n",
        "            centroids[i] = np.mean(points, axis=0)\n",
        "max_iterations=100\n",
        "for i in range(max_iterations):\n",
        "    clusters = assign_clusters(data, centroids)\n",
        "    old_centroids = centroids.copy()\n",
        "    update_centroids(data, clusters, centroids)\n",
        "    if np.all(old_centroids == centroids):\n",
        "        break\n",
        "inertia = 0\n",
        "for i in range(k):\n",
        "    points = [data[j] for j in range(len(data)) if clusters[j] == i]\n",
        "    if len(points) > 0:\n",
        "        centroid = centroids[i]\n",
        "        distances = [euclidean_distance(point, centroid) ** 2 for point in points]\n",
        "        inertia += np.sum(distances)\n",
        "inter_cluster_distances = []\n",
        "for i in range(k):\n",
        "    points = [data[j] for j in range(len(data)) if clusters[j] == i]\n",
        "    centroid = centroids[i]\n",
        "    distances = [euclidean_distance(point, centroid) for point in points]\n",
        "    if len(distances) > 0:\n",
        "        inter_cluster_distances.append(max(distances))\n",
        "max_inter_cluster_distance = max(inter_cluster_distances)\n",
        "intra_cluster_distances = []\n",
        "for i in range(k):\n",
        "    points = [data[j] for j in range(len(data)) if clusters[j] == i]\n",
        "    distances = []\n",
        "    for j in range(len(points)):\n",
        "        for l in range(j + 1, len(points)):\n",
        "            distances.append(euclidean_distance(points[j], points[l]))\n",
        "    if len(distances) > 0:\n",
        "        intra_cluster_distances.append(min(distances))\n",
        "min_intra_cluster_distance = min(intra_cluster_distances)\n",
        "\n",
        "dunn_index = min_intra_cluster_distance / max_inter_cluster_distance\n",
        "\n",
        "\n",
        "print('Final centroids:\\n', centroids)\n",
        "print('Inertia:', inertia)\n",
        "print('Dunn index:', dunn_index)"
      ],
      "metadata": {
        "colab": {
          "base_uri": "https://localhost:8080/"
        },
        "id": "4abBfOzNw_pw",
        "outputId": "6aa25379-c8f2-4b6b-d015-89ecba5eb805"
      },
      "execution_count": 34,
      "outputs": [
        {
          "output_type": "stream",
          "name": "stdout",
          "text": [
            "Initial centroids:\n",
            " [[2549036.  188593.]\n",
            " [3281446.  256946.]\n",
            " [1200872.   19054.]\n",
            " [ 116529.  258383.]\n",
            " [4401570.  166119.]\n",
            " [1884792.  217586.]\n",
            " [3899205.   97920.]\n",
            " [ 796109.  263648.]\n",
            " [4729357.  108776.]]\n",
            "Final centroids:\n",
            " [[2543076.50505051  158742.76767677]\n",
            " [3063351.50485437  154648.23300971]\n",
            " [1434135.18518519  145805.05555556]\n",
            " [ 285593.05263158  144304.5877193 ]\n",
            " [4109936.26446281  151731.44628099]\n",
            " [1931052.39393939  144614.14141414]\n",
            " [3593927.28455285  160911.79674797]\n",
            " [ 883710.96363636  152113.34545455]\n",
            " [4678063.46341463  154149.69918699]]\n",
            "Inertia: 32394635949641.062\n",
            "Dunn index: 0.0022319904300779087\n"
          ]
        }
      ]
    },
    {
      "cell_type": "markdown",
      "source": [
        "k = 10"
      ],
      "metadata": {
        "id": "raFUYyZtw_1a"
      }
    },
    {
      "cell_type": "code",
      "source": [
        "k = 10\n",
        "centroids = data[np.random.choice(range(len(data)), k, replace=False)]\n",
        "print('Initial centroids:\\n',centroids)\n",
        "def euclidean_distance(x1, x2):\n",
        "    return np.sqrt(np.sum((x1 - x2) ** 2))\n",
        "def assign_clusters(data, centroids):\n",
        "    clusters = []\n",
        "    for point in data:\n",
        "        distances = [euclidean_distance(point, centroid) for centroid in centroids]\n",
        "        cluster = np.argmin(distances)\n",
        "        clusters.append(cluster)\n",
        "    return clusters\n",
        "def update_centroids(data, clusters, centroids):\n",
        "    for i in range(k):\n",
        "        points = [data[j] for j in range(len(data)) if clusters[j] == i]\n",
        "        if len(points) > 0:\n",
        "            centroids[i] = np.mean(points, axis=0)\n",
        "max_iterations=100\n",
        "for i in range(max_iterations):\n",
        "    clusters = assign_clusters(data, centroids)\n",
        "    old_centroids = centroids.copy()\n",
        "    update_centroids(data, clusters, centroids)\n",
        "    if np.all(old_centroids == centroids):\n",
        "        break\n",
        "inertia = 0\n",
        "for i in range(k):\n",
        "    points = [data[j] for j in range(len(data)) if clusters[j] == i]\n",
        "    if len(points) > 0:\n",
        "        centroid = centroids[i]\n",
        "        distances = [euclidean_distance(point, centroid) ** 2 for point in points]\n",
        "        inertia += np.sum(distances)\n",
        "inter_cluster_distances = []\n",
        "for i in range(k):\n",
        "    points = [data[j] for j in range(len(data)) if clusters[j] == i]\n",
        "    centroid = centroids[i]\n",
        "    distances = [euclidean_distance(point, centroid) for point in points]\n",
        "    if len(distances) > 0:\n",
        "        inter_cluster_distances.append(max(distances))\n",
        "max_inter_cluster_distance = max(inter_cluster_distances)\n",
        "intra_cluster_distances = []\n",
        "for i in range(k):\n",
        "    points = [data[j] for j in range(len(data)) if clusters[j] == i]\n",
        "    distances = []\n",
        "    for j in range(len(points)):\n",
        "        for l in range(j + 1, len(points)):\n",
        "            distances.append(euclidean_distance(points[j], points[l]))\n",
        "    if len(distances) > 0:\n",
        "        intra_cluster_distances.append(min(distances))\n",
        "min_intra_cluster_distance = min(intra_cluster_distances)\n",
        "\n",
        "dunn_index = min_intra_cluster_distance / max_inter_cluster_distance\n",
        "\n",
        "\n",
        "print('Final centroids:\\n', centroids)\n",
        "print('Inertia:', inertia)\n",
        "print('Dunn index:', dunn_index)"
      ],
      "metadata": {
        "colab": {
          "base_uri": "https://localhost:8080/"
        },
        "id": "wKDMfF_FxA9Z",
        "outputId": "7c5ce61f-a4cb-4664-c5bc-e3edad83b494"
      },
      "execution_count": 35,
      "outputs": [
        {
          "output_type": "stream",
          "name": "stdout",
          "text": [
            "Initial centroids:\n",
            " [[3.902300e+06 7.024700e+04]\n",
            " [1.360551e+06 2.481350e+05]\n",
            " [3.764320e+06 4.540000e+02]\n",
            " [4.111887e+06 1.905620e+05]\n",
            " [1.043558e+06 3.607200e+04]\n",
            " [4.341710e+05 2.814250e+05]\n",
            " [1.815043e+06 1.989640e+05]\n",
            " [2.587509e+06 1.460520e+05]\n",
            " [2.309293e+06 3.434700e+04]\n",
            " [2.910584e+06 3.354700e+04]]\n",
            "Final centroids:\n",
            " [[4085705.18032787  152324.17213115]\n",
            " [1358639.19512195  143564.17073171]\n",
            " [3581107.18803419  161752.05128205]\n",
            " [4666496.6953125   153152.578125  ]\n",
            " [ 876224.81308411  153085.3364486 ]\n",
            " [ 285593.05263158  144304.5877193 ]\n",
            " [1759289.96703297  144583.6043956 ]\n",
            " [2648574.86419753  152452.40740741]\n",
            " [2199465.640625    161928.234375  ]\n",
            " [3085090.96808511  153393.22340426]]\n",
            "Inertia: 28760132506540.406\n",
            "Dunn index: 0.0022290597138992434\n"
          ]
        }
      ]
    },
    {
      "cell_type": "markdown",
      "source": [
        "#### Table and Optimal K "
      ],
      "metadata": {
        "id": "QNTb67Jk20me"
      }
    },
    {
      "cell_type": "markdown",
      "source": [
        "![Q1Table.png](data:image/png;base64,iVBORw0KGgoAAAANSUhEUgAAA8AAAAE9CAYAAADERQt1AAAAAXNSR0IArs4c6QAAAARnQU1BAACxjwv8YQUAAAAJcEhZcwAADsMAAA7DAcdvqGQAALeWSURBVHhe7b0LtF1Vfe8/994nD+QVhBASgQSjETgUSVBbIlhIGxWxiDg6BDqGBnupaCsdlzaR2yt0VLijvUG5V6xU26EEOwbE3iEILWKlDQzF0GolyN/wNBIeEiKvhGceZ+/9X5+ZPQ/rzDPneu19ztkn5/sZY4/9WmvN+Zuv9fvN32/OVVu0aFHbCCGEEEIIIYQQezn1zrsQQgghhBBCCLFXIwNYCCGEEEIIIcSUQAawEEIIIYQQQogpgQxgIYQQQgghhBBTAhnAQgghhBBCCCGmBDKAhRBCCCGEEEJMCWQACyGEEEIIIYSYEsgAFkIIIYQQQggxJZABLIQQQgghhBBiSiADWAghhBBCCCHElEAGsBBCCCGEEEKIKYEMYCGEEEIIIYQQUwIZwEIIIYQQQgghpgQygIUQQgghhBBCTAlkAAshhBBCCCGEmBLIABZCCCGEEEIIMSWQASyEEEIIIYQQYkogA1gIIYQQQgghxJSgtmjRonbn87hw7733dj4JIYQQQgghhJiKnHDCCZ1P48uEGMATJawQQpRhw4YNZsmSJabdHtdhUgghKiEdSwgxWZjI8Uoh0EIIIYQQQgghpgQygIUQQgghhBBCTAlkAAshhBBCCCGEmBLIABZCCCGEEEIIMSWQASyEEEIIIYQQYkogA1gIIcSE8sUvftHuBrl8+fLOL0IIIYQQY0PfG8AoRChGa9eu7fzyOn/1V39l/7vmmms6vwghxMSyePFiOy75rzvvvNOsWbPG/j8ZWb9+vbn77rtNrVbr/NJ7Dj744M4nIcR4kNaxxrJv94KrrrrK5vXzn/985xchhKhG3xvATiGaOXOmfXdceOGF5kMf+pDZsmWLufzyyzu/CiHExPK2t73Nvm/bts2sW7du+PXaa6/Z591de+21VpHrd2XTZ5999rEvIcTeQ0zHmigwyHn+OmOkEEKMFZMyBJoB8mMf+5hVKP/n//yf1ggWQoh+AgP44osvHn6dfvrp5m/+5m/suLVs2TLzyU9+snOkEEIIyIoCYRxlEvGyyy7r/CKEENWYdAbw3Llz7SD4hje8wfzlX/6lueeeezr/CCFEf0OY4Ze+9CXTbrfNOeecM+m8wEIIIYQQk51JZwD/n//zf6wRfP3115vvf//7nV+FEGJygBFM1MqsWbPMRz/60c6vxq6v5eWDoUxIYHrdG7+xFo53fmd9sVtnHAqvdmvnGDvZM4F0+H7bbbfZ5SRVKXtd/zjyy3GxiQDWS7Nu2h3PO9/nzZvXOWJPefIfZZGGdEK/CyHy+c53vmNf9EHXx3jxObRZHX2b8cCNRbFj02OX66P0a4674447zCWXXGLHA6Jk3HX8l9+nV61aZfPq/nfjoBBCxJhUBjAD2tFHH203Y7nyyis7vwohxOTigQcesO/vete77DvkrbHdb7/9Op9e5+Mf/7g588wzzebNm+064xkzZljFceXKlZ0jRvKNb3zDKrQY1IyjKK0YoEuWLOkcUY2i1/27v/s7s3TpUrN161ab36effjqaPgoxCjJrqrkuxz/22GM2BPLrX//6sNHMZ+A6pAsoyKTz4IMPmm9961v2NyFEOZikow8edthhtv/Rn9DBWHqWnrSi3zEGMPa4sQhDdP78+XaCLtS/GbsYMxgvHnroIfsbE2ecB+466Re/+bAZ6nnnnWfHPncckBcZwUKIGJPGAJ4zZ44d0FhX9+lPf9qGEAohxFQGBRVjd8WKFXZpCGvjGBtPO+20zhGjOfvss+0Yyuvmm2+2v/23//bf7Hs35F0Xo3TBggVWiT3rrLNsfvntq1/9qlVeff74j//YviMT13THc20Ubmfk33777VbpdWUBGMOsteYc3SuEqAZ9CuP01FNPHe5/GMH8nt7DgH5HnyQyz41FvNN32VzroosuGhXlwfGub3Ms/Xj16tXme9/7nu2zv/zlL+110i9+82EykfTZY8Edd+6559r/jjnmGPsuhBA+k8YAxmOA4sTAqy3whRBiT9g0iqODz4RXO0+oz3XXXTdi00CMT5TNdEhxFYpc9z3veY99R8FNw7H+Xg7kH2OZCU82xUHxdi+nSPO/A6WX9JkkJUSa+8RNN91knnrqqc4RQogqYJymIbwYFi1aNNwXnaH5+OOPj+irbkMrHBg+eH7TY1dVCLP2r8NYgL4YGweFEGJShUB/6lOfsrP6hPy9973v7fwqhBCTk5dffrnzqXfs3Lmz8ymftNHaS0LXdcYwRq3Pjh07Op/28Nu//dv2HQWWNYHpF+M/vPGNb7TvDoxwIEQa5RdvkhCit9B//agKZ2j6fZUXRjITUj5+n+8GQqkJd8YYdmuXQ0a3EEI4JpUBjFLFDqrwF3/xF117LYQQYiJwHpO77rrLvoswjPk8Oir0+t//+393jtpDWsnms7w/QowvoX7Kyy3NGAvYAItnqxP9wfpkIkN46ZnlQogsJpUBDMzwufVezPj560qEEKKfYXMnjDM8KenQPaJb9mZcOHLIG8Q6wTRuUxy82Yz5oRcbYzkoTzbVoUzT64F1fxBi7HFRHaF+yqsXoc4x2E8AWH/MOmAiQFwUiBBCxJh0BjCw3uvRRx+1s33sACiEEJMBjF+3gyqKYdorwj4HwNo5B8dj2O0NhpxTSNlQJw0enHe/+92db3vAuEWpxpOTLg8Hm1wR9ujg8Xh4fFhPzP2Bc/EIUX5CiLHF9e3Qrsv0wVAfjvHcc8/Z96IRfvR7IkVY8uCWXjA2hCbahBDCMSkNYGAjrFdffdWuB5OSI4ToN1yUinuxLo3Ht/E73gqMtTRsCgN/+qd/ah89wmtv2vDPKahMXFIWrkx4hIlTXNO48mEdIRtbuXJ0zxiePXu2/Z/PXJPHpzCpAO7c//7f/7u8wEKMMf/jf/wPG8HCpJPr27zoj4x5xx57bOfIfPAWcy36tBsH6eMx3GZXLl3GCs4J7SwvhBCOvjeA3Wygv2ECHoJvfvOb9jMz/kII0Q+48F0MXRRC90Ihw8g9//zzgxs08dstt9xiw355hi1KI7s8o9ThKQ5tmBXbRCsWTu3GU58iG9JwzW6v+4lPfMIaqnh2XZmwRvAnP/mJ/T99HZRnwph57ArPAub4k046yWzfvt2e8/3vf98eh4ecfKGEOzjXPY9YUUJCxInpWBDr78DY4yJYmMDiMWj07fS4x9IGJvtYA+yTtQEguh1RHIyDeHNdiHXoHB6jRLpsekWajC0Y0YydWfkXQkxtaosWLRrXhyQyULE+Qwgh+h0m2pYsWTJmG7gIIUQvkY4lhJgsTOR4NWlDoIUQQgghhBBCiDLIABZCCCGEEEIIMSWQASyEEEIIIYQQYkogA1gIIYQQQgghxJRABrAQQgghhBBCiCnBhOwCLYQQQgghhBBi6jJRu0DrMUhCCBGh7GOQBgcf7nwSQojRbNy4qPNpbCijY2m8EqL3jHUf35vQY5CEEEIIIYQQQogxRgawEEIIIYQQQogpgQxgIYQQQgghhBBTAhnAQgghxBRiSevQzichhBBi6qFNsIQQIkK3m2Cd21xk3tecbw4w082LZpf5ef0584WBezr/9oZlrSPMh5sLzZva+5qdpmk21bebrzV+bp6ovdQ5YjR/PrTEnJgYQTNMwzxbe83cUX/S3NCIb4hzRHt/88nmcebY1hvt90217ea2xmNmXf0J+93n27vOMLXO5zSUwYrpt3e+7YG8LG3N7Xwbza9qr5jPTLuz820knHtc62Bbvsi+MSnfKwZ+0vl3NH/YHDRHtw4yC9sH2u9l6+SKoZNsGZCni5I8xVpFunyLpEE7Oa11uDmkvY/9fn/9eXNjfZO5p/5r+z2EL/tPk2O/1XgkWu/U4XtbRw7Lf/b0Wzv/xPHzRb1fPfCzwm2riOy039OTPuLqhLK9vf64uaXxS/vdB+P9A6355i2tWVZ2yGuPZdPIapO3Njabrzc2dr6FIY+fG3qn/bym8cCIdCbDJlhZ+U+THnsgrx6q1B2k21TeeEU7/1DzKHN8+5DhdltkjCvTbqukUVb2M5tvNiuax3S+jYTx4XMDd3e+vU5V2R1F673MuPDl3acOt48Q6+tbguXs91nkWJuMb1ntpOx9qlu4n5zRXGA/p8dTbYJVnIm0CWUACyFEhG4MYGdsOcXA3ZyfNq+Yvx24r3NUd6AknNN8q/lqYvA6Y+lPho4389sHmJXT7rLffTDitiUmk1M6UHouTPIVUy7I96WJUvQv9c3DChHK2QdbC8zlibEZUnowgK/LUKDSkN+ZZiCoBKGUIkvIAEZR4zxnKJLPjzePNge2ZwRlv3L3yfb9h/WnhvPlFLnHExmyDGdAZo7HyJ6TKHQxA5h8HZnkxZUX5bssSWNmoliH0qCd/G7zCPNvjSesYeUU5cHEuL0yKZOQEUwdHpoony4NZ4jMMHXzR9PWdY56HY6f0W6YB+svmFfNbvP7SZvJM4Bd2aTbBXk9pTnPXDrtP4L1XlZ28n3B0OCw8Q4o8O9uzbPn+0q7O56y2lB7xpaNSwPjJVReZdOArHZXhKsTpf/x2ovWiPYNiclgAGO0PBbJv4NyX5mUU3rihTbD7yGjo0rdQdnx6oZd77d5uqf+jP2fcYGJH/pYrL7LttuyaVSR3RnAH5l+a3Sizef6JF9cp4zsaYrUe9lxgXE3Peamcf3EH/spm4uG3m7+NWlHLs+Ux9nJGPfNgQeD9V7lPtUNpPe/d7/bljflJQO4GhNpE06KEOhzzjnHrF271tx99922sO68805z1VVXmVot5GMQQoiJhZsjCkF6Vpx3Zu3f0Zpjla1egNHDDT+tPGFcozBx8/fhNwzEtMLBuSgzXCvERxNj6eHathEKDJ/vqz1r/+sW8hsyfmFO+w1ma+2VzrfXQUHihafbyU75oqzOTgxDFE4fjGJeaTlQrpg84FpZdxPqE+WLc3eYZufX0bh8cU2XDvlz8vl1wnVRTsmH8ypyPHL8or7dnN0aXSdcY2HrQKvUuTRQCDHWpidGLsqoD+0O2UnjFTPU+TWb9zbnW89RWtnk/CfrL1sD0qes7ECbw5DgGOqPF+0BQ4HICR/ycu7079l8uHp3aRD5gEHhk5dGr7WIPRM6dfPFjtyTDfLPRIqrtxgfTtomZe7KFWjHjHmhsaRK3eWNV6G6Iw2Od+2WvJEm9b20NW/UOVXabV4aPlVkr8J5JfOVpmi902fKjAv+mJvmkPZM86vay51vr8O494v6thEGO9f4YeMp6xUOMdb3KZ/PJAb6/fXnbJpictL3BvCFF15oLrnkEnPYYYdZA3j9+vVmxowZZtmyZebaa6+VESyE6DuYdUchcIphGn4/M6AolAWlbf/2tKBy8VD9BXNKQOF5V3uOubf+TOfb66DMcK2Q4UiY7bpE4fFZX3/aei/GCoxDwt9Ix+fw9n42jDVUvi/VdidlM7vzrTegQHHdtEIWwuXLKblp7qs9Z8s/zeIkny/VdgXr8Ce1rVb591nUnmW90CHZCds8KHBOFQjTXBuQF2/c29p7QgzTlJUdCI10Xtk0KNQuTLRbstLYv0dpOGizeJaZlBrX0Loekc5/HrTNHydt1Me1S8anbskbr04LjFdlqdJu9zbK1Dv9MjQOunGhqEaOJ5ljQ2MMbYuy93nGvGbvCaE0xvM+xaTIEUm7+Wbjwc4vYjLS9wbwokWLzLp168ypp55qLr74YvPpT3/aXHbZZTYkEbf54sWLO0cKIUR/gBGCQhCC3wmv7BYUN4yyECgK/O+DYsF/IbjWsa2DOt9eB4UnpBzyG+vlQkYzHN8+2Pz97mXmxl1n2BehjChaRWESgbV4aU+D48nay9Z7EAIvBiGARUCRIZwSWWIGC/KhQF3buL/zS3UOb42sEwzfUMgyYOjuCHhr8dCEwjKBdhU6pwqUfcjAICz0odrznW/F8WUHwgZDhjz1wrrmItCmCFnGKx5SgLPS2JWRBu2INku4K+13za7lVmnPgrBNJidCExqTAbxavcr/4nb+JFRe3VUZr0IQFUGkxfr6U6UnJkLtNkQ6jSLkye74s+QY2h5tkLbIOWUokq8y7ZZxITTmu3GhaPkOJvcHvN+h47fXdpojA/evfc2AXdcbOifrPjU94z5VFuqN6APKiqUzYvLS9wYwRi+vNLfffrvZsmWL/YyBLIQQ/cSsRH3OgrWr3cauzDZ7NiCJgXHqg9ckC/KVpogXZ7/ANTFeuBahihggfzrtB9bwZ41WUSOY9dN4y0Og1BDWh4GSBmUPpSRkNKdxCiVr7AiRixmUwBrrPev9RitXPhjmeBxD5XZya15hrybKGh4N1lIWBdkx2m5uPNr5pTv+ceBBq+il64t8YZSE0siSnWiEorKTHuv2qN8skJc6/NLu99jJgtga0hCkcUYnjZAyzSQC4eSP1l40q6b9yLbhGxub7NpH0g2Bccyk03WT1CtE/vFqFc0/RkrIO0oboR1kRSIUrbuy41Ua2iFp8HLLDEKey276bNE00hSV/eXEwHeTQISV0wY5lmUh/rjnUyZfZdsta3DLjAsxMPzpXyFY2oI3OW20kh5yhcbEUN35hO5TVWCfCeom5LkWkws9BkkIIXoMysBYUyXUtagR4gh5kYvAWjTWnTpDFA8cnstf114LrhMLQdobA2Fwju/XH7flzMYteEbYyOY3W3PMd+v5RiM7UWP0rq9vsWuyY0YN6+Igb12cA0WWF15lt3YQBRNP+K5aMY8mSt8FQ4N2vVueIe8g/yi6TDiEvJ1VIG3WXzNpwYQBSvfHho62G9qE0siSfWdB2VFySY92QohyFvyPUfD/Epl3mpY5v3nsCKU8hkvjmYw0WCNMG+F/JyseH9aJUs4+XJO1kRzTq/IfT8g/a77L5P+m+iZrxOCR5HyMED7TdvHSZVG07sqOV2loi6RBXeJpZA1/2qBydNNni6aRpqjs9D+31ph0gHfW1OKVzkqnaL6qtNuy40II8sIELTuxh+A6eKy5LvXAGL9q6MQk3VeDY2LV+1RZyDebExINVDaSQPQfk9IAnjt3rn3BD37wA/suhBD9At6RseaFCmkQvlYGvCO9JLZ+1AcFFLK8KRi8KFBs/oSiiEGLAcjOtCGF0gclEeUSjwaPsvC9CHxnXRzXLAP5YGMUlE48MCiYfGdCIE9pQsG6oLNbbMw483HG7z8MbCxsMBeB8mXDL0K0MQbJP7u8IpczFHyyZM+DOnPGb5HjHbQR2gBeW3ZZz6JqGg7aDIq7Lz9eIQzqPO9fv0L+ecxMmfxTFrQ5PJJ4M2kvfOY3DJUi5NVd2fEqBH2Cuv6v+lZrUIUib7ppt+CnUYQy7dan6D4Hefmq0m6rjAs+S1uH2UmSWAgx4z+bdnF90qGceB2atK9QCHiv71MxiAb6UWKY0/bF5GdSGsArV660m1+xI7QLhRZCiH4htv7XgdLT7QxybG2cI7SGMrZm2EG+0hS50RMO1mvc+rAYKFoosngu0qDwPVvbYdcPF4Vz2AQHpSwNXgWMHbzAKMXuxSMvCJm8dtfyaBg7hjXKG14Y3vlOnl/KUOhR+lBSMSCKGr8og3i9CdNFjl6yuHWo+SfP+Mczw0ZbWRsDxWTPMmYw/DFM/zNR1IsaHT54oPBIxuqkF2nE4LFYbM6Tbie8gDD7WIRBv1A1/7Q5PJLUNS8+8xtr0ctM0MXqrux4lQXeUDY9i22cVaXd+pAGXmvaWlGc7GNJLF+HVqh3xgV/U7ki40IanoXMI9liYPyG1izflfzG0hC/nYzXfYrnHlOG6bKinIDPRUKxRf8w6Qzg5cuX2x2gX3vtNfMXf/EXhZ/PKYQQ4wXKX2yjK7wkPGuxW9zatRBsIBKaFcczzbqzEGwqdX9AKUEBDM3sowhgZJcxvNgopYh3HIUwK/yZzVAIHwzB9auEh/vrCTGunWKffq2vb7EG8/mJklzm7vPORDlESQyBokkZx55xGYLQQ+qSxyGhgPYS50EPXZe2XTbEH8U4Jjvt6IKhQWuYFjX8Y4TWvUOv0nDl4vctvFOhtgJrGg90LddY08v8YwQwlrBEoQyhuqsyXuVRZi1oVp/Noux601i7jcFa/yoRQH6+eJZ5mXovMi7EJqAc9EWM8az2gXyhx7XR72Jh8Vn3KTa768UEYaisKCf3nzzDk4tJZQAT9uw2xPrSl75knnqq2G57QggxnnBzR0HzZ4RRIPAshh7t48AYYjaZda0uFDgEN1sMsdAs/W+0DwnejHlsCTPoPqTD43hCSkJsZh+PKTuH+pDvUJ6QnfVToUenpCEvKIRZYXlba69ZJSlG6NmSMVCQmEgounN0FVDM5rT3CT6Ox3lxi4YwU45X7j7ZzGg3xsT4Ba7J5IZTeH1Cz2aOgeyHRmR3Xm8mG7o1EtloK7RDbNk08Piz7jAkO4/Dij0yR+yBNa2E8Jdpl7G6yxuv7ihh1FCvGEL/7EWNxMjqszFIg37jR6Zk4WRPw5jEOMq7D/nav51tQPpUyVeIIuNC3qQg9w36UFb72J7UFJOcIQjVD1H2PuVAlq8l/Z17LmuN8wx4sfcwaQxgjN9vfOMb9v366683a9eu7fwjhBD9BTd3lA02VnHKAu9s5IFymKVAn9BZ24URSChY1g2ZzThOac4boSixRiu2ros8/aK+bcQuopzL7raxta6EAmLApI1aFNAjE3lCO4ciH2tSMezcBABKG+GnhDXnKWGE5OVtooOhiBGcToPyRdHDC+HLjoxs2MLx6bJCpguGBm199MJDQB6Q1cF30mRX45CxSl05L66fPtdBIfOhHNlUinBT/3qkxasX/HtSjzwWJ11e1DvtLVTvZWXnWhyP1zvUVlFIfWi3lAnncn2g/pkQYGLJv05eGt9O0vD7FzvZEl1AOXM+OFl4HNZNjU32t6kO7SI9wUc5M3HAc3tDEw2Xl6w7yBuvfGOL/kw/5z09LlB3nMf1/HP4v0y7LZKGT9l2y1iA0cbYRDruHD5zjdAEQ5V8VYFxgccmcU0HeYqNCz7cN/Ieo8ZOz9z7XP8D0uN+GnvGdtn7lINnsc9OzgMmQn8v1RbE3k1t0aJFeRM2PYV1uzy/twy+8bt69erOP0IIMXZs2LDBLFmypPBSi8HBkYoMN2MUA8K2mDkvsrkR57Apk5uxDymGaVAM2JyD9UmAMcemLllgeOGNxcgmdCwv9BZFCqUH4xSYwV898NNRSpgDBezs1kIbyuzSYIYeJSUPlOiioaood3iIXPmiNKLshPJFnj7Qmm8VIldWeBPuqD+ZW8ZAWqz/dSCTHwZNGpSTC9PDkGetW0wWlOJYGDtQzoSnpgkZhmnW17eMKue8dG5tbA7mEQUSY8OVF/JQVqEJnLKy++UZgrBCH/oHj8hya7SpdyZWeHSKX+9F0vhIkkaod5MOnvm07CjmRSZKfMM6Xb4bN47toxvL6Fj+eOXw21iofaTLlr6AocoO7FmTe2XqLk2Z8QpjFk8gOyWn22Ks7sq2WyibBlSRnXTwELtxN2+8qpKvNEXqHcqMC2m4j7BhGvenvGO5r53enD9CdozfLEO+7H0KOIf2hRHM8YSFF7nbU9Zu/a/DyTXWfXxvoopN2Cv63gCW8SuEmCi6NYCFECLNZDCAhRDVkQFcnIk0gPs+BPqv//qvrfHLbs+HHXaYueqqq0a8Pv/5z3eOFEIIIYQQQggh4vS9ATxz5kz7jhHM7s/+i12hhRBCCCGEEEKIPPreAD7nnHOsezz2Oumk1zdHEEIIIYQQQgghYkyaXaCFEEIIIYQQQohukAEshBBCCCGEEGJKMCkegySEEBNB2V2ghRBiIpGOJYSYLGgXaCGEEEIIIYQQYoyRASyEEEIIIYQQYkowISHQQgghhBBCCCGmLhMVAq01wEIIEaHsGuDBwYc7n4QQYjQbNy7qfBobyuhYGq+E6A/GelzoV7QGWAghhBBCCCGEGGNkAAshhBBCCCGEmBLIABZCCCGEEEIIMSWQASyEEKKvWNI6tPOpOFXOEWPHEe397UuIXqFxoRwaE4WIo02whBAiQrebYJ3bXGTe15xvDjDTzYtml/l5/TnzhYF7Ov/2hmWtI8yHmwvNm9r7mp2maTbVt5uvNX5unqi91DliNH8+tMScmChHM0zDPFt7zdxRf9Lc0IhviIMh88nmcebY1hvt90217ea2xmNmXf0J+93HHb+wdaBNA9l/2HjKfL2xsXPEaFDWlrYOM8e3D0nkaJnPTLuz808cZOect7RmFS7bsrI7yN/ZrYXm8NZ+tj7h1sbmXJk+N/RO+3lN4wFzS+OX9rMP7eS01uHmkPY+9jvle/XAzzLr0HFm883mlNY8c3h7PysTbeAfBjZm1s1Hm281i9qzhtO7v/68+dzA3fZzGj9fHHdjfZO5p/5r+z0E5wy2D7Z1T7nGZHZQh6cnfWRh+0D7nTpZ23gkmn+fNbuW2/pYX98yqv4pmxXNYzrfwnxk+q0m1LvT/Qry2nyarHrv102wqvTZNFcMnWTHh1/VXon2XcrlA635tr+6PlRkLHlv60hzdOsg20bOTuorjypjieMPm4PmhNbs4XqnHFZMv91+TlN2TPzy7lOHr+lzxcBPgn2qSt+oInt6TCxynyore5qi41UV2bvps0Xx80V7v73+eOY4R/ke1zrYtnnk/WlS199KZEmP79oEa/yRB1gIIcYAFCmUkUun/YdV2nifldzy/2To+M4R3cPN+JzEmLm2cb9N49zp3zNPm1fMRUNv7xwxGhRV4FjO+WpiLGPkcK0QKDuXJsr8j2tb7fG8flh/yqbLfyFQ/snHqmk/ssdjzKFUhmTnGlcnyiHG5XO1Hebh2rbOP3FQolAoUfTW1582L9V2d/7JpqzsDuqSMt2WqC/I4sohzzg4v3msNcyycEYmyp277oP1F8zlu38rWr4OyvnsROHjeFfWyBZT+JCT69IO0+mFjF9kppz/s76n3lHSd5ghszJR5mjXPtQtdXJwe6Y1klFu8+A6Hxs62ir/Li//Ut9sf8urE0CxpO5RQkO83PnPXTv9wjCNQb4uGBo0j9VeNH867Qf2ePKI4lskXysK1Hs/QTujLc1oN8yVieGDvP+aGA6nNOcNG/JZ0E4wnLMmRig32s6W2qvDfYg2tTX5TlmH2hT91Y1lWdd2IAdtsMxY4nDnMk6tT8Y3105ixm/ZMRHWJ23CHZ9+hWQr2zdIt+w4CtQvk2FMVpEGdeN+D1FVdig6XlUZF7rts0XgOqRBmyUNXg/VnrdjOK8QlydtmPK9sbHJ5gljf377AFuGYmKZFAbwOeecY9auXWtnCnjdeeed5qqrrjK1Wq1zhBBC9A8oAiiPaS8e7xga72jNMUfmKApFYbYbxSCtQP3twH3Wo4VS6sNvB7ZnjJjd51yMIa4VAm8hylR6hpvP99Wetf/5YDgxMn8lyYeTnTQw0t/dmme/p+GYi6bdacumiCcWSB/PBgp00dn9PNljdxMUm99M6owJDM5Nl3UWGIQzklss52TFDxAhgBc6LQeG9RP1l82Hmkd1fhkNyuRMM2AVdHt8ypsQwimV3xx40JZ1VrnRfn+neYStD2fkIzflTYQBSrYP7Y464b1oGXGdX9S3jah36hbPI4prFiijeK1oVzGQMeYBO7K9n8GrFIJ8ISd158qVPNKfY/3EQb3PTOr9i6l21u/Qj3eZVmKU3DVcd05e2g2vGLQVjBrqbYdpdn4dDXWBsUN7cmnwThlT1stah9vf0tBOVyZ54pxXzFDn1zjUFfVdZixxYJDcW3/Gnp93btkxsQpl+0aVcdTVLROBThZXJxC6h1SVvcx4VWVcyOqzZ+X02aLQ9/HeujR4Md79W+MJO477UH5vaR1ox01XXm5Mmt5u2HulmDj63gC+8MILzSWXXGIOO+wws27dOrN+/XozY8YMs2zZMvOVr3xFRrAQou8gZO/JxIAJ3eT5/cwMw6YoKC77t6eNUEQcD9VfsGFmPu9qz7FKng83Za4VmikndGtdYqD54HnFAPE5KDEyUZB8ow/FCq9gSKkaD/JkPy0gO8o9is3liQKTpbD5cB7GPpMTeRAWF1JYt5ud5m3tPSGGPpThnPa+5tJE2S0K3mi8EMibx+LWbPNybZf550DbwvPDREIv4Dr31Z7rfHudZ8xrwyGGMZwy6oypsvxG+xCrtIcmJ8gXcvq4NhAzCNP1njXp0W/gkcLrGeqzeNAJV42B0YMXvqjR1Y8QScCY5SZ78ig7Jlahm75RFOqV+g31IdJmzPQZzJE9pJG78QrjvAh5sofSqNpny0Bo9T81Hul8ex3ajQvpT4Pnd2P9OfN44N5BmDn3SjFx9L0BvGjRImv4nnrqqebiiy82n/70p81ll11m1+QtXbrUzJ07t3OkEEL0B9zYCJcNwe8onN2C8hIL/UVRCCmtKAn8F4JrHds6qPPtdbixhxQkZ9D6RvMLtZ2JsvOGzrfXwThg/VPIYB8PqsjORAaeiDLGLxC2ieJTRFbW3IUmHmYmZUt4XQgU05DBEgPlD290yKANQb7/aNq64PVR6giF7gXbk7aCJ9ZnXzNg1+/FSHvXq0B5zG7vY5X2Kixuz+58GkmZeu8nYl5P+uwh7Zk2lDxEES98Flwf45Pw6ZBRNV5g0LImsyhlx0QH4+KVu082N+46w74IuY4dW7Vv9BL2O/DJkz00kejGq6LkyV5lcinWZ8tACHPImMXA597mw/iE9zcEOkCvxlFRjb43gDF6eaW5/fbbzebNe2bW3/Oe99h3IYToF1hjmQWhYN3Grsw2ezYmihFag4mnMwvylabIrPl+3jWZDd9Ra44K7/p482gbKjZRlJUdjrJKStMqqSirTnFlbSLKewhCppl8uK7xYOeXbAhJxpuZvh7pYbDf3Hi088tIUEwJCSUtNoEiTzfser81JkKg/LEhzuFJGuS9iAIegmMxFthYphewWRte7nQeKAfaXSwN/ivqXY/B2nEmHjYEFHlAAQ95v8gnXqCQ56ZsvU8G2OiIsNJY1ADe3ypeeMYG2t+Xdr/HTqiw7rjsNXoF7Qmjjkku+g/9iLzRr0LrOquMiYCxwxiDnG5dKxEpsXWt9I1FJftGWZ6svWzbc0gmIoh8rybH5d23QrKXHa+qjAtZffbwSJ/tBeTrg60Fpe5ttH8m8GLjuxgfJu0mWLNmzbLvP/jBD+y7EEL0CxgvY02VG7qv0OQR8iIXgTWtrJvFwELhweiiTL5ff7xzxPhTVnYgz3ht2PjEba7C69Hk86qhE0cYrcB3QqbxABb1GmNcbK29YtcgurJCKWZjmdg1kAVlD88D6+JQpjEigPN9aCsoXKTBRkd4JTgHrwzGd0gB9+EYyoH0ioRRFwH5yAPy/v3uZba9UK5sMhNLAyW6Wy8r3hc8+zFPEpt44ZVEQXeKN5+RP+R9q1Lv/Q7t6ND2PtYYCYEXHmOoiheeSTLa3/9rPGInZgjP9/vSeOHGOORNbwbFxBT17k/kVR0TWcvse9oph6w1vXeX7BtlwRjndWHzuOGlKfQv0ttZG+3RrCp72fGqyrhQts/2AtJhTP117bXC4fO0p99tHmH3nthbxorJyqQ0gFetWmUOOugg6wXesmXy7LQohJgaMBs91hBqXBa8XmXAQ1AWFA8UF4wsFD42PWHtFwYkSsxEUVZ2B2vO/I1PUHbw3vibVOHlfiZRhsqsh2RzGLzMhBy7smLDLQxTp5SG4BEkpOMULxRZZ4yEDFoeZYSx4W90RPhqkQ2nUCTxchRV9IqAsr20Nc/Kjfy0F15MOoS8QxxP6HI3XlaUVuo0K/yZ8mG3VvKBl5I64jO/oYT7VKn3fsYZv7G17/RxvPAo8d1AeVHfeEfxNk8kGE/I6yZWMLQwWt/VGulVrDImZhFb0+v6xvkF+0ZVGKdZ/8xGZnhmmcjhe2i9bjeyx8YrJqH88So2LhyaIXvZPtstjCOkgfFbdG2zM37JU68mMUR1JoUBvHz5crvrM6/vfOc75rzzzrPGL+uBiz6fUwghxovY+l8HCl+3I1dsPasjtCYptmbY4a9JcoZSFv76QHZzxbvmr5Vit8xYuN14UFZ2B4ZzaH3gq2b3qLXcbPSCMosimX7hKeN5tL43CSgP//oYHXg5QyF9DrwaIS8ocoTWM8NNjU2j2h2GW5ZnB2WUCQ2Utl4av4CSG1obiPebUGufNyX5xJuEgpsuX9rV0tbcoDfJh3Xd1OkdOQqoM4DwVvHiM79R5/7kU6zeIVbv/QhKPWtUAcMjZPwC7YUlFniB0/JSB9QFkQxloL4xQLtdFtINP0ryEJM3baBVGROr4PqG319jfaMbMEQxNmnnvPOdyTd/0hDZ8+5bMdlj49XOwHgVGxfu6sgeayexPntkoM92A+0Bz++P61sLG78Y7kRF8fgnGb/9waQwgE855RS76zOvBQsW2N927Nih9b9CiL6Em21soytmpfGGdotbvxWCDURCs/V4pgnzC8FmN/fXX+h8ex2UoJAnEiUAI9u/mbN5U+xxKFyrahhdt1SRnU2oMLhiirEPXgqnfKVfKI1rGg+MMiAxOCB0fdpQLJQeZbLMOvJ7Ortfh9bnZYHhRt0TDjoWShth2aHH29B2QyHrKOah8mUn2/X1LYWU0aMTZTsr/DkLJitoK34of6zeIVTv/YjzaBH6mleOGDIheakD6gIjqiyhPQvGA2RhHAvtARCj7JiYBRs7+YYmlO0bvYbJN3Yq9smTPTSx5MarovRSdvrs7ECfrQpyXjA0aJ+PXrRfu2cBxyIqxMQwKQxgdn0+4YQT7Ov88883t9xyi5k/f759PBLPCBZCiH6Cmy2Ksu/tRMnEAMwKv8TowJvCJiF432IwG4+yGfIu8YiXkKeCx0SEvAek81JtV1BxQwkKeSLZSAgvpQ/eb4zgGBsCjyIaD/JkDylueK1R+EJljDfywYDRXAaUIZRGZwj7sDY4BKGETH4sDnjT8Ub67Yt6vb/+fLAeeeQRGx35OI/FWIbrbU/KFgMgROwZvd1AOeOpDT1ipQgrmsfaMPC9TYl1Hq1HIqGvYw0bLmEkVZmU6AXUaWhscP3Sb/9lx0S86rHoBLydIUNzvPtGGgxcQuBDkS+xyBQne6gO3XgViv45NDBe9VL2vD5LHX9t9zJ7z2WtcdakoouGYdKkiPHLtan7me2GjN8+ZNKtAd6wYYM1iG+66Sb7/ayzzrLvQgjRL3Cj4ybJ5iJOieKdNbDcjLPC6E5IDBLAI4JylHVDZv3mKc15VoF14MWJrUckT3i/0soY557WOjy6ng+vG8pQ2ghEETgykSe0FpOdLVFqON7JjuJDmih6E6UE5MkeU77/tfGYXbflvB7IgnHIjP43euDZoz3w+Jx0HVK+1GtsrSvthxftyymVnI+yhdEcal9ukxjCVoG6oY7s2r/kvzS0Ieex8JV/ygFFsRewoyttHHkdyIFc3ezyHOPk1lw74UBbyII8pJV1ZGYznp/Vn5kU3twyIKfzaNHXfajrkMevLHjBuBZ1nR4XaLNMCobGq/GCOt1Va9qxweWNfDIpcGfg8Uxlx0TaOTshI6vr5052vJ0hQ3M8+gaypuuW74xt7GocM9jKyg5Z49WvA+NVnuyhsbpqn2UCkH0FACP99yJtnbxwTaJhQm0VA9rHRVQQiu2XJeXMS0wctUWLFo3rpNu9995rPbndguf3s5/9rHnsscdkBAshxgQm3JYsWVJ4r4HBwZE3RpQEDBnCtlC8MXbyFGjOOaO5YFhRz1MMufGf03yr3eQIUCZizx50cGMebB1sjWw8nHkhrihGGGlusxY8z6sHfho1ZjmeTW0wuFwa/5Uo2HhUQ3w7UR6yDH3kSStJKCKsrYxBerEwzLKyA+mhFLoyxlt19cDPco15Xym6tbE5WP8oVxji6etT775i6IMx+47WnOH2hQcmq+5REEnL1SPeFIx/X34MlVh4PVD/hP2mQZljDWgMPNAh7yLtl0240nlCyc0zUsHPZywNB3VPKGaelzMtC22EiZPv1h/LrQ+H357T9b5xYzyqoxeU0bEYr/L6EqxpPJBZH37dx/ofYxsh6G4NMW2W6AN2mg71pbx2GOpPIUMkjT+WOBiz2MwsPTawY3FsvK4yJvLYKDzNrr9myQ5l+0bZcZTxABlcWDHjDlEtefeosrI7yoxXZWWv2meRhXEBIxg5LkrGtdDdPm98A5YBpMmrj/X1LcOTTmM9LvQrvbIJq9D3BvBtt91mrrvuOrN27drOL3u44YYbzDHHHGPWr19vN8MSQohe060BLIQQafrNABZCTDwygMefSRECzVpfDGG3EzSfMX63bdtmrrjiis5RQgghhBBCCCFEnL43gD/xiU9YLy+4naD32Wcfs27dOnPuueeap54avVW6EEIIIYQQQgjh0/cG8JYtW2yI8+mnn27d5LxOPfVUc/HFF9v/hBBCCCGEEEKIIky6XaCFEEIIIYQQQogqyAAWQgghhBBCCDElmLSPQRJCiLGm7C7QQggxkUjHEkJMFrQLtBBCCCGEEEIIMcbIABZCCCGEEEIIMSWYkBBoIYQQQgghhBBTl4kKgdYaYCGEiFB2DfDg4MOdT0IIMZqNGxd1Po0NZXQsjVdC9AdjPS70K1oDLIQQQgghhBBCjDEygIUQQgghhBBCTAlkAAshhBBCCCGEmBLIABZCCFGYJa1DO5/6i37NVz9SpaxUvlOHI9r725cQQuytaBMsIYSI0O0mWOc2F5n3NeebA8x086LZZX5ef858YeCezr+9YVnrCPPh5kLzpva+Zqdpmk317eZrjZ+bJ2ovdY4YzZ8PLTEnJgbNDNMwz9ZeM3fUnzQ3NOIb4mD8LG0dZo5vH5Kk0TKfmXZn5584ZWXn+NNah5tD2vvY75tq283VAz/LlAPZyddbWrMKle0fNgfN0a2DzML2gfZ7Xr4wAj7UPMrK7fKVV15nNt9s3tWeYxa2DrTlW7ROHJcPnWQGW280v6q9klnO6fItkgayvLd15LD8Z0+/tfNPnDL1/u1dZ5ha53OINY0HzC2NX3a+vQ75+mTzOHNsIjMUaY+03+NaBw/L/tP6r823Go/0tM07KIOzWwvN4a39bHpwa2Oz+Xpjo/3scHK4eqdt/bDx1Kjj+nkTLNrUYPtgKwNlE6ovR5W+4bNm13JbpuvrW6J9kD5+etLOXZ8ljbVJXa+rP2G/h/DbFGPJbY3HgufcmLTbLIq226w0fBgjTmnNM4e39xseI/5hYOOIczlmRfOYzreR3F9/3nxu4O7Otz3Qvpe25na+jSY2nhRttyGK9g0oep/KktvxkWTsyrsjp8fRixK5e23oUG4fbb7VLGrPGm7/oXqBIuOVNsEaf2QACyFEhG4MYGdsOSPOKRpPm1fM3w7c1zmqO1Aqzkluwl9NFIl7kpsq/MnQ8WZ++wCzctpd9rvPFYlisC25DTuFEyXmwiRfIaWSPK8aOtFsr+00G2vPJcrLfvbaeQZwWdmd8ZvOA9c4pTnPXDrtP4JK0vLEmNuaKDfr609bxeqx2ouZBvCVu0+27z+sPzWs0Lp0H0+uf8XAT+xvaW7Y9X6rrNxTf8bmCzkwIn+3eYS9hq/oU/YYBBgBdyVKPfl2CvyBifLzyWnrMhUx5CJPGxOjfE6iKMbKmWM49t8aT1hl0+UrXeZpqPMZ7YZ5sP6CedXsNr+ftJksA5jrrUzq/cUS9X59UlZ/MP17QfkwMmKGxN/vXma2J0o3ZUkbpryWJXXyaFKfIUUaWQ5NFM5/qW+213OK9QxTj5ZvmTafxrVBJknWJXXq+lgI5Liv9qy5ufGoLX/SOL95rHmo9vyINt+PBjDt9m3tN9q80p8+N/TOaH05qG/Ko2jf8MEooE1BrO9ShhcNvd38a2JYuuvR7s9O6vubAw8G6458XJrk37UP4JwPthaYy5M+7vcN+vi5SbsNwaTOdYFyKJtGGsqWCTuMzO/XH48ey/UwBIsYe0AdzjQDwXJ0Ze33X+QgPxi9rv8xtjCx9ov6tuCY6CjTN8rcp1x/Do01RcuE49LjaK8NYPL4saGjzZP1l63sWWMIhvicyHj1R8l45ZABPP5MuhDoc845xxYYr89//vOdX4UQon9AsUA5SBsjvDM7/I7WHHNk8n8v4EbKjTWtfKBsc7NHCfDhtwPbM0YoSZyLIcC1fMgzigj5zlNoHch+ciL7lyOy87/PexOFC6MxrUhg/KBg4GXyQZEgXyhoWcpHGhQtXmllFplQylC0Q95LFGPKyqWBHOQLw3Npa96ocyh7lBqu62TnXNKdlhigvxeoEwflgmJP/naYZufXMCiozvgFly/qEq+ED2VPHjjmFTPU+TUO10NpLFPv50WMXxQ+2JAYSj4o0dOTciFvrg1TXqR7Qmv2qLZC+8VThZHh6pHjaQtc5xPJ9Xzy2nzMa40C/ZtJe2UChnPTfcwHOYD6d/XO8dc27jfvTtpJv0O+KUPeyXcRY4H6zuobWdAm8MZTPlngXcQQS7dB6h3jkUmlELT/h2vbRvRzPjM5EeobMeOXPNI27g2027JpODA2MVJXTL/dlpVrK72Auku38TRz2m+wk4U+5HWXaY3of5Q19y3GRF4hyvQNKHOfcv05xJHt/WwEQBZlxtEqUCYYv0zAME659h8C2d6SjFfcp1xbSY9XbtwQE8OkM4AvvPBC89prezrAfvvtZ2q1rKArIYQYf/CEYLyFFBx+PzNg1JWFG/H+7WkjlDDHQ/UXbIidD6G5IYWOmzLXcsZKNyD7rxIZ8ar6xAxaQsPWBgwtvHZ4pqYCKKMv1XYHy8GH8nLGbxqUV0Lt+glCqAkPDfWFgxLDFA9SCLyCtKU0hBvi1Qldi+twPZ+sNr9f0uZPC7R5lGgmGfK8eQ7SxSDyQeEnrNRX8qc6GER7IiuyDScmLu6rjW4fz5jXbEh0SPuj/eOV88GzjdFdVGN07TY0juWlEYI2gDfy0sRoGk9oy5QVefM5sn1A8vtTnW+vQ70QOkyItk/ZvlHlPhXjN9qH2EmGrAmaMuNoFVY0jzU3NjbZ8SMPN16F2lBsvBLjx6QygK+66ioza9Ysc/fd4zuACCFEGbixYbyF4HcX+tcNKCfc6EOgIIaUFxRK/gvBtY5tHdT5Vp0qshOCFzJEZibGA2GZYwVKKaGwKHxFvF7ArD1hniiORc5BAST8enetaf45oARC2iNWNB8xMI5jnpuJgHBPQq+rcJTXVvA2xcIyaVc7At7tKm0ewxvPYxEFH16o7bReNh+MBdb8hZT/vZF034hB6CvhnzFvZRqWXuD189nXDFjjNNRXaP8hw5rfpifjSWicCbEwo91mpcGER2gikYmYomNGmj8bWmLXSrOMgHBtwpnLQFtmfA0ZbER5hCI8aLeHtGealwP3l7J9o8h9qsikBGPa7PY+QUPe0ctxNAR5mJm03dg47lNlvBLjx6QxgOfOnWtOOukkG/r84x//uPCaPCGEGG9mJWpQFoTBdRu7Mtvs2XgjBoqYDzPxWZCvbikiu88/DjxovUIoXg6UGYwX1lT2GqdQsp4Mj0LWWjdA8eF4Xij4KI0hxTEN6045nrDHnYnxi8ckdtdifVwRj5gDhTYUPodxAaHJj4mAOsRY2FAb7YEFDMeQx5p2wO/Uf5F+QllgVIXaSpU2j+FN+CT5//LuU4frnjpNt1EH3njq2K+TjzePtiHBezNl+gbHEhJOOGwR2CSJCJC0QUn5cx02nPLh9zzw+udhx55Iu62aBhtFsfyA8OEiBi3GJ5MnQEgya/avTAwqJlpoh0VhXwAib8rAfg1sUhUymheU7BtV7lMh8Mgz7m3IGCPLjqNlWdyendRJKxlf9x8e33lRDuk2mkfWeCXGj0ljAP/1X/+1ff/Sl75k34UQol9BcR9rqoRPYYyMNVVkR9FijRoby6AcolywzooNq4p6GsrAGjyM3vX1LXZdcsiYTINChQLKujUUQ9aY5Sk8rA/702k/sLuiovxiDIVwRmsRj5iDTYEwNly+yQteZjbgylsjN57gXSU/MYUUw3FXYjiSdwwLFGhkWr373YWVdo6nLFjTG2orVdo8bRhD44KhQRuKTT3yYmMuNoULKfqExLIuEmXYtWGuw0ZHezNl+sY5nY2JinrEqU+8powFbDJG2VL+W2uvBo2zXk38uHYbMraqpkE7xAtM1AlrmJ1BCyGDFvncHgSu//DOel3Gk6IGF/llI7uikBc2mWPyIUTZvtGrMF/CtfE8xyYRq4yjZUEWDFfuU2wqyD2EeqSNMoFbpE7yxisxfkwKA3j58uV2lzBCn9mVVQgh+hlC98YavGdlYQZ9rKkiO15SvApsIIVxivHIBiso02O1fhJlEmWJzUzOaC4o5NlBKSVv/1XfapXyPO8kCg5GHrIQUukMVgdp4hFDGSoDHjaMCAwuPBAoo87LjIeiX8Agx8Oehc1zkveVQ0vMl3a/x8qEbD+ube0cEccpk/4jZNJUbfOsm8SbRBuhHl1dsp7YX8dOPdIekIUNblwbxkDAKJgK+H3DB88nhtV1jQc7v+TDOWyoRXkyNlC2vDDAQp7TJ2vlPJ0xstaadpMGj0yi77r1+24MgqIGLRBSvKQ1u/MtDuUHedEqDmf80o5p7zHK9I0q9ykfjOrYOmaoOo5WgUceMcau8jYOI+w6tjGbo8h4JcaPSWEA//Ef/7HZtm2bufLKKzu/CCFE/xJbA+tg7U+3izhi6xodLnwuTWwtlqMXa5KKyO6zOFFg/slTXlCq2CgEr8lYgiLChi+E2BUFb9f+Znrh9YTIgueLcMQ0eGcIAcR7gSHrXjzPk+dl4kmMgdKFUYAHAk8RxgfpcF6vDIFuQClFWcxaswfkmbwjA7K4XbTZQIbJlFg/wQDCWF417UeZymTVNo/hzLM6fXiMlL+Oncc2hdZF0k6ojyKTK3sLyIy30zfoeJQWvzPJkW7rlA/tPeQFxfgNrScmMoQQeX8CyhkkWYTWtaahrrLWmnaTBuuWQ95v2mAv9l/w4ZnOeOXzwMB0j4mj//nt2KdM36hyn/Jh3fFLSZp3RPp53jh6bcY4WoWbGptGjUvP1ML7bjiKjldi/Oh7A5hdnxcsWGC++93vmi1btnR+FUKI/oVZ79BmT4D3As9Qt2DkcHMPwcYxISMIgwLDIgSbntxfcbOiNE72kHc0JLsLmQspXVxrPMLJocr65yLrCdP4aaAMY/T5r/X1LdYox/NVBjwMnFdESR9rmFDICn/OAwMn5gXGWKId53mqoEqbZ+M1jLW8azvYrC32yBWecVw1bHYy4/cNvIWhtk57pb0zCeJDuGnosV2MbbHQdoyzUNQIBvmupI5iRpTDtdustaZZaWDQhQwcjF/6f7d7PwDlUsSzyiPD8sKfGX8J6SUKI1QHPg+X7BtF7lN5k8FMHGaFP+eNo+eXHEdj8MxrKDvu8yzgouOVGD/62gBm4yue+7t582azevXqzq9CCNHfsO4P5dr3/KBsoAxnecUwYpi9ZoMUF8IWAsOCmzvH+xDCFzI8MChCmw6Rzku18E6hZUH2gxPZ8eqmicmOQoDS6Axhn9DzK3sJSisKmlNuioCnAWW66G6gyDaYlPtY7mhNGjx7Gu9EP0D4c+jRQEXAW8IaYN9bhox4qlh/V1SZzGrzLydtPmQQ4cXEyAn1LTyZ/u7ARD1gBMcIPQN5b4W+QX8OeTrLwuQBOz6HiK11j0WNYNgShZFnbLl2m3VcXhohiGpgnPHHReDxSOlxkTGJ8d/3ogOG9/7t6blry2nfeEWzwp+5PsYv8hYxfqFs36hyn0pDnyf8OfQ4rF7A9b+2e5m957LGPGuCgvvjxvrzwbpf3Jo9ytvuxquZJcYrMX70tQH8qU99yj72aMeOHfYRSO71/ve/3z7/981vfrP54he/aNcICyFEv8CNDgWQR+xwEwTeWQ/IrrBZN/0TOmu7UF4IAcy6IbPuCKMnrSixnpZwrJDiQ56YSU+HG3Luaa3De7Z+CtkxDMvI/u/J758ZevsIOVDgkK3MmsEYXJdwYgyrdBooZRcMDdo8+cY//3EO724iAzncNShLX0l2mx+lvUN8RsnkMUhfSZTHXsA1XdkCebx892/Z9cz9EF5H3gh/zptUoFzT9cF3FEZ2Eg8p5M5TxUZAvjJJvfDyyWvzMUPHbTTm6pK8cX08OW4Np4PdXDFiqAdXLxxPmhhEe5viW6Rv9AJ2emYMTE8Ecn3GFnaSDtUdnmbWsZI3B+cfmeQvbywp2m6rpMEYw4u8uzJDFto7k3zpcXGPofWcHZvSbYrPpMM4mtemMBrxOscgD1z/P+tbh9chp8EYTI9jabL6xje8vgFl71NpTm7NtRMqRScby4LhSsg7MEHxexGZHTfVN1nPutt0i7qhXtiv4sbkvzTuCQBlxisxftQWLVqUNyHWU3iMERtaFeHzn/+8OfPMMzvf4txyyy3msssu63wTQojewKZ7S5YsKfzYtcHBkTdzbozc+AkZ4yaO4uIrzz6cw6ZMzouSpyCgVPD4BxQ3QJHKe6wPN2Y8khjZzOZnGU7MjGdBWmnlzVFWdhQ7jBInB8obsoeujeLFI4xiIJMfPoyS9oHWfKukujTwIt1RfzJaxqTDbD+7rrqQS/KFYh4qL5QhNoHh0S0u7I+84DEKKZk+KESsW3OE5ACUU3d9ZGDDHoywmFKcPj4EO1X7dfPtpN6zJl9i9Q7U5fua83NDuDmOMqYd0kbwoOCxjRlQeW1xfX1LtJzLtHkHeftga8GINskjaULlTN3z+BiUY5cGG0LhMUuzcWM8qqMXlNGx3Hjltzuf++vPj5qQKNs3fPw2GUoDGN/YXAiDDmjvGL9ZRjZ1cdHQ24fPwQO5euCnuUaja7eEzOaN+FXTwHBi53k3LmLoxsZryviU1rwRsmeNV2nYNRvjNjbmcu2sMRTWNB6IlnOZvgFV7lNAvyV0vKiHGoqOo0A9kgZGMHXIs5Hz6p57CW0lXS9MpvntPm8MTY9XYz0u9Ctlxqte09cGcAzCoj/72c+aO+64w/zZn/2ZngkshBgTujWAhRAiTT8awEKIiUUG8PgzKXaBFkIIIYQQQgghukUGsBBCCCGEEEKIKcGkNIDXrl1rFi9ebC6++GKFPwshhBBCCCGEKIQ8wEIIIYQQQgghpgQygIUQQgghhBBCTAkm5S7QQggxHpTdBVoIISYS6VhCiMmCdoEWQgghhBBCCCHGmAnxAAshhBBCCCGEmLpMlAdYIdBCCBGhbAj04ODDnU9CCDGajRsXdT6NDWV0LI1XQuQz1n12KqMQaCGEEEIIIYQQYoyRASyEEEIIIYQQYkogA1gIIYQQQgghxJRABrAQQojCLGkd2vk0doxHGmJsOaK9v30JIbpHY6IQvUWbYAkhRIRuN8E6t7nIvK853xxgppsXzS7z8/pz5gsD93T+7Q3LWkeYDzcXmje19zU7TdNsqm83X2v83DxRe6lzxGj+fGiJOTFRqGaYhnm29pq5o/6kuaER3xAH5Wtp6zBzfPuQJI2W+cy0Ozv/hDmz+WbzrvYcs7B1oE2jSL7KpgHIcVzrYFu+pPHT+q/NtxqPjEqD/KxoHtP5FuYj0281WbVM/s5uLTSHt/az6cGtjc3m642N9nMIzvnc0Dvt5zWNB8wtjV/azzHKpFG23jn+9KQtLmwfaL9T72uTslpXf8J+z+OKoZPMsa03ml/VXsmsG9r8YPtgW/e0qTyZHRjLH22+1SxqzzKHtPexv91ff958buBu+zlNul+Ntey9rvd+3QSL8v9k87jhPst49cPGU5lyUg+ntQ4frq9Nte3m6oGfZY49adbsWm7LdH19S+64WKZ9pEm324uSdhvr40XHasacpa25nW+jyeofRccrBzK/t3WkObp1kG27ZydjVB5+nVBGN9Y3mXuStGIUlT1E0XHBwVh8SmueOby93/C94R8GNkb7YtV6z+PGXWd0PoVJ91ttgjV2TKRNKANYCCEidGMA/2Fz0CouTiF0CubT5hXztwP3dY7qDhT7cxLl4KuJ8u8UnD8ZOt7Mbx9gVk67y373QWHZlqgdTsFBWb8wyVfIICDPq4ZONNtrO83G2nOJsbWfvXaWokP6GLEY1Xclii2yOwPkwETB+qNp6zpH7oE0ViZpvFgiDbg8kWNOohD9S32zVVScQTjD1Eel4f4LXdMZx1kGMHV5SnOeVQzXJXJlKZNpvrz7VPNY7UWrMPuGkE+ZNMrWO3V80dDbzb82Hhue6EDus5My+ebAg7mGIMeiJG9M8jYnMbhD5Uj6b2u/0TxUez4xaJ62BmCezA7k+djQ0ebJ+stW9qz8kA/y82+NJ6xxljYSQsZXN7JXrferk3p/PFLv/WoAf233MvP/1Z41NzcetWVIuZ3fPNbWZ2i8coZWetxw5XXptP+IGnUOjEHaK9BHsgyuMu0jjd9uYwZwmbGadj7TDESN49jYxbh7aMHxCjh+RrthHqy/YF41u83vJ/09zwBGjt9tHjHcN6jDD7Tmm8HE6L4yyW+o/ZaR3afIuJCGMeEtrVl2YuX79cdz20jVei/CDbveb86d/r3Ot5FgHKf7rQzgsWMibcK+D4Fevny5LaDQ6+677za1Wq1zpBBC9AcoESiCaYWcd2at39GaY45M/u8FKFAoVGnFBqUFJQ/lxIffDmzPGKG8cS5KLNfyIc8oNeQ7y0OchvRR6DjeyY7igmE2PVHo/HxxDIppmTS4xltaB5rLB34yrKSQBnklDZS6NO6/EEcmBjcewRgoeL+Z1BlKPeVW1AhCUUa55Zy86ZOyacTqHUL1jgfzF/VtI8qXckMRZWIiC9oyxiLH7zDNzq+jIX3KmPeiZQQo6Si5GKO0gTwlF0+VU/CB9sNn0sRT5FNV9m7qfWZS718sUO/9Av0FTeorSd25Pou81zbuN+9uzbPffd6blB2TXOn6oh4wVj7UPKrzSxgMGyJQuH4eZduHo2i7zRqrTwyM1bTv9PiZ5tD2G8zW2iudb69Dn8SzXnS8AtJnzKRMXzFDnV/jIMfvJMYv7dz1DerwiiRNIiToBz6cc3LGfYr/YxQtXwfGLxMHK6bfbvPn0otRtd6LEjN+aZuwof6MfRd7L31vAB988MH2ffPmzWbdunUjXrfffnthz4wQQowXeKRQBEM3eX4/M0dBLAIKwv7tacMKVZqH6i/YMDMfwpLvDdzYUS64lrv59zuEw+F1CJUv3rqDEiO/KHir76s9GzRWUPIwuFBc8xS2NJyH4YCRmkfZNLLqHW9RqN6Z9Liv9lzn2+s8Y14bDguOgVH5Um134cmJsuBlvLGxqbCCS5imU/DTkD88Xf6UeJ7soSn0XtT7ZNJM6C8P17aNyjMGFGGqoUkV6mFtoE0QXUIkQBZM4BD+W2RSoWz7cBRtt70aq6l72hPRDz69HK9iLG7NNi/Xdpl/DowLP65ttf3AB9l/lSF71kRGmXGB9oOHGEO2KFXrvVtYhkMof5l+LyYnk2YTrF/+8pfm4osvHvG67LLLOv8KIUT/gEKDIhiC313oXzewhgoFJATKPf/7oATxXwiudWzroM633oLRduXuk82uWjNouJUFDwyejRCU7Y4CHhMgX6wrCymtgIKI97CsMkTILQpvEVnLplGl3glhx9Pts68ZsMpejDKeuipQ/njJe9EmAKNscXLNNHmyhwzV8aj3fuKFpIzmtN/Q+fY6GHWs0QzJw1rR0wITZjMTg5mw6RjpyIg8qraPMu02a6zeXmKsps28lJRJyGDr1XiVBWVE5E2oPWOAh9Koep8qOy4w8bq+/lTnWz69HhfKsLA1y04kir0f7QIthBA9ZlZy+86CULBuF2/MNns2BImB58YHz2EW5KuXsE6X9VSEv+1MjF88amMJoYQoTqxjLAKz/SjyMU/UUVY5bVqFj/W8yMKL9XkYByEIncUIva7xYOeXbMqmUaXe2SAKrxxpOLg2iuZtjcc6v4wGL09RT10VFrdnJ2p2y+YFeZ3slEM6r2mor1DIKIYVfcqfAKgi+3jUez+BR31H0j/9cv1482gbbh7iHwcetJ7cdHlQXkyyxfofZV40MgKqtA9gfXzRdltkrC7C21oHWa9pGcqOV1WgnNh4K9TW2e4si5jsZcoX2ECOMG76CBufUYeswWXNdIiq9d4ttv2a6WZDTeHPUwEZwEII0WNC4Wa9pkrYHB6y8eTSgbvNn077gd01FyUIhXqsQJlkAxjWMxf13OHhwNMXg3rEM3bB0KDdqAdZeD2afGZzMN8Y4juhs3guiuahbBpV6p284IFhTd3f715mFUmuvbX2ajTE0BmUrGUdK5AFA+DSoXfaDX/wkrHRD3nFuAopu2xmRT07Y41jiC4glD20lruK7ONR7/0G63lZ80z5YKRgeFAObFYUgrJjvSt1546njH+YlHWsDM5JDKAyHvIq7YN2C0U8zNCrsZrJDzbxK0qV8aoslA9tmPXuobZeRfay5Qvcd/ACEwpNXqhDNuUC2o1PlXrvBURAMYaM1YSf6C8mjQH85je/2Vx11VX2tWrVKrN48eLOP0II0V8QdjnWELZYFrxn4w3KHR4mNhNiB1BnuPQSp0xmPU7DB6MltmYvDcfg7UDhQxYnD2up/TVyGPjPJApU2fWyZdKoUu94Xpa25pnzp99uwyTZfIcXRl7IC+M8dSjnY72WlRB0vD1s+OMUT8qP8MrQJlX8hwGFsYZXCAXfRRfsSK7j42Rn85207GxYFPNAwXjUe79AfWO8YmhQNpQV6zUx/jH4QxDVgZecMnXH08fZGCm0Zph6YBfksh7yMu0j3W6L0ouxGtmYLAqtiQ5RZbwqizN+0xvG+ZSVvUr5OnhUEvXm8kJd0rcYX0IGbdlxoRf8Rmc/CDE1mDQG8IIFC8yyZcvs67zzzjPXXnutueaaa7QLtBCi74itq3KwHqtbwyK2ltfB2j2f2NpRRy/WosXAgGDDFx650UswYjCGVk37USllkjV7TAjkncMxPKvTh0eT+Gvk2OgFwwnDLP3iLsWjllB8Q5RJo0q9YwDiPfHbHN46wiN98GYRSo23Jy0Hj/XhucN4/HrJTY1NnU+vg0FJPkJ3eBRhDC+8QuzmivFF+yJvT9ZGhqE62X3u6sge0yDGo977hWWtw20kxONJGaZhx2PKFMPHh7XW/+SVj+vjePt8eLwZnsAv7X7PiDLi+rSrkCfQEWsfXDNdf3nt9tqk3fr1XWSszuPY9sF2p+UiY3rV8aoMGORMaGBgx4xfYI1zFr7sRcaFWH9ivX3I878zSSO290RWvfca2vjsjP0gxN5H3xvAa9euNeeff759ThSv008/3Vx//fXmtddeM0uXLjUrV67sHCmEEP0BXrrYBiJ43fCsdAuKPkpHCDb98Q0BYMafDVFCHNKeae4fh80/ernOGKUZefD+oXyXAUM8K/wZ2MwHpb3otfGeYZT5LxTjNY0Hgspo2TSq1DvhhKFHqXBsKCweRTUkx/r6FvOr2ivW49cL7unsSL5fztr0ImBkPpXkbUPHW+QoKzuMR733E2xcFXuUDRMBGD5pXAh4qHwY+0KhtXj7QmVEe6JdhXYILts+8totERC+kZo1VhMlUGSs5hFHRcKfuxmvikI/wANf5PneZe9TRcaF0CQAxm+Zcb+X40JR2A+C8Gd//BB7L5PCA7xhw4bOJ2O2bNliVq9eba677jr7HSNYCCH6CdbNYVD6nhMUR5TJrFlmFBhm1e2D+pvxB/ATFobSEfIuEcrlwsbS8DiMkMePdF6q5XtDuwHZSTtrh9iicC3WfbI+rIoy6cKfQ4/HSYMHDAMgVMZ4IXqxW2jZNLLqnXWwoXrfnlyfXY9DZD0Deayhvd1ffz7oMeSxLkW9atQnz3LFY+QfX0X28aj3fgIvKEZwDP+ZqPQ3Ig0o9xChZ+FWIa99/LJg+8iim7EaGDspu6zw527Hq6I473LR0GpkP7gL2YtCxAaTdqFIgkOT3/10itR7DPpskfunD/fM0KPAxN7LpN0E6+abb9YzgIUQfQkKDrPlFzaPG1YSeWc9HWuyQkaK44TkBg+EmhG+GQspA9ZDofin11CxNi+2HpE84fVMhxty7mmtwyut6wrhNsRJrwPkMxua8BgkjItucbtKsz7MVyZRArPWdsLJrblWgac88nCbLjl5UOK4Pp6cb/TIs5eVRsh7GKv3X0fqnR1gaUtphZBzaZ9Fd+QdK26sb7IeNLe5Dv0EJZa1pPznQxm5PgUce/nu34p6vPJkj2kRZetkMsMuxBgilKUrW+SlHxPSHDLY/j0Zxz4z9PYRbZAypl32cifssu2jLLGxemUyViNj1lgNTKTFHqflYOzrZrwqAv3feZf9fkAbZnMzH/LCc4Or3KfKwHV4kY4zgmk3TAr8uvZKMJ2q9V7m/ung2qw5dp5nMTWoLVq0aFytyHvvvdeGMnfL8uXLrSf4scceM2eddVbnVyGE6B1EnyxZsqTwZNvg4Ejjgxs2CiHhlBhcWRuSODjnjOaCYQMtZNCkQZHgsRTcwAFlIvbMSQfK0mDrYKsk4OnKCpdjNj0L0korMCgTbBLEo2dcqC5poEgTBhni20kaWYqKn0be8evrW6JpAfITkhcKuwyBAvnB1oLhMkbhvXrgZ0HDII1fduyGHav/smmUrXeOZ/MYFHbA+4kBWGQSAAWddX4O6tMPg/aP8cGjEytvlGKMp3TemJAJtUkUedeuOI5NazDgsuqiquxV691vn+l637ixuFeqCmV0rPR4Rb/9ZGKgYHS4ceG/6lszJ6yoMybP0uXDeBUyaHzS9Qi9ah9pQu02FAYNVcZq+NruZebHSTllHZs3hobGK798fPyx5Ork+MMzjidqhFD9EFVlL1O+gDH7jtac4XTYETxrzKpS72Xvn0Aa7OIey/tY99mpTK9swipMWgP4hhtuMMccc4xdD4whLIQQvaZbA1gIIdL0qwEshAgjA3jsmEgDuO9DoO+8807zne98Z/gRSOz8zG8YvxTclVde2TlSCCGEEEIIIYSI0/cG8He/+137ftJJJ9lHILHp1bZt26znd8WKFVoHLIQQQgghhBCiEH1vABPezBpfDGDc5Lz4rrBnIYQQQgghhBBlmLS7QAshhBBCCCGEEGWQASyEEEIIIYQQYkowaXeBFkKIsabsLtBCCDGRSMcSQkwWtAu0EEIIIYQQQggxxsgAFkIIIYQQQggxJZiQEGghhBBCCCGEEFOXiQqB1hpgIYSIUHYN8ODgw51PQggxmo0bF3U+jQ1ldCyNV0L0B2M9LvQrWgMshBBCCCGEEEKMMTKAhRBCCCGEEEJMCWQACyGEEEIIIYSYEsgAFkIIUZglrUM7n4SYeMajParNi4lmPNrgEe397UuIqYA2wRJCiAjdboJ1bnOReV9zvjnATDcvml3m5/XnzBcG7un82xuWtY4wH24uNG9q72t2mqbZVN9uvtb4uXmi9lLniNH8+dASc2KiUM0wDfNs7TVzR/1Jc0MjviEOytfS1mHm+PYhSRot85lpd3b+yecPm4PmhNZsmz+gHFZMv91+TkNZndY63BzS3sd+v7/+vLmxvsncU/+1/Z7m6t2nmsM71wuxvr4ls5xR8j7afKtZ1J41Ir3PDdxtPwNltLQ1t/NtNL+qvWIuSsrBbxk37jqj82kkyH1+Ird/PHn5UPMoW7YuL0XqJN22itY7FJHdwbGfbB5njm290X7fVNtubms8ZtbVn7Dfs8ir9zObbzYrmsd0voU5e/qtnU8joc3THt/SmpXZp4qk8ZEkjVDv9tt8qK7TZNV7Wu7JsAlWkT6b1T9ubWw2X29s7HwbCecd1zp4uN1uTOrvioGfdP4dDXV9etLOF7YPtN/pG2sbj2S2wTJjCbh2vrB1oB0TkfeHjaeiMqShnZzdWmgOb+1nZYKY/GVlJ1/vbR1pjm4dZOWP9QdHN2PJYPtgKz/H3dL4ZeefMH75Mi5cPfCz6NhDGX2gNd/2V1dGRcaSsvepMsT6q2NN44HMcigzjjoYj05pzUvuXftZmWgD/zCw0ZaBNsEaf2QACyFEhG4MYJRIFBenGDgl62nzivnbgfs6R3UHyuE5yU34q4nh45S7Pxk63sxvH2BWTrvLfve5Yugksy259TqjAeXkwiRfIaWSPK8aOtFsr+00G2vPJQrxfvbaRQxgzl2ZnFtLPq+vP5WpuFBWv9s8wvxb4wmrODqFaTBRFq9M8ukrrqt3n2zuSq4ZUlC+nBjHj9VejBpFlNnHho42T9ZfTuR9MqqAUY4zzUDwOihmlEPMAM5TntLcsOv95qeJfPfUn7F5odxQeikPrhEqNxRQlClXXu6cdHsLUVR24JqfG3qnubW+eVgW0vxga4G5PFHaY2m4NgNZ9U5emLgJtSVnuPoKP78vT+TcWnslufbT9vy8us5LwzeAXf79Nl/EAC5S7/1sACN70T6b1Qdi0J7oU84YJb2PN482B7ZnBMcrxoGLht5u/jUxlFxeqLezkzr95sCDwfZbdiyBv9+9zNxXe9bc3HjUtmvOOb95rHmo9nzmWE1apzTn2UkY+lPMwIaysjNOz2g3zIP1F8yrZrf5/WSczzOAr0/GEq5ddCxhjHtb+41WTvoTecxrw874Td8vXDlcOu0/Ro0L9MELhgZtfWyoPWPzR/kuS66BcRurkzL3qSow7p47/XudbyPJ68tlxlEHZcsEABMr368/PqqcZACPP5MmBHru3LnmqquuMnfeeactMF633XabOeecczpHCCFEf4DigUKQNkZ4Z3b4Ha055sjk/16Acv8viYGSViBQ2FBIURR9+A2FK20wcC5KBdfyIc8YD+Q7SxkOwQ3/Z4kixvlZ51JWv5MoaBzjvCbkCc8IXk28Kz6rEoUxppwc0p5pflV7ufNtJChRKC4oz8iUpbhQjjHDak77DdYIK6r4Z4ESRjouL5Q55YDCuLQ1z/7mg+fXKfjgzqHc8EqEKCM7cJ1HattGlDOfMRRiaQD1fm+Beif9kGEKRyZGJx4fH9LnHNpGEaWzShrdtPnJTtE+WwXaHy+iFNx4RVlTl7Pb+1ijwoe+/4v6thF5oQ1gROAV9mEswdgLjSW/iIwlGG9Afyc/wDnXNu437076H5MBITAEfzMZyzH66L9OphBVZKf9YRgjxytmqPNrNueVHEuQmbrmPSv/ad6blDue2HT/Iw2MQbzPPhzHGOfGJ+CdfFInGMI+efepWJ2UIWb8urrYkPSDEGXHUaBfMflBFAXl4NqZmFgmhQG8ePFic8MNN5hly5aZp59+2qxbt86+du7cad71rnd1jhJCiP6AWXcUgtCNjt/PDCgKZeFGvH97WtAQfKj+gg218nlXe441Tny4iXOtkCJWBbxDGE/c7PNY3JptXq7tMv8ckOPHta1WESoKSinElHe8Ojc2NhVSWmKgZBOOiMdkoiCMMFS2yE2IZYiysuMxw7vhg9x4bkKUqfcsCOHE0B5LfqOTRi8mMfYGelV3MQj7ZNlAaEx8qbY7Gc9md769Dn3/vtpznW+v84x5zfZB3xBiLHkpGUtCY+JPOmOJf85ByW8PJ3L7YHBNNw3ze4GJRMYAJqGyIiHSVJG9X2HsCY2veGvxJvfCOM26T+2X3KdO69F9KgTLHgjPjtXripLjKMb8nPa+5tLEWBb9xaQwgP/yL//SzJgxw6xcudJ6fC+++GL7Ouuss+y7EEL0EyhVKAQh+J3QwW5BqUJ5CoGCyP8+KID8F4JrHds6qPOtOzCe/qnxSOdbNiirfzRtXdAQYX3VjoLeD2AdG17jEEwYzEhueSHluAxMbrBG8I4MBej4JB+EVRJKx4twPpTmouCVwpNFGGpZUFCRNY2TPTTJEIPrbAh4hTAMWL8WmiwpU+8xyCtr6sZygoE08Lz1Oo1u630iqVJ3tKnLExkJJ0XeNbuWD09C+TxZe9lGZ4TgOoTt+hCGjqfeZ18zYI0Uf8xwY0kIN5b457yQpEFEhw/1xhrNUJ9hDMAzXcT4hSqy94puxpIQjH2hvj8zGRMIpS4yoUTZMuHyltaBwUm28bpPhVjYmmXDzkMwbswsOY6+MzHmKXtNtPUffW8AL1++3CxYsMDcfffd5vbbR2+cIoQQ/casRK3JgnCobmfKZ5s9G2/EwEjxwcubBfnqFpSEAxPjCeUQJaeIchwCJQtvJhulFIVNXB6tvdj5NpLF7dmJQtuyyheGiTNSWDNcxvPNOlu8+DGFBqWZciRcjzV7fzrtB3bS49Khd2YaQ5Sby5ML44x5slFCXehmGtb0gT/54WQ/vKDs5CWvfeKJSdOrescDg3wuXHIscGmEDPyqVK33fqBK3WFMTm83bH9bNe1HVmY8Y6wPDbVN6pNQXNpfGo59PEk35FEjZBivYrqNUpbkt8y4kDWW4PHeWWuOyjPrc/89yW+onx/VPiCRv2mvSx9y/Sk24VFF9m4oM5aU5R8HHrRhyGk5KQeMVtZQZ4G85OlLu99jJyRi63/H4z4VwsrBxF8tPCFRdhwFNkcjhJ1+RH/iePoX/UxMLH1vAJ9++un2/R//8R/tuxBC9DsoA2MNXuayuB04xxJnfOEZQslB8UI5Zs0UillIOfZBmWDjFNb6FVUOOQejnw1GQlBeeFswSNhchvV35IvZeRS6mALjg3xsjhSDtWXptWEYFaxl21p7LbhGzoEiSH5Yj2fXPmfkiU2BUGxdWXLclbtPtqHDoXWtZWUPRQ/k0Yt6B6Ij8K6NJS6NXnplqtZ7P1Cl7min/ppGPLBsyEfbDEHfZGzEYMAIYG0k62i/Ww8bs1yXNsqaSzzrnMcGZVtrr5YaFy7IGUvwQpIPro+RgnFDPmNjCf/hNea6bMLGZAcvOxmQ5C9kBJeVvRvKjCVloQzZ/4CxxJUV9fPDpJ5cO4hBWyFf/6/xiDUkWZYRKqvxuE+FwLPM+BkyyqHKPQRZCOkmFJo2yPEY/uBPiIjxpe8N4De/ec/6CzzBa9euHd4Ai82w2BSrVuvFigMhhOgdhO6NNYTulQWv13iBNxYFwYUcozixqQtKXxZOYU1v8lSEvLVbQGgtihf5cEoOyj4b3oQ21fFx3rAq3pTtScpF1shRThhS/1XfahXLEKRPuVKWeBQoL7xYrElEvhBOdjYQy5OdkM2qUO/ko2y9A8rwWK+vHo800rh6nwxU7bNpaFtMRIU24cPouz0xBNl4iQkD0sJjvnJoSdAQor+xeROGNqHNnMcL47OIB63IWIKBTz+jzXJt0qL/YdhizMb6K22I3duZ5GDM4UUarF0NTXhgNJWRvRcUGUvKQh3i/aY+XFmxERhGdqjOQzDuUA6vmSH7ZASf8bxPpXH7AmRRZhx18Bg5jnFtkPPcBl+9mpgQ5ZkUa4DhvPPOs+9uAyxgU6yvfOUr9rMQQvQLsfW/jtBatLLE1kg5CMn0ia0ZdpRZb5vHj+pP2fC+ELGbPgovihrPRixj/AKPmIit3UpzU2NT59PrPFN7zT7uJs84zVpj3Gvw3uxvpkfLCoUKJRSPgvM+ooTz7NaYAYvsfrtDdt/ji4KW1z5fjrQl6j02CZGn7Ln11SjuY0WRNdxTlSp9tigYR/QvZ1w7qOtnaztsvfhg/OJd88HbSEhzVn8tOpawC3FoPS/9b17SlxYnBnII2tC3EgPWh0cW+Xs8OMOwjOy9BFnwRPbC2KI8fLkpOx4FhaezDDzKjkkXvx7H8z7lYCKk6L4ARcdRBxOzft0DcozlemaRzaQxgP0NsM4991zz6quvmqVLl9pHJAkhRL+Adza20RXeC7wL3YKRg7ETgo1jQkYQnmlCHEOwScv9BQzIPLjR4yEou06LMEsURcIuyxpAKHYoeLGQRXAbzfhrV8uAspYV/pwFm8RQ/mUnPsrklzJkt1nnmXBUkR0FP7QDLmXN5IpfR1XrPQ3rq8c6/Nml0e0EVFFcvfczvag7h/Nm+uMPG1fFohMon9CSDsJNQ48A4tpZYbJlxhLqB9lD0AdCRg2bPZF+bKLHp4rsY0E3Yx+4ug3JzT2PEO+8SUSf0F4V43Gf8iGCiPDnrH0BqoyjGL/0q7LlIsaeSWMA+xtgbdmyxTz22J61E7/9279t34UQoh/AEONGzaxyGhQIFKqsWWaUN7dRhgu5DYGRg7HD8T6EcvlGEPBYodBjckiHx4eUNTxjsHlMyEPjFCg/HcIZCbPEW1MlDygvsceMOLju/fXng14KHp/yy/roXWXTUEYoa3heY1BnofpA7mOT8qD8i8KGVrsSxTzkOQhBGjx7OuThzpM95NXeGPHoUNb8F8LVu0+s3tNwDGGlocfe9IqxSqOX9T5RlOmztE3W5Lr/0vCM6NAkDGuhMWhjhJ7dvT3pARiPIUJr3aHsWEK0DkZwjNDjePCoYhyH6pxIEj8SpYrsvYT6YtKq6FgSg/GV64TqHco+G/3k1rzgbt5Z9ykemZcVvVH0/unDPZPHYWXln/a0seQ4uja5XzBRHYok4PFI47UUQ4xm0hjAPAvY5/nnn+98EkKI/gFFAWXjwuZxw8oC76wpYz1ayDh1nNB5JiTGFiGAWTPHrDvC6EmHtrFGi3CskKFGnvB+pTff4Fx2bmU9Wq8g5NCuSU3ScfKjjLAO7g7vsRfkl9l+1uD5CiteHDaNyePIJA28MnncWN9kvbhut2TyhsLE+jX+ywLDCWUtC+qWDYBQwt3kBzIgNwa2r4CSNhvJ8O6OJ0+cT73EFFau6coVOP/y3b+V6fEqKztr1AgJ5BgHdUhZX9d4sPPLSFy9077y6t3n5NbcnijpWYxVGmXrvR8p02fZ7XeHadn/nJHh2i3PiI5NwmAIpsuIc2iPeA5D4xW7NjMGujSAfsG4+i/1zaOMlSJjiT+eIguGCO3cyU3+aMNM9MRCwt1GdFwXOAfZSN8PuSYvvy4pe1nIf5WxpCxMlFw09PYR9xzqh/tQaFygHCl3jkmXL5v2HdHer9J9KstILXP/dJAv1vYWeRzVTSXHUe71vGizrl6QBfmZMMjSBcTYUlu0aFGZCZuuYQOrE044ofMtn2uuucaGOV9//fVm9erVnV/38N3vftfMmzfPnH/++WbDhg2dX4UQojcwrixZssS028WGycHBkTdzbowoBoTLoXgX2diJc85oLhhW1POUI26m5zTfam/gwA2VDVayQFHkuZ8oCXgyMg2nXWd0PoUhrdBNHMWAR4mk02EXTF9+lKNYKDfgTWLDlBikw2M1YvnwQQlBGcOgBTxJKFUx+R14vP6zvjW3/rj+2a2FVklycrM+zm164oMCjUeBx2W4sE4MbZT/WJ7SZUb+2bgFRT4vJLOs7JQtyq47nrpYPfDTzHSK1rsPbZJQQdYyx6CsVjSP6XwbDWmdP/32qIJcJA2o0uaL1vvGjcW9UlUoo2P541XZumOswtvqxp68dgsYZHj33JiIkYnhFGtTjG9sLpRusxi/IYOuyFhyUTKW+O0DudmMKV13bByFpzcL2uMHWwtGyH/1wM+ispSRPU+WWxubR9VL2bGE/CxtxZcQEjUS6iuMIRijabm5T8XGX9oJSw+IfqJ8kR1vKY+5yhpLytynHGXvn4A870vaWNbYkabKPQSD+R1JX0nXffo+PdbjQr9S1ibsJX1vAF944YX2tXnzZnPWWWd1fjV2PfBnP/tZGwad/l0IIXpFtwawEEKk6WcDWAgxMcgAHn/6PgT6q1/9qjV+FyxYYL7zne/YRx+tWbPGXHLJJWbHjh3aBVoIIYQQQgghRCEmxRrgT33qU2b9+vVmzpw59tFHb3vb2+yswac//elRm2MJIYQQQgghhBAhJoUBzI7PGLsnnXSSdZXzvmLFCq37FUIIIYQQQghRmEmzC7QQQgghhBBCCNENMoCFEEIIIYQQQkwJ+n4XaCGEmCjK7gIthBATiXQsIcRkQbtACyGEEEIIIYQQY4wMYCGEEEIIIYQQU4IJCYEWQgghhBBCCDF1magQaK0BFkKICGXXAA8OPtz5JITY29m4cVHnU/9QRsfSeCVE7+nHcaFf0RpgIYQQQgghhBBijJEBLIQQQgghhBBiSiADWAghhBBCCCHElEAGsBBCiMIsaR3a+SSEEGIqo/uBmKxoEywhhIjQ7SZY5zYXmfc155sDzHTzotllfl5/znxh4J7Ov71hWesI8+HmQvOm9r5mp2maTfXt5muNn5snai91jhjNnw8tMScmissM0zDP1l4zd9SfNDc04hvioOQsbR1mjm8fkqTRMhdNu9MUvXH8YXPQnNCabfMHlMOK6bfbz2mOaO9vPtk8zhzbeqP9vqm23dzWeMysqz9hv4dIl28R2Smr05PjF7YPtN9/VXvF3F5/3NzS+KX9HoI0Tmsdbg5p72O/k6+rB34WTcPJsbB1oC1f5P1h4ynz9cbGzhGjKZPGl3efOlyWIdbXt+S2MerkjOYC+/ns6bfa9xBlZYcybf7M5pvNiuYxnW8jub/+vPncwN2db3HW7Fpu08qS26932vzaxiPRtkX/WNqa2/k2klsbm4frcm/dBIv+/rmhd9rPaxoPjOofWeUD9KvPJGNEiLJ91kG/+mjzrWZRe9Zwe4y1Eb/dctyN9U3mnvqv7fcs8mR3VEmDcjuudfCw7BuTvnHFwE86/2ZTpM8WbbeOb+86w9Q6n0PE5PfvB7G6TlO23v37QZH7VFmqjNVF8qVNsIozkTahDGAhhIjQjQGMwnJ066Bhg8HdOJ82r5i/Hbivc1R3oNifkyiFX00UCad4/cnQ8WZ++wCzctpd9rvPFUMnmW2JCuKMBZSZC5N8hQwC8rxq6ESzvbbTbKw9lxhe+9lrFzGAOXdlci4K1vr6U5mKC8eidN5a3zyscGEcfbC1wFyeKIghJQmFimP+rfGEVVi4xntbR44o8zSU1QVDg+anSTl9K5EVPtQ8yry7Nc+mGcqfU3LTZUO9ntKcZy6b9h/mcS8N8nBpIsf2RJHietSJU/x+Ud8WVHbLpnHl7pPND5PyDCmmGMeP1V7MNIDJ4//e/W6bN5TlmDKdla9Lk3yF6qRsm3cGcJYRngUKP+0RYnLTvi8aerv518Zjw3VMumc3F5pvDjwYNILddfMU+73VAL46aUePJ+VJ+wgZQYwxM81AsLyzyq5sn3XQdz82dLR5sv5yUl9PBuvMQRv83eYRw2lQ/x9ozTeDieF5ZZLfPCPY9aGY7FAlDcY3yswZycj+8ebR5sD2jOhY7SjaZ13ZF52gvH7X+80fTP9e8NgbE+PYl598MKa/6N0P8vpJlXr/+93LRoyjtIFlyXj0aFI3XKNbyEPZsRq+luQLQzkrXzKAizORNmHfh0DffffdtoCyXkII0U9wc8VQSN/cecdb8Y7WHHNk8n8vwPP7L4nRyI3YgaGBQoPC4cNvKFxpxZVzMXK4lg95Rrkh3854KAoK38/qz9jz887Fs/NIbdsIZYvP99Wetf+FeG+iqDiFCsgrn5EndM5ZiXwYv8jOsbwoK66B0hPyhPA7s/tphZs0UMTPTIxnH9LFI4JC6+oE2WkHKMm8fGJpPBFJg2uHlHI4pD3T/Kr2cudbmM8kxuD99efMw0l5Z0H5xmRn4sCHNn9y0ua/HGnz/N9LUDyJYri2cX/nlzBntxZahTbdBik/PD14hcVI9hi39cxJFPpN7P857TeYrbVXOt9GUrbPAn0G45fJCtpSlvFLG8Mwpa5dGlwbY+YX9e22LWSB7DMS2b+YyBYzIKuk4fo+Hk83LiA758xu72PbchZF+2xZzosYvy4/G5LxOw15xrguez9gjCtT70wwTG83Royj1Dvpvr01uydjSZWxmnzNSPK1KpAvopx6PcaJsaXvDeDbb7/drFu3LvgSQoh+hNltDAVu9D4x46ks3KD3b08LGkMP1V8wp7Tmdb69zrvac8y9nlID3MT3S66Vp4gVBU8EBq1TePLAc4Jnx2d9/Wlr5IQglO4bgeujxBBm6EPYsPP8piGPXCsEv4cUPTzob2u/cZTRjDcEb7cPytKTiVFweHu/zi+vE0tjeyeNouC9gCzFlAmQI5I8fLPxYOeXOORrbYbsPrT5XyVt2/dYQ8xo7gYmbJjQcIpoDCZ87qs91/n2Os+Y12xIdFYI6FQDBX5pMm4wqVYFzqdM6bchaFOhMcH12VBdnN881tzY2JRp+DoWJ0bIS7VdwTHxJ7Wtti3E6pu8Ew2C7Fne0yJp+NDvCQsP3Q9equ1OxvLZnW+jKdNnewXhzSx3COW3Cln1ztjv18lBSRmydCIEkQmMNd2SNVZTV6Gx2uUr1D6IGuhFvsT40fcG8GWXXWYuvvjiUa+HH95zY5YHWAjRb3CjxFAIwe/cfLuFGzTKUwiUe/73FQuUM/4LwbWObR3U+dYdKDX/FDA2Y6AgbQgYMigjrM0qa5hzPX8G/yPTbw0qdCiYrEkLQahbKO2ZSZ4eqj0/ShGKebtRrvHOvhyor7w0inJs+2C7ri4GecBoRHEPGak+5Ou0Evnqps0zYcJaXsIub9j1fvs9C+epy/JSOgjfPzKgzO5rBqySHzN2uD7LBciPDQdN8ucmGfZWnKcxZNwVAQOAdlPEWPWhzy72+ix9mHoomh+O+6NpYecIa4d3mKFofRMmz5rcvLSKpOHzZO1l2/9DIN89gUlJKNtngetd3mW7fUtrlnmw/kLn29gSqvc8jurB/bPKWJ1HL/Ilxo9Juwv0+973Pvt+/fXX23chhOgXZiVqSBasBevW8zTb7Nl8JQaGow8e4yzIV7egtB6YKDUYmxgyeYoYx+eVBd5pHxTtTzQHO99eB+MIQjP4Pig7rDMmPC+kGBN2iQLKcQ6MVSYSbm482vklnz9qHmd+mRinIcOgV2mwkQvr0GKw3hClLuTVDfGPJfPFNjJZhNoW+XGTD4QesraRNZSE0WJ8hqC9OE9dEQg7xWOdnmRAJq7DJmshMGIIwaQ8V037kc0XXkjWRBMGuTdC3+zW08iaTrz9MeizofKL9dnF7dlJ+2jZ+qI9MI7wYp1uaNIoBsfiYY7VN7KT9nVdyJ6VBhN5jDF+m6YsMGxjEwZl+2wv2i1y2AnJWtgor0JWvTP2+/X+Qm1nMIqHdsDkasjL3isYq5lIDNWJy5d/vyJf/D6W+RK9Z1IawMuXLzcLFiwwmzdvtiHSQgjRT4zHjRCPW1lQbMYap8zghcAjwiw7ihiGHkaHrwgVMVRDfD9RNFmL566H4sYGUexMys6ceaC0sAnKr5NjY6HaKEGsZ+Q4DHgUWNYjsglV0fBAzpnT3scaYiF6kQay45n9fv3xzi8j4X8UR9bLxjxgPmXzVaXNk8a5079nPbkulJl31uUd3trP5tsHY6WIp85BXgl1JO9srIPxxMZuW2uvBpVcYI0rO5XTLpyspMdmc7S5vQ36Autzy3gaQ9CX2RwpRtk+yxiHR5M2yNpL1swyllCfTM6E2ocPx1wwNGjXfIfqG9lZo4rsRfubT14aQN+kj9D+mBRkj4TfbM0x362HjXKuWbbP9qLdEgVEXbj+2AvYgK5MvZP/XbWmPYZ7BnXEuat3v9susxgruGdljdXka2eSr9WBfGVN/Ij+ZFIawH/wB39garWaWb9+feHdWYUQYrwg7HKsYTa6LMzEjxd4JFFYnaGCYohhg9KXhvDAKmBYc22uh1cIBRTlhF2j8RplkTZ+2cAkBkrqDtO0IY8olhzLDsjsIBzaZMwHo/HQRKEiTzHlOpYGCn6RNCBvzR47hf8oMRrKKLVlZe91mw+tjcT4ZdOgMp46zmFdKzIgC6GPvA5tvyE31NqH8ptuGoXrZbKApxFDJBQSWhTKGbKuUaXP8pih0GZFGIZ5m5g5wzS9AZMPsj/ThexF0gDGGx65Rttj0oexkc0HVyZtkPHIp0qfjcE1iAgq0m4xStl8sJdk1fuOSL3bNpEcQ/l8afd77Llc48e1rZ0jeoszfrPGaqDexjNfYuyYdAbw3Llz7ZbZ27ZtM1deeWXnVyGE6B9iayEdWWvRihJby+sIrWuNrRl2hNavVQXlLeZNQml0oJzllUVsPRaKFUYNXiGUSow0lBc2vIoZ1qSNMvqf9a2Zxi8wy+9vnMX12QiFDcVioNDivQDyl6VQxdLAy5mVRpqFOWv2MCKQ24WQ8nLP3+UzefBhXZ6/jjtLdjbtyqIXbYvHrhDFgOKZloX65vEwTDj4YPyGNru5K/ktFM44FZmTlB+bV6XLlBfQTpznLovBnDXojip99qbGps6n18FopT3E6g+DHK//PwxszDRMY7Jz3TzZi6bhDE8MpTRMCj5b2xHcPKlKn+0Wrkm6sU3MuqFsvfMfx3As53Au1yCqqJeTbW6spr7zxmoYr3yJsWfSGcArV6607/fck7/5hRBCTAR4Z2Ob/rC+kR0juwWlAeUhBJv+8L9vWHKD5kYdgo0/7u/BxicoeXgOy6wnxjP9ewHvBAoghnwsrDAECiu7eIY8J1zvgqFBa/xmKazgvDIhhYj6JZwxpHw77zJegjwDu0gaeSATa67xLsVAUfNfaxoPDP/nl1WVfLk2HyqTKm2e0FeumYZQaV8OXtT3+vqWYHlznVcCxjf9o+ySAFcuMUNtsoJXMlSuQDvJ6ytAxEdW+HMWrs/6G+G5zaFCewBkwfUwOmPPeU4Tk52xM0v2Mmmw4VrMw82YHFrOEspTVp/Nomi7JZKk1+HPWVCGTwXqPQvCwnvlbS0zVufBZJq8wJOLSWcAn3TSnhneL3zhCwp/FkL0Jaz3wqD0Z+m54bJOLmuGHaWAGX7WibmwwhAoKSiNHO/zG+1DgkoMN+jQ5iKk83Kt2u6tIf698UR0sxDw04l5O1HI+K8oXJ/nL4c8Rs5bg4FeRKHH+MP4dnn2YX2sfwfCGEWh4nmdRRSqImnkQRnRDkLGalWq5Is2f3DS5v0dXblGqM1TVrRx3n0wLPZvT4+uaS7DdrPLGiAhQusP2ZiHtcIh2Xl2KAr7eBkIkwX6FiG2eMLKQjm7Puv3J8aJ++vPB8cGHkfExnL+OYS1E5aKV7ZX45lP2TS2Ju2MiZgYec/uLkJeu41NCqYh/LnXzxqOQT55bnio3mNQ7qwB9j3paYreP8uO1VmQL9YAZ+VL9B+TygBetWqV2Weffeyjj7Zs2dL5VQgh+gsMCG6GFzaPG1ZIeGfzHdaKZSkiPFAfUCgJ3wx51Bysg0N5TBsRrN2MrWkjT7+obxsRKsq57BLKerRegYFp13gl6Tj5UUZQOO4IPO8Xzx5rO9PGPMcfmZwbW++JkZRW9jj38t2/FfTIcC3nrQmVCwpTqJypKx6Pki5frkWZ+7vlMtlxQce7HHo8z9W7T7V58CmTRgjKIPRIpm5hEoPH4oTyFaoT2vw/l2jz1BGTG5QZdefO4TPpcE4vjHp25aUfcU0HMpHP0DNf2eEabx1t1Z1D3lByeSZ1aHJlqkMIMWvQ8yjTZx031jdZ77LbKZrzOY+16PyXhrGPCBfWcfrXI202oMoaT4tQJA0fjmO/AdqQmxRFDmQimqLKxIEP7Zb1tFXbLccS/hx7JFM3xOqdneZD9U4ZpccdvhOmzNMV8ozVIvfPvLGaOgyN1d3kS/QftUWLFvX6vpkJxitreKtw5513mlmzZtkwaO3+LIQYazZs2GCWLFlSONpkcHCkIsONHoOBUEs8aij1ed5HzjmjucAej8GapxxxQ2bDFJQXwNBgo44sUOIIJUNJIPw4UwFNjMMsSCtk0KPwsMFMOh12SY3Jz/EYgijTgMdi9cBPo0YQBuXhnRBwPHls3IISGDoeJZA1olnwnOBQLaNMMkHgyhdFnzrxZUZhcmv0YhDCGPISFE3DhzL7v7vfY/5XpA5ChPIZq8Mq+Srb5snPKYmi6uqdumSSpIhRgKKaXgaAtzCkiNJH2DApnQbGb5bHBjnw8qVlx5hO95ONG+MepomijI7lj1eOb3sTQrc2NmfWIZ7HIssKyvTZNBgatMV0/TFh549ZfnvwYUy5aNqdmZNF/njny14kDcKqQzAOERnj+gYTQEwm5clfps8WabchKF92w2azuCz8tuETyle6zIrUO3lBZu4blBNry4leyuqvjiL3z6pjddF89eO40K90YxN2y6QxgM855xxzySWX2EcfnXXWWZ1fhRBi7OjWABZC7L3srQawEKI6MoCLM5EG8KQJgcYABh59JIQQQgghhBBClGVSGMA8+mjBggX20UerV6/u/CqEEEIIIYQQQhRnUhjAbHiFi/zUU0dvLiCEEEIIIYQQQhRhUu0CLYQQQgghhBBCVEUGsBBCCCGEEEKIKcGkegySEEKMJ2V3gRZCiIlEOpYQYrKgXaCFEEIIIYQQQogxRgawEEIIIYQQQogpwYSEQAshhBBCCCGEmLpMVAi01gALIUSEsmuABwcf7nwSQojRbNy4qPNpbCijY2m8EqL3jHUf35vQGmAhhBBCCCGEEGKMkQEshBBCCCGEEGJKIANYCCGEEEIIIcSUQAawEEKIMeOI9v72JYQQQuwtLGkd2vkkJiPaBEsIISJ0uwnWuc1F5n3N+eYAM928aHaZn9efM18YuKfzb29Y1jrCfLi50Lypva/ZaZpmU327+Vrj5+aJ2kudI0bz50NLzInJzXuGaZhna6+ZO+pPmhsa8Q1xkOO01uHmkPY+9vv99efNjfVN5p76r+33EJwz2D7YLGwdaK99S+OXnX/CYCR/snmcObb1Rvt9U227ua3xmFlXf8J+D1FW9j9sDpqjWweZhe0D7fe8OqGclrbmdr6N5NbGZvP1xsbOt5GUrfcysn9596lW3hjr61uCaVFWpyd5crJT72sbj0TLt6rsDsr6hNbs4bxSDium324/pylTJ1cnsh9eQXa/fKu0eerk6oGfBdvWjbvO6HwKs6bxwHD779dNsM5svtm8qz3H9lfGhaz+lNU24Fe1V8xnpt3Z+TYSzj2udbDtG6SxManrKwZ+0vk3DnX40eZbzaL2rBHj0OcG7rafoUi+Lkry5Y/mrn042WmDP2w8ldnGy7SPENfuWm4OTMog1mahF+02b6wuK3u34wLt7JTWvKQf7zfczv5hYGPmOM8YcUZzgf38kem3jqq/qsT6bWysAsrrva0jh8ess5P8+GgTrOJMpE0oA1gIISJ0YwA7xd4pRU7ReNq8Yv524L7OUd2BUXNOohR+NVFSnYLzJ0PHm/ntA8zKaXfZ7z5XDJ1ktiVqh1O6mMW+MMlXzBhCjt9tHmH+rfGEVW44/gOt+WYwUWKvTK7hK1ak/7b2G81DtecT5e5p87mhd44wAEJQNhx3a33z8HEoSh9sLTCXJ8pxSKksK/vq3SebWvL+w/pTw2k4ZfHx5PohJRxlj+vFlPkQZeud/y9NZP+XgrJfmciRliENxvFjtRdHKdTU2UVDbzf/mhjVTnkmjbObC803Bx4M1ruTPWQwZIE8q4ZOtJ/XJ/nMUtbL1gnH31VSdvj73cvM9kSpJS+0FdrOsiSNR5PjQwq7y0O6T1CvpzTnmcum/YfNW5obdr3fnDv9e51vI/l2omRf1+cGMP3m+PYh1ri6KzHIaHNuwgQj7Y+mrbPHOTh+phkIlnVWn6GPc54zyGgrH28ebQ5sz4iOV0BePjZ0tHmy/nJSH09GjaUi+Qq1Z9rHfbVnzc2NR63s9Jfzm8faMSzUZ7Pax6VJ+wiNV2lcXiDWZuFrSb4wxoq227JjNZDG/1dC9ipjooP6f0trljWwv19/PLecgDayeve7zU+TvGN499oAzrs3peHeOaPdMA/WXzCvmt3m95P7jwzg7phIm3BShEAvXrzYrFmzxtx99922sHitXbvWnHPOOZ0jhBCif+CmjTKU9gjwjrfiHa055sjk/16A9xPDKa3YoLSgIGDg+PAbymZa4eJcFDmu5YMcKFQoYE7h4ngME7xDZ7dGn0P6KEe8c2wRZQXPziO1bSMUET6jlPJfiLMiskNI9lWJgo2SnU4DuTCgUfowxLolq95PjNQ78j1cQnZfhjSHtGeaX9Ve7nx7HerpF/VtI4xRroEiipHTS1By760/Y9tAOr0QeXXiw/FlZccomJ4oraTj2gpGC3Xy9tZsW2c+eO8xBtOGFu3/icQAO7N5VOeX14kZvxgstKsNSXn0M/QbjFzK3rVbZKfMKDu/P3F8zGib036D2Vp7pfPtdahPXniUXT2QFmPJ7PY+tqxCcA7GLxM11FnM+IWsfB3ayZc/HtE+gHOd7OTv2sb95t2tecFxIat9fCjQPtIgJ9E3XD8L8oWxRZv32y2RFX675fvvlByrSQP5YrL3Ejf5gWfVllUnvTyYuCNKgDFyoqHs6RPk/xUz1PlVTFb63gCeO3euueaaa+wMwUMPPWTWrVtnDeD58+ebSy65REawEKLvIEQKb0XoJs/vISW6LCiG+7enBQ2Ch+ov2DAzH0IcMU58UKz2S67lK6GLE0XrpdquYBo/rm21xnQvwEOBZ8cHDzLKog+yH5Dk958D+WJ2PiT7eFCl3gkHLSN7DLxSEDI6qaf7as91vr3OM+a14dDjXoB3iIkMp4CPF072tQHZD0pkJ6Q6xOO1F22d+RCeGyrH7WanjW4oytLWYTY0tqiyP9nBCKM90XZ9CHklBDlUFi/Vdid9enbn20jwRt7Y2DTC2CxLVr5oHyHjCkNwummY3wtMpnXTPpi4w5vJ9bMmB127DR2D19hvt4zVLydjdWhMjI3VWbITnhyaSKwC15nT3tcakGXgPNrNdY0HO78I0Tv63gBeuXKl2Weffcwtt9xiVqxYYS6++GL7ft1119n/zzrrLPsuhBD9AooFYcYh+N2Fv3UDigGKYwgMG/73vRcoQfwXgmsd2zqo820PGL5++KODtXg7ejQLjkK5IVG6fJwi5hvmRWQvAgoW4d9ZyuiM5DZJ6BthrjZkbtfyYYPLJ6veUY5D9Y7spO/DbyjgMc+Yz7Htg62nJ8T22k5zZKBM9jUD1kCLgeyXF5QdmMj4p8YjnW/VSNdJUVhrjuxFog18jgrUCWGnoXKfmdQHoaFFWdiaZSdkJiNMMhFuv6vWjHrdfTDKKLuQsfpk7WXrpQ9BO7snMDFHHvivaPoxyNdLSb7uCOTrhaRv4LX2wWhmfWrIoKzaPvaEaNfNFyNe6jL47daN1aE+EBur82SPlXuZMRGYeGU5RBnIA0s0yMNYTiAdn4wdhMAjBy/kIm2x99P3BvC8eXtm8u+/f2S4yM0332zX5c2cGR5QhRBiomA7kSwIBes25Ha22bPJSQwMRx88xlmQryKg/OG5ZKOmbkHJzSsLvNNpqsieBoUNZWdF8xgbahxa/wsojYSAsuZu1bQf2fVeeKNY/+dCJ9PMKlnvyJ6HL3sMNrEhnyEIO8UzlVbaUfJIP1aHZWXnWqwXRVnFE1xUOXYUrZMQWbKj5NNWfZAfg51JIb/9EW7LkoC0IkzZcSxrJYtgj2dip9bf4c8+THhQD4Ss7kyMX9ahF4W170Q6hGBCg7WpGBhpaEusqQ4ZzYvbsxNDrGXrgfPIFy/We4cM0BguXyHjkGgF5PTbNGuT/z3Jb+icKu2D/kFYMcs2ikzUuHbrt03S5PeQRzcE+YqN1ci+IyI7dRWi7LgAh7f2syHDjAOunzM+ME7EIA9McoY87b0CI58xmSVAyPGn035gJzDZkyFdt2LvpO8N4Icf3tP43//+99t3x4UXXmhqtZq5777ebCYjhBC9oqhy0g14G8uCt7FbUKguGBq060e7CUt0FPXWpqkiexrWoWFgra9vsWuyY4oba+P8NWt4JFijytpoXzktW+9VZA9BneB9YmOZEOQdDwxrKfF2YECwUdXW2qvROsyT3cfJggGFxwnFFaUSYwHlP1bGjqJ14oPsTHjEZCf/eDHxZpIPFFuuzcY6v4oYa5QJ60VRhFHYMb4oOzbrKuqNIpqCXXtDkQ39zKUDd1tDgB19MVwwRIpCG9gYCLV3UEf0EdofBhBG9m8mdf3dengShn6Ot5F6YD0s7YM2RVvGAKXui5CXL5YgkA/y5eqbfMbaVJX2gfHHWtaYV9XHGeZs/Oa329gkg0+RsZq1zGVkLzsmAvcdvMBEd5AX6pBNuYD0fMg3k1N566S7hbX76XXlyMMa8l8n/TZvLbeY/PS9Afx3f/d3ZsuWLXYNMBtfsSHWVVddZT70oQ/ZtcB/+Zd/2TlSCCH6A0JOxxo8BGUhdK8bnELldhntBYRGlqWK7D54pFB2MNB4xAZKZlFceLK/PrBsvVeRPUTeWlOU76Wteeb8RHElTJINqngR/pjlhQmB7FnrA/HG4jV0ij7KJRvHoGTnUaVOiqyzJT8YEysTWb+0+z02L+SPtZEhMMx2mKYtK5R9lGR298Xoisnt8xvtQ6wnu0pY9kRDWdK/kZlde4tMRjgvf5bHjnK9PTGsaHsYHxi0eN+ol5jHjcf54AVOb2JGGhhHRTZwc/kKrQ8H2hjGK22EfLn6Zp0tk0Qhg65s+yAPbPRVdi0r5VOm3aYpMlbnyV4GNy6E1kwDj3Ki3lxeXF+nf/gTGezu/6P6U8P1Pd7gBS6z1l9MTvreAMb4/cQnPmHWr19vjj76aHPttdeaZcuW2e/nn39+4ceTCCHEeMF6zywII+t25Iqt5XUQ3uUTWzfrCK0Tc6DEoSzxzMZeGb+AkpNXFi97+a4iewwMNDbnwZDqltj6X4df70UUPF/2EHlrTTF+8Zr55YzHKhQe3A0orjFj1Fd0Y5SpEwy0vHW25AfFHqML7xOGC8o4nmomLfxywTD4lreWmWvgwcOTlQfnY/CENl2aTCAzGzERQpyHW4cdA8MQY9L3gFLXz9Z2BDcjc9zU2NT59DrP1F4zb2qP3ufAJ299OI8VYod0v83i6ZzX3tcsDkzClG0f5BMvKEasC+PmxTOtebRPyAsKee02RtGxOkt2nt+NnL2CSSq/7mFnMib6e08w6cFYkS4rlkYAjxXrZb7E1KXvDWD47d/+bXPsscea1157zTz44J4ZtKVLl5ovfvGLNgxaCCH6CTyUsY2u8Loxw94teA9RUkKw4RH/+0ofShPKUwg2qLk/YkjgAUKBxTPnwsV6CZ7pkOcAJQhj1k+ziOxlKbr+GZy3yk8nq955DEuo3pE95DVC9l0B2X04jrWmeNZiEEYaemwH+S8bFh+THeUWr1iZcswj71rITv5j4Zp5EGbpe9OcfL5RANRvkTB3DPfJGP4co0id4vnPCjNmwzU8uSEYl0LLGtzGWEXXwYfIyxdLB2i3Ieib/jKFKu0DTycGrP96svaKDfnHyC0Dk1YxL3CZsbqs7FnExgXA+C0zLoTKak3jAfsfzwEea88w5VI2mkdMPvreAGatL487wvg9++yz7WOP8Pw++uij1hP8la98pXOkEEL0ByjkGJT+TDVKAkpFlmcIBYYZb9bIufC9ECgBeMlC4YmEX4aUBJSmkMePdHiERkhhIkSW0Du8CWNh/ELMc4IhwX8+yIby+ImA7MdHZI+BEYUx7e9Cy46trJd1il0ans/7VJK+b+BUqXc8bGVk9+G42ONlHNsTZRYDJASGmk+e7KQXKmM2DQq1L3edou0nVic+RWSPQbtmDbDvleJaTLqEZIfQM2596H88XibmdZwsUAbUZ97O14wfhL9mhT9vTdoZEzExQs9wpr3cX38+2D947M8vc3b+LpIvojYweGL4j43rRfvoBtota4BD3tSyY3We7P7zq4uMC6FJH8o/5lE+NPm9l5ESRe+f/B+6dyJbaGJM7H30vQH88Y9/3Bq/hEETDg0bNmwwH/7wh80LL7xgPcGsCxZCiH4BJQkFhce5OGWBd9ZVsSYry0A7ofM8TBQ3QlezYlxYB3dKc541GBysTyM8MKT0kSdC3tIhd5zLDp6sxfPhWniMWSPmK1R4Gdg4pRfgISFkNK2QoLwcmZRZbN3cmojsbGDiy84xbPCCgpg+nvQuGBq09eHLx26ueKzY6MYpUtQh1+D5vIRl+sp3rN5XJvWOcRiqd2Q/tKTsabg+BkqWIcAOsLSltEJIOZBPdqX1QfYdObKHINySNYu0Lyc/53MdNttJU6VOfCijPOMMpTt9fb6zIRY7dsc8b/TRi4bePuI85KC9fTOnTpCbEM48472fcJsfpSMR+Ey9sYEYIbFZ8IzdrMdpAXWJEUx9O0OIssKowmsaM1JvrG+yXlyOA86hjfCIHP7Loki+aOs8o5ZrujZL/igPJqDYodonq3306pm1ZdttlbEa2TFAQ7IzMedPLBUZF0LjEH2ZF+ONq3tkQ55fRybTqlL0/kkdsmlXuj26Nk/IfGiCQexd1BYtWjSuk5RsXMWGVkWYO3euue2228zmzZuDz/u96aabzFFHHWX+5m/+xm6QJYQQvYTJtiVLlhTea2BwcKQSh2KBUkSYJl6DrA1JHJzDBkAcz004y3sBKBJsGoLSDSgTbJ6SBcoSs9woCYS6xcLlUJpiocbAjD+bp6RBoWBdWww8OiEFDkUKpRKlFbj26oGfjlLC0pSRHSXnA6351mhyx+P9xDDLKmPqA6+KOweFGoMyyzgrW+9VZAfO+7+732P+VyJznhJJWbFpkEsD2TF+sxS9KrKTJ3YOTrcvdn4NyV+1ToB0WFNJfWfJjqKOYkteqAuUW7w7eQou5zExlJadPOWVM+e9LylnNhwLjRobN8a9Ur2gjI7lxivKkl1v2fjH9XfqDSOICZo88Ar+Z31r7tgGjA94lV3fwMjEaMxq67QTyjXddpmwy2qHUDRfyP/JxDjD0HZt9r+S87IM/6rtA65OxlXW/zpCY2LZdutf0yc0VkMV2auMC8AkBju8p+s+715FGbj1v46sPl/m/km7Oru1cITsWW0+737Izum0tbHu43sTZcarXtPXBjBwPB7gT3/601YZdWAcX3/99eaggw4yp59++rB3WAghekW3BrAQQqTpRwNYCNE7ZAAXZyIN4L4PgWa353322cdcc801Zs2aNfYRSHy+4YYbrPHL/zJ+hRBCCCGEEELk0fcGMJ5fPL1bt261swRsfMW6323bttnf+V8IIYQQQgghhMij7w1gWL16tV0DjAHsXnzndyGEEEIIIYQQogiTwgAWQgghhBBCCCG6RQawEEIIIYQQQogpQd/vAi2EEBNF2V2ghRBiIpGOJYSYLGgXaCGEEEIIIYQQYoyRASyEEEIIIYQQYkowISHQQgghhBBCCCGmLhMVAq01wEIIEaHsGuDBwYc7n4QQYjQbNy7qfBobyuhYGq+E6A/GelzoV7QGWAghhBBCCCGEGGNkAAshhBBCCCGEmBLIABZCCCGEEEIIMSWQASyEEGLSs6R1aOeTEEKIvQWN7WIs0CZYQggRodtNsM5tLjLva843B5jp5kWzy/y8/pz5wsA9nX97w7LWEebDzYXmTe19zU7TNJvq283XGj83T9Re6hwxmj8fWmJOTJSKGaZhnq29Zu6oP2luaMQ3xEGO01qHm0Pa+9jv99efNzfWN5l76r+2332OaO9vPtk8zixsHWjTQPYfNp4yX29s7BwxEo7/UPMoc3z7kOE0iuQL2Ze2DjNvac0qVLYuX8e23mi/F03DlS9sqm03tzUeM+vqT9jvIbqp98uHTjKDSf5+VXvFXDTtThNqeSiEH2jNt3KTBhTJV9l698srK41v7zrD1DqfQ6xpPGBuafyy882YM5tvNiuax3S+hTl7+q2dTyNJl+94tXlkv3rgZ8E0bkxkzyIte79ugkV9vKs9Z7jPFinXsuNClXZbpc+muSLpT5yb1Z/S/GFz0JzQmj3c3+m/K6bfbj87qoxXX9596vA1fa4Y+EmwzHop+2cS2WOk+0aZ8Yr6PLu10Bze2m+4Pm9tbI6O8441u5bb49fXt0TTQfb3to40R7cOMgvbB5qPJGPBWBgrVcdq8vfR5lvNovasEe3/cwN3289pKN/jWgcPj1c/Ter6W41HRvQrbYI1/sgAFkKICN0YwChS3Lyd0uyUmafNK+ZvB+7rHNUdGGfnJDfhryZKqlOg/mToeDO/fYBZOe0u+90HpWhbcht2N3mUmAuTfK1NbsghJRQ5frd5hPm3xhNWsXFK7GByQ78yuYavuCHn54beaZUJFDX+d0rGL+rbrLLnc/2u99vj7qk/Y/PglB/SxXDwFT6U9eXJ/1sTxW59/WlroD5WezFXcfn73cvM9lS+KL9liQL/aHJuSGlD1pWJ8pJWWJCF32NKezf1jlxcf2OihM1JlOWQwk6eLxgatPWxofaMlYP8IAdKbKhOoGy9u3q8tb552Hgjfx9sLTCXJ3XoG0XU4R9M/15QScVATBuB4CYWQoq5M45DBjDlw/+uPbq2ki5zn7KykwaGXfp/6vWU5jxz2bT/MI97adyQyH5uInsIJgau63MDmDEDYw7j6q7EKKEMqZ/Tkz57YKK0/9G0dfa4NGXHharttmyfTVOkPzloR6uGTrSf19efyjQyqW/GhKLjFWAAFxmj0nwtkT09jnYje8wApo8fmeT/Xzr93NXJzMQYDo3VDtcfMBjXJe0mVHchMAa5P0GsPOivM9oN82D9BfOq2W1+P7nHjYUBXHWsph4+NnS0ebL+spU9NIY4mNCckxjIrnw5l3FvhqmP6FcygMefSRECvXjxYrNmzRpz991328Line/z5s3rHCGEEP0DN1KUg7RCzjuzw+9ozbEKRy/gRsqNNa18cONGUUAB8uG3A9szRigdnIuiz7V8kAOlDgXMKVwcj2KEd4jZfx9mxXeZllmVGOAuX5xPWaBc8fI5LzEeyJNTJCgr0kNZXtoaPc6jSKDQkY8s5SMNys70RKliYsDli3OpEzw+yOqDfMhJ3lw9OlnOSsrL93hm1fuJOfXOuWcn10S2HabZ+XU05Blji/JxcvBOHskryquPq/cvFqx3oB4fqW2z+XHw+b7as/Y/H+owpKCi8MGGxFhIgxwxpfzI9n4Gb1cIJlKc0QWurSBPKF95bT7ktSYNjMF02yKNJxKF98zmUZ1fXidm/CI71/dl7zcYM1DGaduu3SI7fYU+448ltNXfKTkuVGm3Vfqso2h/clyaGIL3JvVEm0SuLJCjzHhVBWTHCEyPo72W3Y3HTKC6fu7qBEL3EMCw/s1kPLt02n/YY13+8qA/MNlxbeP+zi9hkJE6p0xfMUOdX3sLZZR1j46VL+WF8fvNgQftsa4NhKD83tI60PYLV74cTxujXVPHYuLoewMY4/eaa66xMwQPPfSQWbdundm6dav9/vWvf11GsBCi78AbwOywu7Gm4feQEl0WbsT7t6cN31jTPFR/wZwSUMQIcUTJ8+GmvF9yLWesOBYnitZLtV3BNH5c22oNCx9m9/Gg+MYQShKheIcnxs1EcFCSV7wVIfBEUGc+yIecPq5eFyd1kKabesd4e6m2OzHMspXvKrh69+uEeqcN+fUOePLwbvjgcUeJLQoh6oS5hsokBt5IDO0QhBE6oysNRgt59g3avDZ/WkB20ggZQdvNTvO29p5w1CJUkX0ywLjwcjIu/HOJcaEKVfqsw/WnPGMW8Eo+XNsWbFcThZM9NKnUK9kZixmTQwbsfbXnbN/xwTBkgigUBZIHE057POfFDOaxJG+sJsQ9xIrmsebGxiY7fuRBeDQeeD9iBKhb6lhMHH1vAH/2s581++yzj7n++uvNihUrzMUXX2zOOuss88ADD5i5c+eaCy+8sHOkEEL0B9zYCLkMwe8uBKwbUF5QckI8Y16z//vGAIop/4XgWse2Dup82wOGbyj8Ebi57wjMzsc8KChOh7RnJopzOM8+zI7jfcaYHg+OqlAni9uzO5/2kFXvGE+xek97RkIKbx6ULUo86zdDRmvZegeMwA0BRRXllbWCIaM5BOs9CWUsChM7rKnD0C4LefYnJarITthpSD7CQh+qPd/5ls/CkrL3E9TDlbtPNrtqzVETYG5cCLXV2LgQIq/d5hHrs+n+VATWZ7LEoRuKjFdz2m+wZcqSAF6ERRftRz69kj0L1vb6YDiylKWs8UuYPWG/6UiMiaTKPZo+MTORITTxEwJZY2HkXL9oPxFjQ98bwEcffbTZtm2bWb16deeXPXzjG9+w6/KOP/74zi9CCNEfsI1MFjPNQDD0sgyzzZ6NN2JgpPjg7cuCfBUBJQulkXWwRWFtFaGOWTPnKBhOOXSh10U8OEV4obbT5tkHJZzfMZT8OtmenBPygiD/4e19R83gz6pY76zjruIZQemmrL60+z3W8Iitoyxb79RDXvvEe5oH5WQN6VrxEGC8phigsbLgv1DoIAo2efYjDKq0ecIb8VbRNhzIQhu5ufFo55ds7PElZe8HWLNIm2Jt6M7E+MXTV5Si40LRdlulz0KZ/kRbp41i0GGMs76XvLFRE6G+WZQZrzB2aGvkibXtvIhMIJyWcvNxsvvypWUPgfe3qOxP1l62G3Mhhw8RRJSLzwJruDVtnjHgnfys2033lzRc/93J9Viu0y8UGat9mPDcaVrJGLO/ldfJXnYig/bPZEDRsUSMDZNiDTAGsM/tt+/ZlW/OnNHKiRBCTCQx5aSXVAmfCik0ZeFGz2Y27OpcJAwMUBYObe9jd5TNwimHrEm0awkTI6SMYpEF4Y14s/DAoJChrKGIrN79bhvyFoIdbfFOoRhzPOfxGfkJbfWpUu8YblDFM4JMlNf/azxiFbPzm8cGldCy9d6rMHW8q6zlLaKMO/CM4GGK8a+JcYWx4Yxg2gd1Sth0aN1wlTZPu2aDNdaFYgjRfjFUflh/qrDny8ke8qL3M5cO3G3+dNoP7G6+eAA/3jy68082ZcaFou22Sp8t259cW6eOMcYxYMkbkyCk6dpZiDLjFWta/egY5KO82GzMh/+YgFhdUnYM5vRa/yzIPy82hHPrfTH62XiMtEMwxuHJpq4Jxaat8GJjLjYRC9Wj24wrtJRmoqgyVnPPxXBlXGB9Nt5d6h+vPxNmRe5V1CHjF3sQlPWii94yKQzgGTPCDRXDmPBoIYToJ/AcjjV4CMqC96wbnJKb3oQoDzxKGL9l1oyhQLPByH/Vt1rDo1eQBxQ7dnbG+8RGLihloXW+gHL4DwMbrcLH8XjF+MxvW2uvdo56nbL1jmKLZwRlqBtQqlGu8TLhafcpW+94hnpB1lreECjPPPIkK/wZWakz6g7vC+3ReSp3JMaUT5U2Tz3j5SLMl0fg0BbZ8AclN7YxkM9vdGSvEtI+0dBP6d/ITAh7lhEIVcYFyGu3UKbPdtOfmOgiLWekMQZhtL4rSS+PbsYrwvNp8yEwsKrIXqbNkQbrnzHe6U+s7+U78sQgv3iZmWSgrbj2gkfbXzuL8Ts7Gf+vazzY+aU/qHqPZnkGkzb+Jo+EnIcmMtI445f7R94kkRh7+t4Axshlre/y5cs7v+yB34QQoh9hvWcWKHzdKsaxdY0OnjfoE1sz7Mhak4Qig3LHzbuIkosxg+cGjwSGBEpSWfCs4MErMrNeBPKAYscurszcu51v8fygEIXqxCnCHM+Lz/x2ZPuAUZMQsTVlDr/e8T4Rqo7nBuXTvZa25trQxGt3jbzv5YGHEkXep2y9o9jltc+8tdwo5GXX8rK+EIM1Tzmkzqg76oO6pE6pW8rMN96rtHny7q8J5fp4sUIh8T6cj9JfZR1zP4HMbNbDo2JilB0XQrh2GwpnLtNni/SnUBrwoyQPpBWi6Pgz3uNVmjzZiWSIgSHLRA9p8M53Jnpik0f8HlozzSOL/LWzb0ryRZlgwKfzRZ7IG573iaDIWB3jpsamUePjM7U9+27EIHKICYxV034k47dP6HsD+Ac/+IF9//znP293g77qqqvsI5BuvPFGc9BB8UFZCCEmCgyj2IZHeBAJHesWt34rBI+R4X//Jo3ShPIUgg2q7o9s2MPMNQoRYYFFbt4Yv24NYZYnoShF1pt2A2vqYl7gEHsMnJnm9vrjnV/2kFXvhwbqHW8OSqf/Wl/fYndnPT9RRssSWvtdpd5Rcn8v4O1EuWdyJa8dsJa3bPgzhlZW+HMWtNGnkjLzQ47Lyu5COEPGEPVbJHTSyT7Zwp9jhNZDQtlxIYtQu80i1GeL9Cd/TOQc2nNMxiqUGa/2TdItG6VQRXYM2zIw0RPagfvh2vPWoI1NFvhgTIfyRZ7IWy/uD1Woco/muc9Q9n5EFBRjEBEGRctNjD19bwBfdtlldgdoPMFLly41y5Yts+t+eRbwli1bguuDhRBiIvl+YhihXGMopUG5ZpY4yzOEUskMOZux4F2JgWGBEsHxPoRfhgwPlCaUJx/S4bEmISXWzVwXDdvCQGKNFM+Q7Va5wZuBcopyN1YgH2vqyqTBmkXCPf3HW3RT772AjWtCa5NdvfveL+qdx1yF6jXm7cS44788CH8mlLIolBGhlTx+pSycyzM9Q56ZvDZ/hyc7CiptzhnCPqwNzoP+h+x+XiYblAFlF9r5uuy4kIVrt0XLq0qfzYK+HGojrg0UlS82XhEJE/N08tzg2KOeQvRa9hBMarBsJeTlxcuNwR667+Dtnehdz4veP6uM1bSDjfXng+MijwZjHXgarkXdz2w3ZPz2IZNiDTA7QJ9++un22b+8+MzjkA477DDz9NOTO8RICLH3wY0OBYXNRZwSxTubhKBsZXnFTkhupIBHBOUoFrIHrDtC8U+H3OF5JRyLUDkf8oSHLa2Mce5prcOD6+a4lpu59pVAlCR2v0yDMnHB0KD5z/rW4CY0HM95aVBYCM/j3SkjlBWKHnnrlaLHtdPlxHeUE3YDjRnqHJ9WkMg7G8Sw1i0U7hmr95VJvf97Tr0XhbqjHFHuXBpOFhS3rHrHE+HIqneg/gjjTSu6pHlkkmbeej7yRfiz85gU4eTW3EKTHdSBkxvI3+W7fyvqhcxr8yGjiz560dDbR7QXZKevfXMMZJ9o3EZf6b7JZyay2IQKoydN2XEBaHtl222VPlsF+jJyUgYub+QT+e/0Hs9UZbxiV2w2FCPvTh4nC5sqhQzN8ZCdfKfr3MnxwdaCTIPNbUTnziVvnEeb+EbFMPheUfT+mTVWZ92jb+psjMhkB3AObcGuoU7+S+OioFg245cl5cVLTBy1RYsWjesk5b333muN2G5ZtWqVOe+886x32H9EkhBC9IINGzaYJUuW2EeuFWFwcKQSx40RpZmQMZR7bqx56+Q454zmgmFjIKQYpkFJ4rEfKN3AjTv27EEHN+bB1sFWSWA2P2Y8oLDGwqwBDzSb2DhQiFY0j+l8C7Om8cAoJZHzmFVHSaSsAI8QimMoX3npIJMf8odCy3nITNkyW493MKSwOlBQWKcGXBND6rv1x3IN2Sr1Dun0ICQHcH3ChTEc0vKwy3ZMaYWi9e5AucMQdJv0UN+rB36amQZQ1mymUybskrwRhpqn3KfbJGHGbDTF40Ty8lRWdmTASHb9ivZIX8yreyd7KNwWNm7MfrROt5TRsdx4RT2zedHb2m8cLlvKCM9kaCLr6qQOeAxYDH9ccJRtt1X6bJpQf4rVC2XAjtfpNsIOzaF+W3a8Aq7PI4rwNLtxYbxl9/sjhiv9Oy0DHtwiYxV5w1BO94+rB36W2w/9e8r99edH9fm8+w47lMfyWPb+WWWsptyoHzcuMg4xmebX/bd3nZE5gb2+vmW4f431uNCv9MomrMKkNIDZEOuv/uqvzK5du8xpp51WWDkVQogydGsACyFEmn40gIUQE4sM4PGn70Ogv/Od79gXm1/xWrt2rbnyyitNrVYz/+t//S8Zv0IIIYQQQgghCtH3BvD69evtc4DZ/IoX636ZMfjIRz5ibr+93K52QgghhBBCCCGmLn1vAPsbYJ166qlmxYoV5qmnnuocIYQQQgghhBBC5DMpdoEWQgghhBBCCCG6RQawEEIIIYQQQogpwaR9DJIQQow1ZXeBFkKIiUQ6lhBisqBdoIUQQgghhBBCiDFGBrAQQgghhBBCiCnBhIRACyGEEEIIIYSYukxUCLTWAAshRISya4AHBx/ufBJCiNFs3Lio82lsKKNjabwSoj8Y63GhX9EaYCGEEEIIIYQQYoyRASyEEEIIIYQQYkogA1gIIYQQQgghxJRABrAQQggxiVnSOrTzSQjRDUe097cvIcTejTbBEkKICN1ugnVuc5F5X3O+OcBMNy+aXebn9efMFwbu6fzbG5a1jjAfbi40b2rva3aaptlU326+1vi5eaL2UueI0fz50BJzYmI0zTAN82ztNXNH/UlzQyO+IQ5ynNY63BzS3sd+v7/+vLmxvsncU/+1/e6DAvnJ5nFmYetAmway/7DxlPl6Y2PniNGUTQPS5TsWsnPs0tbczreR3NrYHJUnnUZWvWddH35Ve8V8ZtqdnW8jod6Xtg4zb2nNKtSu/rA5aI5uHWQWtg+034u0R79ONtW2m6sHfla4fIuk4drKsa032u9F2iNpHNc6eLjef5q0kW81HsnMl4NyOKO5wH7+yPRbTahnk6cPNY8yx7cPGZa9SL4cTEh8buid9vOaxgPmlsYv7Wfo102wetFns9rH1btPNYcnY1SM9fUtue3ko823mkXtWSPGiM8N3G0/p/HbFPm6rfGYWVd/wn4PgSyD7YOt/NRxus58qraPMu32zOabzYrmMZ1vI4nJDVVkd9A3TmjNtvcSoA2smH67/ezIGrOyxsQ0a3Ytt2WQV+fpsaRM/6tCVp/1qZov6vSU1rykH+xnz6UN/MPARls32gRr/JEBLIQQEboxgJ3B4RRCp5g8bV4xfztwX+eo7sAIOidRCr+aGH3OUPyToePN/PYBZuW0u+x3nyuGTjLbkluvUzy48V+Y5GttooiFlCTk+N3mEebfGk9Y5YbjP9CabwYTRe7K5Bq+gYqcKBIoTygF/O8M1V/Ut5krBn7SOfJ1yqYBXBOFwp1Duu9tHTmizH3Kyo6iQ1nGjNAQyH5kkpd/qW+2ShRpLEuMhJmJwuPLTl3NNANBJTCWNjIvT+TcmhjH6+tP28mPx2ovZiqSV+4+2b7/sP7UsGLnjJfHk3IK1Yn7P1021NMpzXnm0mn/ESzfMrI7/n73MrM91VZo05zzaCJTSJmmDg9NjA6XhpsAmmHq5pPT1gUNWgdtZPXud1vDAyU+ZgDfsOv99ph76s9Y2V3boo2SZp6yi7H3eJJ/0pgMBnCVPlu2faxO2uBdqfaX5stJeWW1Yer4Y0NHmyfrLydpPRnsqw5kuTSRxbUPoM98sLXAXJ7I4eeLPvi29hvNQ7XnbX+iHPIMoCrtI6vd/lHSbn2cARxroyFcPd5aUHYH560aOtF+Xp/UUVb7rjImpnHnQ1adlx2ruyWrz6a5PMnX9gr5ol6YrGRS6fv1x0fVhQzg8WdShUCfc8455s4777QFVqvVOr+OZtWqVea2226zx/Hi84UXXtj5VwghxhYUChTBtCHGO7P272jNsUZCL0CBQqFKG4gY1yhMKD4+/HZge8YIpYNzuXlzLR/kQKlDIXLGCMejEONtPbs1+hy8NLtMy6xKDHCXL86nLFAWeKUhjd8pmQa8N1HOnfELlC+fOZc8+OTJHr+jFMfJx4SEU6BIw6Xp1wl1lc5PmkPbb7BGrg/XRfmkfFC4iijHTIbwSit1lDf59OvDQfni2UgrdZQvRgjeL5+ysgMG0/R2w+aNY4H06Cd4omgbabgGHjqUeZcGx1MeXOcTyfWyuGjo7WZj/TnzcG1b55cw507/ns23k921Ldrb0tY8+1uMPZMadfPF5PyihstEU7bPQtn2wbXT7S/NIe2Z5le1lzvfRkLaGL/fHHjQtot0eiGQhfpNp8Xn+2rPBscF+iDth3cnex5l20deu6Uf9ALke6SE7A4mDO5NjHnyQ72PFRj9eE6vbdzf+SXMeIzVaYr2WfI1K8kXxznS+YqB8ctEJ9502onTCcTEMmkM4KuuuspccsklZtasWZ1fwlxzzTXmvPPOM/vss49Zt26dWb9+vT0HAxjDWAghxhq8ASiCoRsdv58ZUBDLgmK4f3vaCGXH8VD9BRtq5fOu9hyr6PigjO2XXAsFJc3ixAh5qbYrmMaPa1utkuLD7D5eBF+RQFEgpJfwrzSk8XKSxj+XSAMIoftGokz4oMARZujzzgzZKcfTPNmrgGzIGFKk76s9Z8u/CBh+hCrjkZooKN+1AWUYrwweMx8n+4YSsh+U1C0h0iHwDtGP0hD+igEb6ldch+vFQHklj9c1Huz80nuot3cn/Y5Jqcli/ELZPgtl20cMPMkQM7zObx5rbmxsyjV8HfR9vMQ+9CWMr14bT0Xopt2WgYiZLNlD4JFlwgDDbKzBSNzjOc+eaMi7T/VirHbQZ5m0KNJnXb7849w9xL9/AuPOnPa+5tJIyLqYOCaFAfyd73zHLFu2zBq0mzdv7vw6msWLF5ulS5eaLVu2mHPPPddcfPHF5tOf/rS57LLLbAjjhz/84c6RQggxdqDQoAiG4HcXAtYNKKUv1XZ3vo3kGfOa/d9X9jAm+S8E1zq2dVDn2x4wfEPheYBSt8MMdb69TsyLgKKBp+dlL88ujZDyEUsjD5Rz32tVVnYHIYqE4xH2eOOuM+z6Nae0l+Xw1ug6CYHh95LZZe4oqPRXAcWM0L2YMko4bEjRJJyZcNGyIHtZjvL6CR6hWCg1fSrWVmh7ZyfKN22tqvcFLx3REBiKMZyHOTRh1M+U7bPQq/bBulsiPULQh+l/ZcqTvh9q0/w2PclbL42nNFnto2q7hT9LDFTGHMYexiAM1hjIHpqAQnbWnIYMNIxm1iGXocqYiJeV89Je3RhVx+oq0GfvL9hnq+SLidfQ5JKYePreAJ47d66ZM2eO+Zu/+Rtr0GZxwQUX2Pebb77ZGsGO22+/3YZC4xVWKLQQYqxhG5ksCIfq1hMx2+zZfCUGCo8Ps9RZkK8ioEjhaWFzlaKw/hlFt6gnJy8NFPBQyCuKFvheqyqyo5gSosh61FXTfmTOnn6r9Uax9jEUtvhk7WW7gUwoZPTk1jyroBbhbYkiRaTAWChN13aUadYXEhoZU8z/ceBB67HBCHJQJyiBNzce7fzyOk72xQHZiUYIyf5CbWfQW0+a/E5aRfoJdYFyHcoXfLx5tFVQy4Z3Uo+UFS+3FCB2DQyAsfYwjzdZfbZs+4hBaDD9K8Ti9myz07RsGhhcri5YMxwy5kL9zgcPYq8o0z5CZLVbJh3YJAkIRWfsYT+EOe032LLwIS95fcWXnXMOTPolk0IY1kUM2rJjIpCOi4woQq/uU3m4PvvNgn22Sr6Y+HslKTPSKjqRIcaHvjeAMWTPPvtss3bt2s4vcebNm2ffMYB9Hn/8cfu+aNHUXGguhBg/UALHmiphc0UNsCxQPC8YGrSbeRQ1ZlHY2ACGHZqLUCSN7yeGMUqnU7o4h82e2JmVnTl9qsjOukB/3RaeAta5kravcOJp4YVnFQ8roPiw0dOu2h5ltggoZRtr4dDgbjk/kQejd319i12PHlNaKXfWILM+EMWNOmQtJhtphbyoWbLvjMhOuVIu1BtKMoYO+WGjKiYAisDx1AXr8EL5ol3g5cpbdxgCeVDwaQd2PXpi8IUML/LNhlHdeJj7jbw+W7Z9hKAsmahjU6AQjHEYiKQxIzG6aLfUBx41jG+/LvxJr7GmaPsIkdduKV+31ph0gHfWy2NU9UJ2dw51R7QNxjvysN6a/hgaG8qOicA4UCYyohf3qTzSfZaNAItQJV+cQ+g0YyL3M8qXiQyg3MXEMSlCoNPe3CzwFEPo+AceeKDwTq5CCNEN22vh8OdegvesLHhNuwGl64LEME1vPpUHu2aiSLMBTBHFuGgaKGsoL7+ZGHHMqnMOhhbp4DXy6Vb2NCiihFP+XsfQS4OSzpo6lGHyhZLFdzbwKXIHQllEiQytr+wV5B/FGkWXRwKh7PqwccsO07Th6Si85J/dfZHLGbg+WbLHsPWV1NvKoSXmS7vfY+uTemX9dx7OiHCPEgnBLuk/SgwmZ0RUgWsjw3/Vt1ojzwcP8zO110p5//qZIn22Svvw4TFePKYna1zgMUP05/RGaZQzExqnJ+0rDVEIE0Fe+/Ap0m6zIJphSWt259seupE9tEEX5U1fLAp1w2SGPyYyns1O6rBMZEQvx+oYVfps1XzxSCrScfczN/5C0QkT0XsmzSZYRSDEOY83v7nYwCyEEFXhMQlZEEbW7XRcbC2Sw4XPpUFxyiJrLRqKDModSlsR45cZdjx7GHMoyVlKrqNsGigVXJtZdbwlKKGkQyiurxB2I3tZUG4wCsgX73zHKGBdbx7HdtZEjsd0LYoumxxhiPgQyvxP3tpAypZNe7I284rJHlMeuSb1Rv1xDvVJveKRYiIpVg6EEKKgE4aZZURgQKFkYpC7l3u+6reTzyHjPwber/3N9FFKK5vcsGlZOg1etH3SCnnS+pEyfbZq+0jDY2EerL/Q+RbnpsamzqfXwXh5U3vkmvoikxyh9cy9gvaBxy/LqCnabsuC7HljRkx2Johidd2tgUYdUSZMbqX7BmM0jxwKeUHHY6yu0mer5otJnpD3m+N7uZ5ZlGOvMoCLsGPHjs4nIYQYG/DOxja6Yg0XO9x2i1tzGeLIROngf18hwqDAsAjBZjf3R5RRlAGMGDyGRZQ2FGk8RHj2MG6KUDaNGFwntBNzVdlDIB+U8bqwGQrGQZ6SijdmrMKfY/hr15x8IaWYtl02xB+DCNnLwBrgmBfYhWxmeSgdGNX+a03jAfsfz1gtYjT5+Gsp2UQqlA51TVpFoyUmkjJ9thftA8MKwygW/gw8ZxfKrNtloiXkgSa9XaY5phvLOWL5LdNusyAsPBQBhOyhqBRkZ0LUH1cxyvDi92JNbWxMZAIs1DcYo9fXtwTbWi/H6hhV+myVfGH8Ur7piRrRH0w5A/ipp+I7OAohRC9AqeOG6HuXUBJYd5X1eBsMOGai2SgDj2gMFHeUiNBM9W+0Dwkq9hgUoU2HSIdHEYUMT+exKBquh7LFmj2eR1nU+C2bRgzKl+cvhzxGP8mQnUc9+Yoxm2mxftUpdml4puZTSdmHdlwNgUI+p71P7m6r5IVddMcy/DkNdcUkijM0HCjnKMwh2SH0fOIYyE44bZmdZmkPrAH2vSbkBw8l60G7NSKqQJvAiAp5cyYzZftsL9oHUQeMX1l1yFhwf/35oEeZx6f9MhApEfNAkx7rUPMmoLqB9kG5dNtuqQ/Gf9596E/7t8MTB8iXJXuIf288ERwXXd2mx+O8MZH6LDomZpF3n8qaxCh6/6yCy5dvzLp7SOjexVge2xwQL/REPupuqrNXGcDuEUnsHO1zzDHHmFpNczBCiLEHBQcliA2BnLLA+6qhE+3a1iyv0wmdtV2sp+L5hFmjFuvgMPjSihJenNjaJvL0i/q2EWFnnMsOnmzG4sO1nMfCv7mjiLEbaxoM/guGBs1/1rfamX8fjve9M2XTcPBfWhFD8bl8929FPch5svuKMTuzsvYQw8ApUqSHccYzNTGy/XP4Py2fO/6DrQWFFF9C8vAY9FJJR0Y2KSIf6XZCeVFXtMVQeaEYf2bo7SPOoRxob6H1fFVkp72kr893DIVZSesPGWLOQ8n6RP96pMWrWygXyot3N4HlZCGve5vxW6XPQtn24XNkUqZFHpd0Y32TjYpwu7tTF9SNXWee/OeDDEy4cIyDfJFeL3bortI+GEPKtFv6IwYr9UI6XB/4jCzcQ0L9CdlZb1tGdjydbETHuOjS4RzyfIf3TGHGxB0lx8QqlB2r05S5f5bF5Ys18o50vkIwvvJCF3DthXMY55goytIFxNhSW7RoUS/vtbnwOKITTjih8608PBN4wYIF9pm//qZWa9assdf+6le/al9prr32WnvOypUr7WORhBAijw0bNpglS5YU3kBvcHCk0YkigkJIqB+egSKbR3EOGxM5T0LeJh3cTNnoh7WOwA019mgbB4YEO+OiJBA2FzMaUX5jYdbAjD+hZA4UZbe+MgbhZWklsWwajquT8w7vnMeuzzzSBwUtz8gsKruD+sA77coXA5VHM4XOQcHhuZLUN3AsaxyLhsDiXcEQyTo+r4yRibW3acjXB1rzrSLs5KDMUHCz2hdKLspdWnaODyltVWTn+shDXdDeWfuMlyVkRABrdrMU2vX1LUEjzhEqO/qKLw/H4Uljt920PLF69/HzeWtj83A5bNw4tk+iKKNjMV5V6bOOMu0jDUYTa0JDZR+CtkVaTBABbReDI1YXXJ+26I5nDFk98NPg2IDxxlrUGHig/cmYsu0Dj2QWsXZLOjxCLC13Xp8tI7uDc9gUKj0usmNxrO+WGRN9/PE+VL6OsmM1lL1/OrL6rE+VfDGBw677ThdggiN9nx7rcaFf6dYm7Ia9ygDmGb+88ASfddZZnV+NWb58uVm9erXZvn27OfXUsDdBCCF8ujWAhRAiTb8ZwEKIiUcG8PgzKUKgr7rqquHXrFl7FqB/8YtftN8///nP2++A1xfjFwP5tttus/9fc8019hjCn32vsBBCCCGEEEKIqcOkMICXLVs2/HIGsPuOdzfNpz71KbNu3Tr7SCT+X7p0qXnsscds6PPatWs7RwkhhBBCCCGEmGpMuhBoIYQYLxQCLYToJQqBFkL4KAR6/Jlyj0ESQgghhBBCCDE1kQEshBBCCCGEEGJKoBBoIYSIUDYEWgghJhLpWEKIyYJCoIUQQgghhBBCiDFGBrAQQgghhBBCiCnBhIRACyGEEEIIIYSYukxUCPS4G8BCCCGEEEIIIcREoBBoIYQQQgghhBBTAhnAQgghhBBCCCGmBDKAhRBCCCGEEEJMCWQACyGEEEIIIYSYEsgAFkIIIYQQQggxJZABLIQQQgghhBBiSiADWAghhBBCCCHElEAGsBBCCCGEEEKIKYEMYCGEEEIIIYQQUwIZwEIIIYQQQgghpgQygIUQQgghhBBCTAlkAAshhBBCCCGEmBLIABZCCCGEEEIIMSWQASyEEEIIIYQQYkogA1gIIYQQQgghxJRABrAQQgghhBBCiCmBDGAhhBBCCCGEEFMAY/5/gb21YxZbrjcAAAAASUVORK5CYII=)"
      ],
      "metadata": {
        "id": "GpwhUoy6xBe2"
      }
    },
    {
      "cell_type": "markdown",
      "source": [
        "OPTIMAL K = 10\n",
        "\n",
        "Highest Dunn index is k = 9\n",
        "Second Highest Dunn index is k = 10\n",
        "\n",
        "Lowest Intertia is k = 10\n"
      ],
      "metadata": {
        "id": "8XK9uAFIzEzQ"
      }
    },
    {
      "cell_type": "markdown",
      "source": [
        "##**Q2_Weighted KNN**"
      ],
      "metadata": {
        "id": "8HDo78ngbhkQ"
      }
    },
    {
      "cell_type": "markdown",
      "source": [
        "###  **Question 2[a]:** Advantages + Disadvantages "
      ],
      "metadata": {
        "id": "11V87hyLbmF5"
      }
    },
    {
      "cell_type": "markdown",
      "source": [
        "The 1NN,KNN,nNN and weighted nearest neighbour[WNN] classifier are diverse algorithms. We understand that the KNN classifier can be viewed as having a voting mechanism. It is less sensitive to outliers, more accurate on average and computationally expensive then 1NN, which is the simplest and most robust algorithm, being able to handle nonlinear data - even though it can be sensitive to outliers. Both the nNN and WNN can be more accurate then 1NN or KNN, however they are computationally more expensive. The nNN specialises with accuracy on datasets with a small amount of training examples, whereas the WNN achieves this accuracy by assigning different weights to different neighbour in comparison to the accuracy levels of 1NN and KNN. Both of these classifiers are also less robust when it comes to overfitting, making the decision of choice come down to accuracy or optimality between these four classifiers."
      ],
      "metadata": {
        "id": "7padAvVO7I2e"
      }
    },
    {
      "cell_type": "markdown",
      "source": [
        "###  **Question 2[b]:** Weighted Nearest Neighbour Classifier based on weighting factors"
      ],
      "metadata": {
        "id": "bpI8zo9i7kNt"
      }
    },
    {
      "cell_type": "code",
      "source": [
        "# using w = 1/distance"
      ],
      "metadata": {
        "id": "1KJPJjeAELmH"
      },
      "execution_count": null,
      "outputs": []
    },
    {
      "cell_type": "code",
      "source": [
        "# import relevant and permissable library\n",
        "import numpy as np\n",
        "\n",
        "#Initialise our Weighted Nearest Neighbour in a class for future implementation\n",
        "class WeightedNearestNeighborClassifier:\n",
        "\n",
        "    #k = 5\n",
        "    def __init__(self, k=5):\n",
        "        self.k = k\n",
        "\n",
        "    #store training samples and their class labels\n",
        "    def fit(self, X, y):\n",
        "        self.X = X\n",
        "        self.y = y\n",
        "\n",
        "    def predict(self, b):\n",
        "        # Calculate the distances between the new data points and the training samples\n",
        "        # 'np.linalg.norm()' by default calculates Euclidean distance between vectors\n",
        "        distances = np.linalg.norm(b - self.X, axis=1)\n",
        "\n",
        "        # Sort the distances in ascending order.\n",
        "        # 'np.argsorts()' returns indices of the elemetns in a sorted array\n",
        "        indices = np.argsort(distances)\n",
        "\n",
        "        # Select the k nearest neighbors.\n",
        "        #'[:self.k]' slice selects first k elemtn from array\n",
        "        nearest_neighbors = indices[:self.k]\n",
        "\n",
        "        # Calculate the weights for each neighbor.\n",
        "        # as proposed, inversely proportional to the distance of datapoints and their nearest neighbours\n",
        "        weights = 1 / distances[nearest_neighbors]\n",
        "\n",
        "        # Calculate the class of the new data point.\n",
        "        #'np.argmax()' returns index of maximum element in an array\n",
        "        class_label = np.argmax(np.dot(weights, self.y[nearest_neighbors]))\n",
        "\n",
        "        return class_label"
      ],
      "metadata": {
        "id": "nSB1VgOUbmc_"
      },
      "execution_count": 76,
      "outputs": []
    },
    {
      "cell_type": "markdown",
      "source": [
        "###  **Question 2[c]:** Weighting Factor Proposal"
      ],
      "metadata": {
        "id": "SfEZpkIG7t2L"
      }
    },
    {
      "cell_type": "markdown",
      "source": [
        "A weighting factor that assigns the training sample close to the new datapoint that is a higher weight then those that are far away from it could be w =1/distance, where the weighting factor is inversely proportional. The closer the training sample is to the new data point, the higher its weight will be."
      ],
      "metadata": {
        "id": "bzo7g6Uk73VS"
      }
    },
    {
      "cell_type": "markdown",
      "source": [
        "## **Q3_Multi - Layer Neural Network**"
      ],
      "metadata": {
        "id": "hrMj8XJ-2Y9D"
      }
    },
    {
      "cell_type": "markdown",
      "source": [
        "###  **Question 3[a]:** Implementation"
      ],
      "metadata": {
        "id": "M5ZHw__MadE6"
      }
    },
    {
      "cell_type": "markdown",
      "source": [
        "#### Setting up Environment"
      ],
      "metadata": {
        "id": "o3tmbDJ_ZlqE"
      }
    },
    {
      "cell_type": "markdown",
      "source": [
        "Using Keras as built on TensorFlow"
      ],
      "metadata": {
        "id": "1VjqSlp5bZlg"
      }
    },
    {
      "cell_type": "markdown",
      "source": [
        "Using SKLearn Library MLP Classifier "
      ],
      "metadata": {
        "id": "g68RqWov3KWK"
      }
    },
    {
      "cell_type": "code",
      "source": [
        "import numpy as np\n",
        "import pandas as pd\n",
        "import pandas as pd\n",
        "from sklearn.neural_network import MLPClassifier\n",
        "from sklearn.metrics import f1_score\n",
        "from keras.models import Sequential\n",
        "from keras.layers import Dense\n",
        "from google.colab import drive"
      ],
      "metadata": {
        "id": "rzimGTHeZo3B"
      },
      "execution_count": 4,
      "outputs": []
    },
    {
      "cell_type": "code",
      "source": [
        "drive.mount('/content/drive')\n",
        "\n",
        "#training data.\n",
        "training_data = pd.read_csv('/content/drive/MyDrive/AtRiskStudentsTraining.csv')\n",
        "\n",
        "#test data.\n",
        "test_data = pd.read_csv('/content/drive/MyDrive/AtRiskStudentsTest.csv')\n",
        "\n",
        "#training data2\n",
        "train = pd.read_csv('/content/drive/MyDrive/AtRiskStudentsTraining.csv')\n",
        "\n",
        "#test data2\n",
        "test = pd.read_csv('/content/drive/MyDrive/AtRiskStudentsTest.csv')"
      ],
      "metadata": {
        "colab": {
          "base_uri": "https://localhost:8080/"
        },
        "id": "ofeUc3VEZqj1",
        "outputId": "493242d7-b562-4f3d-d8bc-18a48ccee61c"
      },
      "execution_count": 11,
      "outputs": [
        {
          "output_type": "stream",
          "name": "stdout",
          "text": [
            "Drive already mounted at /content/drive; to attempt to forcibly remount, call drive.mount(\"/content/drive\", force_remount=True).\n"
          ]
        }
      ]
    },
    {
      "cell_type": "markdown",
      "source": [
        "#### Creating Neural Network Model with 1 hidden layer of 5 neurons relative to our input size, as well as an Activation Function"
      ],
      "metadata": {
        "id": "GrTJRnBDZ7_h"
      }
    },
    {
      "cell_type": "markdown",
      "source": [
        "* Activation function: Rectified linear unit activatiion function [relu] allows NN to learn more complex relationships between features and labels."
      ],
      "metadata": {
        "id": "imMlDNUnbE_O"
      }
    },
    {
      "cell_type": "code",
      "source": [
        "# INPUT LAYER\n",
        "\n",
        "#SKLEARN MLP CLASSIFIER\n",
        "# Split the training data into features (X) and labels\n",
        "X_train = train.iloc[:, :-1].values\n",
        "y_train = train.iloc[:, -1].values\n",
        "\n",
        "# Split the testing data into features (X_test) and labels (y_test)\n",
        "X_test = test.iloc[:, :-1].values\n",
        "y_test = test.iloc[:, -1].values\n",
        "\n",
        "# Create an instance of the MLPClassifier\n",
        "clf = MLPClassifier(hidden_layer_sizes=(10,), activation='relu', random_state=0)\n",
        "\n",
        "# Fit the MLP model to the training data\n",
        "clf.fit(X_train, y_train)\n",
        "\n",
        "\n",
        "#KERAS\n",
        "# Change the `features` variable to include the new features.\n",
        "features = training_data[['GPA', 'attendance', 'duration', 'language']]#.values.reshape(-1,4)\n",
        "\n",
        "# Change the `labels` variable to be a binary column.\n",
        "labels = training_data['at-risk'].astype('int32')\n",
        "\n",
        "# HIDDEN LAYER\n",
        "#test_data = test_data.drop('language', axis=1)\n",
        "\n",
        "# Train the neural network model on the new data.\n",
        "model = Sequential()\n",
        "model.add(Dense(5, input_dim=features.shape[1], activation='relu'))\n",
        "model.add(Dense(1, activation='sigmoid'))\n",
        "\n",
        "#Using Adam optimizer as its the fastest\n",
        "#Binary Cross-Entropy Loss function\n",
        "model.compile(optimizer='adam', loss='binary_crossentropy', metrics=['accuracy'])\n",
        "model.fit(features, labels, epochs=5)\n",
        "\n"
      ],
      "metadata": {
        "colab": {
          "base_uri": "https://localhost:8080/"
        },
        "id": "BzAd0cwuUGLj",
        "outputId": "9e0b8d7a-4f2c-434f-9e6d-6c954eb36ab8"
      },
      "execution_count": 23,
      "outputs": [
        {
          "output_type": "stream",
          "name": "stdout",
          "text": [
            "Epoch 1/5\n",
            "32/32 [==============================] - 1s 2ms/step - loss: 1173.6116 - accuracy: 0.4870\n",
            "Epoch 2/5\n",
            "32/32 [==============================] - 0s 2ms/step - loss: 992.0170 - accuracy: 0.4880\n",
            "Epoch 3/5\n",
            "32/32 [==============================] - 0s 2ms/step - loss: 793.7791 - accuracy: 0.4900\n",
            "Epoch 4/5\n",
            "32/32 [==============================] - 0s 2ms/step - loss: 597.6092 - accuracy: 0.4850\n",
            "Epoch 5/5\n",
            "32/32 [==============================] - 0s 2ms/step - loss: 400.9515 - accuracy: 0.4880\n"
          ]
        },
        {
          "output_type": "execute_result",
          "data": {
            "text/plain": [
              "<keras.callbacks.History at 0x7fcc39c22cd0>"
            ]
          },
          "metadata": {},
          "execution_count": 23
        }
      ]
    },
    {
      "cell_type": "markdown",
      "source": [
        "###  **Question 3[b]:** Validation on Test data + Error Function using MSE AND MAE"
      ],
      "metadata": {
        "id": "nQtx-Vo1aXOY"
      }
    },
    {
      "cell_type": "code",
      "source": [
        "#OUTPUT LAYER\n",
        "\n",
        "#MLP CLASSIFIER\n",
        "# Predict the output for the testing data\n",
        "y_pred = clf.predict(X_test)\n",
        "\n",
        "# Calculate the F1 score on the testing data\n",
        "f1 = f1_score(y_test, y_pred)\n",
        "\n",
        "print('F1 Score: ', f1)\n",
        "\n",
        "\n",
        "#KERAS MODEL\n",
        "# Use the model to make predictions on the test data.\n",
        "predictions = model.predict(test_data)\n",
        "\n",
        "# Calculate the accuracy of the predictions.\n",
        "accuracy = np.mean(predictions == test_data['at-risk'].values)\n",
        "\n",
        "# Compare the accuracy of the predictions to the accuracy of the model on the training data.\n",
        "print('Accuracy on test data: {}'.format(accuracy))"
      ],
      "metadata": {
        "colab": {
          "base_uri": "https://localhost:8080/"
        },
        "id": "fS1qWX9daVI4",
        "outputId": "64ae0035-7fea-41bf-94b4-e8a7fea2800a"
      },
      "execution_count": 24,
      "outputs": [
        {
          "output_type": "stream",
          "name": "stdout",
          "text": [
            "F1 Score:  0.570909090909091\n",
            "16/16 [==============================] - 0s 1ms/step\n",
            "Accuracy on test data: 0.473252\n"
          ]
        }
      ]
    },
    {
      "cell_type": "markdown",
      "source": [
        "#### Error function continuing off Keras Model Training and Validation"
      ],
      "metadata": {
        "id": "3wRV5GUU9Ip3"
      }
    },
    {
      "cell_type": "code",
      "source": [
        "# Calculate the mean squared error\n",
        "mse = np.mean((predictions - test_data['at-risk'].values)**2)\n",
        "\n",
        "# Print the mean squared error\n",
        "print('Mean squared error: {}'.format(mse))\n",
        "\n",
        "# Calculate the mean absolute error\n",
        "mae = np.mean(np.abs(predictions - test_data['at-risk'].values))\n",
        "\n",
        "# Print the mean absolute error\n",
        "print('Mean absolute error: {}'.format(mae))"
      ],
      "metadata": {
        "colab": {
          "base_uri": "https://localhost:8080/"
        },
        "id": "uYcVbxrr9FC1",
        "outputId": "075294d8-2922-4e81-95c9-d7598b2e8bdd"
      },
      "execution_count": 26,
      "outputs": [
        {
          "output_type": "stream",
          "name": "stdout",
          "text": [
            "Mean squared error: 0.5051163305258982\n",
            "Mean absolute error: 0.505626818003005\n"
          ]
        }
      ]
    },
    {
      "cell_type": "markdown",
      "source": [
        "DecisionTreeClassifier from SKLEARN, seeing if supervised learning has better accuracy for fun"
      ],
      "metadata": {
        "id": "d2OyOmHmaUtl"
      }
    },
    {
      "cell_type": "code",
      "source": [
        "from sklearn.tree import DecisionTreeClassifier\n",
        "\n",
        "# Create the decision tree classifier\n",
        "clf = DecisionTreeClassifier()\n",
        "\n",
        "# Train the classifier on the training data\n",
        "clf.fit(features, labels)\n",
        "\n",
        "# Make predictions on the test data\n",
        "predictions = clf.predict(test_data.values)\n",
        "\n",
        "# Calculate the accuracy of the predictions\n",
        "accuracy = np.mean(predictions == test_data['at-risk'].values)\n",
        "\n",
        "# Print the accuracy\n",
        "print('Accuracy on test data: {}'.format(accuracy))"
      ],
      "metadata": {
        "colab": {
          "base_uri": "https://localhost:8080/"
        },
        "id": "ZaD36PHCh51J",
        "outputId": "4f8ec963-cfdf-4510-bbfc-aa016dd73c0d"
      },
      "execution_count": 21,
      "outputs": [
        {
          "output_type": "stream",
          "name": "stdout",
          "text": [
            "Accuracy on test data: 0.48\n"
          ]
        },
        {
          "output_type": "stream",
          "name": "stderr",
          "text": [
            "/usr/local/lib/python3.9/dist-packages/sklearn/base.py:439: UserWarning: X does not have valid feature names, but DecisionTreeClassifier was fitted with feature names\n",
            "  warnings.warn(\n"
          ]
        }
      ]
    },
    {
      "cell_type": "markdown",
      "source": [
        "### **Question 3[c]:** Training using Varying Hidden Layers and Neurons"
      ],
      "metadata": {
        "id": "1BdLgHyk95sP"
      }
    },
    {
      "cell_type": "code",
      "source": [
        "drive.mount('/content/drive')\n",
        "\n",
        "#training data.\n",
        "training_data = pd.read_csv('/content/drive/MyDrive/AtRiskStudentsTraining.csv')\n",
        "\n",
        "#test data.\n",
        "test_data = pd.read_csv('/content/drive/MyDrive/AtRiskStudentsTest.csv')\n",
        "\n",
        "# Change the `features` variable to include the new features.\n",
        "features = training_data[['GPA', 'attendance', 'duration', 'language']]\n",
        "print(features.shape)\n",
        "\n",
        "# Change the `labels` variable to be a binary column.\n",
        "labels = training_data['at-risk'].astype('int32')"
      ],
      "metadata": {
        "colab": {
          "base_uri": "https://localhost:8080/"
        },
        "id": "YyqGUtm7OtRI",
        "outputId": "bbf9c5fd-47d7-42e0-92cd-be4dca6576db"
      },
      "execution_count": 64,
      "outputs": [
        {
          "output_type": "stream",
          "name": "stdout",
          "text": [
            "Drive already mounted at /content/drive; to attempt to forcibly remount, call drive.mount(\"/content/drive\", force_remount=True).\n",
            "(1000, 4)\n"
          ]
        }
      ]
    },
    {
      "cell_type": "markdown",
      "source": [
        "Variation List to store details of testing NN"
      ],
      "metadata": {
        "id": "r7SBCDlCNcua"
      }
    },
    {
      "cell_type": "code",
      "source": [
        "test_data = test_data.drop('language', axis=1)\n",
        "\n",
        "# Create a list of variations of the neural network.\n",
        "variations = []\n",
        "\n",
        "# Add a variation with 1 hidden layer and 5 neurons.\n",
        "variations.append((1, 5))\n",
        "\n",
        "# Add a variation with 2 hidden layers and 10 neurons in each hidden layer.\n",
        "variations.append((2, 10, 10))\n",
        "\n",
        "# Add a variation with 3 hidden layers and 20 neurons in each hidden layer.\n",
        "variations.append((3, 20, 20))\n",
        "\n",
        "# Add a variation wit 1 hidden layer with 10 neurons\n",
        "variations.append((1, 10))\n",
        "\n",
        "# Add a variation wit 2 hidden layers with 5 neurons in each hidden layer\n",
        "variations.append((2, 5, 5))\n",
        "\n",
        "# Add a variation wit 3 hidden layers with 3 neurons in each hidden layer\n",
        "variations.append((3, 3, 3))\n",
        "\n",
        "# Add a variation wit 1 hidden layer with 20 neurons\n",
        "variations.append((1, 20))\n",
        "\n",
        "# Add a variation wit 2 hidden layers with 15 neurons in each hidden layer\n",
        "variations.append((2, 15, 15))\n",
        "\n",
        "# Add a variation wit 3 hidden layers with 10 neurons in each hidden layer\n",
        "variations.append((3, 10, 10))\n",
        "\n",
        "# Add a variation wit 4 hidden layers with 5 neurons in each hidden layer\n",
        "variations.append((4, 5, 5, 5))"
      ],
      "metadata": {
        "id": "9qzDFEbDO8sr"
      },
      "execution_count": 68,
      "outputs": []
    },
    {
      "cell_type": "markdown",
      "source": [
        "For Loop to iterate each variation of the neural network, outputting results for table capture"
      ],
      "metadata": {
        "id": "RqOlIDJ3WDYb"
      }
    },
    {
      "cell_type": "code",
      "source": [
        "# For each variation of the neural network:\n",
        "for variation in variations:\n",
        "\n",
        "    # Create a neural network with the specified number of hidden layers and neurons.\n",
        "    model = Sequential()\n",
        "    model.add(Dense(variation[0], input_shape=(4,), activation='relu'))\n",
        "    for i in range(len(variation)-1):\n",
        "        model.add(Dense(variation[i + 1], activation='relu'))\n",
        "        model.add(Dense(1, activation='sigmoid'))\n",
        "\n",
        "    # Compile the neural network.\n",
        "    model.compile(optimizer='adam', loss='binary_crossentropy', metrics=['accuracy'])\n",
        "\n",
        "    # Train the neural network on the training data.\n",
        "    model.fit(features, labels, epochs=5)\n",
        "\n",
        "    # Make predictions on the testing data.\n",
        "    predictions = model.predict(test_data)\n",
        "    predictions = predictions.reshape((-1, 1)) # Reshape to (n_samples, 1)\n",
        "\n",
        "    # Convert predictions to binary labels.\n",
        "    binary_predictions = (predictions > 0.5).astype('int32')\n",
        "    # Calculate the error of the predictions using error function from [b]\n",
        "    # Using MAE as data is not normally distributed\n",
        "    error = np.mean(np.abs(binary_predictions - test_data['at-risk'].values))\n",
        "\n",
        "\n",
        "    # Print the output following training for table capture and analysis\n",
        "    print('Error for variation {}: {}'.format(variation, error))\n",
        "    print('Number of hidden layers: {}'.format(variation[0]))\n",
        "    print('Number of neurons: {}'.format(variation[1:]))\n",
        "    print('\\n')"
      ],
      "metadata": {
        "colab": {
          "base_uri": "https://localhost:8080/"
        },
        "id": "uivsIxz1O-0F",
        "outputId": "2bc515ab-38c9-47a6-857e-ae3babb4fda7"
      },
      "execution_count": 72,
      "outputs": [
        {
          "output_type": "stream",
          "name": "stdout",
          "text": [
            "Epoch 1/5\n",
            "32/32 [==============================] - 1s 4ms/step - loss: 1330.5649 - accuracy: 0.4850\n",
            "Epoch 2/5\n",
            "32/32 [==============================] - 0s 4ms/step - loss: 1065.8669 - accuracy: 0.4850\n",
            "Epoch 3/5\n",
            "32/32 [==============================] - 0s 4ms/step - loss: 840.3148 - accuracy: 0.4850\n",
            "Epoch 4/5\n",
            "32/32 [==============================] - 0s 3ms/step - loss: 633.7781 - accuracy: 0.4850\n",
            "Epoch 5/5\n",
            "32/32 [==============================] - 0s 4ms/step - loss: 450.7587 - accuracy: 0.4850\n",
            "16/16 [==============================] - 0s 3ms/step\n",
            "Error for variation (1, 5): 0.506\n",
            "Number of hidden layers: 1\n",
            "Number of neurons: (5,)\n",
            "\n",
            "\n",
            "Epoch 1/5\n",
            "32/32 [==============================] - 2s 6ms/step - loss: 0.6932 - accuracy: 0.4970\n",
            "Epoch 2/5\n",
            "32/32 [==============================] - 0s 4ms/step - loss: 0.6931 - accuracy: 0.5130\n",
            "Epoch 3/5\n",
            "32/32 [==============================] - 0s 4ms/step - loss: 0.6930 - accuracy: 0.5130\n",
            "Epoch 4/5\n",
            "32/32 [==============================] - 0s 4ms/step - loss: 0.6930 - accuracy: 0.5130\n",
            "Epoch 5/5\n",
            "32/32 [==============================] - 0s 3ms/step - loss: 0.6930 - accuracy: 0.5130\n",
            "16/16 [==============================] - 0s 1ms/step\n",
            "Error for variation (2, 10, 10): 0.494\n",
            "Number of hidden layers: 2\n",
            "Number of neurons: (10, 10)\n",
            "\n",
            "\n",
            "Epoch 1/5\n",
            "32/32 [==============================] - 1s 2ms/step - loss: 0.7323 - accuracy: 0.4870\n",
            "Epoch 2/5\n",
            "32/32 [==============================] - 0s 2ms/step - loss: 0.7073 - accuracy: 0.4870\n",
            "Epoch 3/5\n",
            "32/32 [==============================] - 0s 2ms/step - loss: 0.6974 - accuracy: 0.4870\n",
            "Epoch 4/5\n",
            "32/32 [==============================] - 0s 2ms/step - loss: 0.6938 - accuracy: 0.4870\n",
            "Epoch 5/5\n",
            "32/32 [==============================] - 0s 2ms/step - loss: 0.6932 - accuracy: 0.5010\n",
            "16/16 [==============================] - 0s 2ms/step\n",
            "Error for variation (3, 20, 20): 0.494\n",
            "Number of hidden layers: 3\n",
            "Number of neurons: (20, 20)\n",
            "\n",
            "\n",
            "Epoch 1/5\n",
            "32/32 [==============================] - 1s 2ms/step - loss: 0.6932 - accuracy: 0.4910\n",
            "Epoch 2/5\n",
            "32/32 [==============================] - 0s 2ms/step - loss: 0.6931 - accuracy: 0.5130\n",
            "Epoch 3/5\n",
            "32/32 [==============================] - 0s 2ms/step - loss: 0.6931 - accuracy: 0.5130\n",
            "Epoch 4/5\n",
            "32/32 [==============================] - 0s 2ms/step - loss: 0.6930 - accuracy: 0.5130\n",
            "Epoch 5/5\n",
            "32/32 [==============================] - 0s 2ms/step - loss: 0.6930 - accuracy: 0.5130\n",
            "16/16 [==============================] - 0s 1ms/step\n",
            "Error for variation (1, 10): 0.494\n",
            "Number of hidden layers: 1\n",
            "Number of neurons: (10,)\n",
            "\n",
            "\n",
            "Epoch 1/5\n",
            "32/32 [==============================] - 1s 2ms/step - loss: 0.7180 - accuracy: 0.5130\n",
            "Epoch 2/5\n",
            "32/32 [==============================] - 0s 2ms/step - loss: 0.7083 - accuracy: 0.5130\n",
            "Epoch 3/5\n",
            "32/32 [==============================] - 0s 3ms/step - loss: 0.7029 - accuracy: 0.5130\n",
            "Epoch 4/5\n",
            "32/32 [==============================] - 0s 3ms/step - loss: 0.6989 - accuracy: 0.5130\n",
            "Epoch 5/5\n",
            "32/32 [==============================] - 0s 3ms/step - loss: 0.6965 - accuracy: 0.5130\n",
            "16/16 [==============================] - 0s 2ms/step\n",
            "Error for variation (2, 5, 5): 0.494\n",
            "Number of hidden layers: 2\n",
            "Number of neurons: (5, 5)\n",
            "\n",
            "\n",
            "Epoch 1/5\n",
            "32/32 [==============================] - 2s 3ms/step - loss: 0.7262 - accuracy: 0.4870\n",
            "Epoch 2/5\n",
            "32/32 [==============================] - 0s 3ms/step - loss: 0.7144 - accuracy: 0.4870\n",
            "Epoch 3/5\n",
            "32/32 [==============================] - 0s 4ms/step - loss: 0.7065 - accuracy: 0.4870\n",
            "Epoch 4/5\n",
            "32/32 [==============================] - 0s 3ms/step - loss: 0.7009 - accuracy: 0.4870\n",
            "Epoch 5/5\n",
            "32/32 [==============================] - 0s 3ms/step - loss: 0.6975 - accuracy: 0.4870\n",
            "16/16 [==============================] - 0s 2ms/step\n",
            "Error for variation (3, 3, 3): 0.506\n",
            "Number of hidden layers: 3\n",
            "Number of neurons: (3, 3)\n",
            "\n",
            "\n",
            "Epoch 1/5\n",
            "32/32 [==============================] - 1s 2ms/step - loss: 285.7542 - accuracy: 0.5140\n",
            "Epoch 2/5\n",
            "32/32 [==============================] - 0s 2ms/step - loss: 182.0352 - accuracy: 0.5150\n",
            "Epoch 3/5\n",
            "32/32 [==============================] - 0s 2ms/step - loss: 96.5688 - accuracy: 0.5150\n",
            "Epoch 4/5\n",
            "32/32 [==============================] - 0s 2ms/step - loss: 24.4575 - accuracy: 0.5170\n",
            "Epoch 5/5\n",
            "32/32 [==============================] - 0s 2ms/step - loss: 2.9472 - accuracy: 0.5040\n",
            "16/16 [==============================] - 0s 1ms/step\n",
            "Error for variation (1, 20): 0.494576\n",
            "Number of hidden layers: 1\n",
            "Number of neurons: (20,)\n",
            "\n",
            "\n",
            "Epoch 1/5\n",
            "32/32 [==============================] - 1s 2ms/step - loss: 0.6969 - accuracy: 0.5140\n",
            "Epoch 2/5\n",
            "32/32 [==============================] - 0s 2ms/step - loss: 0.6935 - accuracy: 0.5120\n",
            "Epoch 3/5\n",
            "32/32 [==============================] - 0s 2ms/step - loss: 0.6931 - accuracy: 0.5110\n",
            "Epoch 4/5\n",
            "32/32 [==============================] - 0s 2ms/step - loss: 0.6929 - accuracy: 0.5130\n",
            "Epoch 5/5\n",
            "32/32 [==============================] - 0s 2ms/step - loss: 0.6933 - accuracy: 0.5120\n",
            "16/16 [==============================] - 0s 1ms/step\n",
            "Error for variation (2, 15, 15): 0.494\n",
            "Number of hidden layers: 2\n",
            "Number of neurons: (15, 15)\n",
            "\n",
            "\n",
            "Epoch 1/5\n",
            "32/32 [==============================] - 1s 2ms/step - loss: 0.6940 - accuracy: 0.4870\n",
            "Epoch 2/5\n",
            "32/32 [==============================] - 0s 2ms/step - loss: 0.6932 - accuracy: 0.5030\n",
            "Epoch 3/5\n",
            "32/32 [==============================] - 0s 2ms/step - loss: 0.6931 - accuracy: 0.5130\n",
            "Epoch 4/5\n",
            "32/32 [==============================] - 0s 2ms/step - loss: 0.6931 - accuracy: 0.5130\n",
            "Epoch 5/5\n",
            "32/32 [==============================] - 0s 2ms/step - loss: 0.6929 - accuracy: 0.5130\n",
            "16/16 [==============================] - 0s 1ms/step\n",
            "Error for variation (3, 10, 10): 0.494\n",
            "Number of hidden layers: 3\n",
            "Number of neurons: (10, 10)\n",
            "\n",
            "\n",
            "Epoch 1/5\n",
            "32/32 [==============================] - 1s 2ms/step - loss: 0.6955 - accuracy: 0.4870\n",
            "Epoch 2/5\n",
            "32/32 [==============================] - 0s 2ms/step - loss: 0.6945 - accuracy: 0.4870\n",
            "Epoch 3/5\n",
            "32/32 [==============================] - 0s 2ms/step - loss: 0.6939 - accuracy: 0.4870\n",
            "Epoch 4/5\n",
            "32/32 [==============================] - 0s 2ms/step - loss: 0.6935 - accuracy: 0.4870\n",
            "Epoch 5/5\n",
            "32/32 [==============================] - 0s 2ms/step - loss: 0.6933 - accuracy: 0.4860\n",
            "16/16 [==============================] - 0s 1ms/step\n",
            "Error for variation (4, 5, 5, 5): 0.505976\n",
            "Number of hidden layers: 4\n",
            "Number of neurons: (5, 5, 5)\n",
            "\n",
            "\n"
          ]
        }
      ]
    },
    {
      "cell_type": "markdown",
      "source": [
        "![Q3Table .png](data:image/png;base64,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)"
      ],
      "metadata": {
        "id": "sVOpNSSAZfoD"
      }
    },
    {
      "cell_type": "markdown",
      "source": [
        "### **Question 3[d]:** Drawbacks of Variation Error Function "
      ],
      "metadata": {
        "id": "gbggi5QiakPG"
      }
    },
    {
      "cell_type": "markdown",
      "source": [
        "Using the error function from [b] we calculated the MAE of 10 variations of hidden layer-neuron combinations. Through this we were able to visualise the differences that the variations from correlating the error function to specific variation structure. This is a classification task, and the data is not normally distributed, so it was most appropriate to use MAE instead of MSE. The variation with the lowest MAE is the apparent variation that is most optimal and performs best on our dataset. However, keeping in mind that only 10 variations were tested, and that at randomly – appropriate and thorough testing can involve more variation which can be time consuming with training and evaluation. Furthermore, with larger datasets and more complex relationships, it can be computationally expensive to utilise this approach in finding the optimal variation to use. There is no guarantee that the lowest MAE given from the hidden layer-neuron combination is the most optimal variation, so this approach has a few drawbacks in terms of defining an absolute, but it still works great as a starting point for fine-tuning our model and its hyperparameters, and using other methods such as hyperparameter optimisation to continue on from there."
      ],
      "metadata": {
        "id": "e2x1WDkna4CB"
      }
    },
    {
      "cell_type": "markdown",
      "source": [
        "## **Q4_Association Analysis**"
      ],
      "metadata": {
        "id": "dTw-Kpnxn6xY"
      }
    },
    {
      "cell_type": "markdown",
      "source": [
        "**Creating an application that reads in 'shopppingtransactions.csv' and allows users to interact with the app using 'sup', 'con' and 'exit'**"
      ],
      "metadata": {
        "id": "WuLHxAbXn92i"
      }
    },
    {
      "cell_type": "markdown",
      "source": [
        "Importing relevant libraries "
      ],
      "metadata": {
        "id": "R4fGOBsZF5nx"
      }
    },
    {
      "cell_type": "code",
      "source": [
        "import numpy as np #for calculation support and confidence of items\n",
        "import csv"
      ],
      "metadata": {
        "id": "Wr7FqA1Pn-MH"
      },
      "execution_count": 77,
      "outputs": []
    },
    {
      "cell_type": "markdown",
      "source": [
        "loading our 'shoppingtransactions.csv' file from google drive"
      ],
      "metadata": {
        "id": "EqnD3rKbGI8K"
      }
    },
    {
      "cell_type": "code",
      "source": [
        "from google.colab import drive "
      ],
      "metadata": {
        "id": "YPzZzrwDGILd"
      },
      "execution_count": 78,
      "outputs": []
    },
    {
      "cell_type": "code",
      "source": [
        "drive.mount('/content/drive')"
      ],
      "metadata": {
        "colab": {
          "base_uri": "https://localhost:8080/"
        },
        "id": "Yzcd0TIoGQus",
        "outputId": "ad078a5e-6421-4a48-ee97-9cdba3cea811"
      },
      "execution_count": 79,
      "outputs": [
        {
          "output_type": "stream",
          "name": "stdout",
          "text": [
            "Drive already mounted at /content/drive; to attempt to forcibly remount, call drive.mount(\"/content/drive\", force_remount=True).\n"
          ]
        }
      ]
    },
    {
      "cell_type": "code",
      "source": [
        "csv_file = '/content/drive/MyDrive/shoppingtransactions.csv'"
      ],
      "metadata": {
        "id": "zwpBzzj_GUWl"
      },
      "execution_count": 83,
      "outputs": []
    },
    {
      "cell_type": "markdown",
      "source": [
        "reading our csv file and creating an empty list with each row transaction data appended into it"
      ],
      "metadata": {
        "id": "Hb2F_FopF-uM"
      }
    },
    {
      "cell_type": "code",
      "source": [
        "def read_csv(csv_file):\n",
        "    with open(csv_file,'r') as f:\n",
        "        reader = csv.reader(f)\n",
        "        transactions=[]\n",
        "        for row in reader:\n",
        "          transactions.append(row)\n",
        "    return transactions"
      ],
      "metadata": {
        "id": "dwvN7YflF9-U"
      },
      "execution_count": 85,
      "outputs": []
    },
    {
      "cell_type": "markdown",
      "source": [
        "creating a 'calculate_support()' function that uses the 'count_nonzero()' from NumPy\n",
        "\n",
        "*  counts the # of transactions that contain the given item\n",
        "* returns the # of transactions that contain the given item divided by the total transactions for overview data when requested by user with 'sup'\n",
        "\n",
        "\n"
      ],
      "metadata": {
        "id": "ggb1lsDCIHSs"
      }
    },
    {
      "cell_type": "code",
      "source": [
        "def calculate_support(item,transactions):\n",
        "    total_transactions =len(transactions)\n",
        "    #transactions_with_item = np.count_nonzero(np.isin(transactions,item))\n",
        "    transactions_with_item = sum([1 for row in transactions if item in row])\n",
        "    return transactions_with_item/total_transactions"
      ],
      "metadata": {
        "id": "nAukhqpqHuXF"
      },
      "execution_count": 112,
      "outputs": []
    },
    {
      "cell_type": "markdown",
      "source": [
        "creating a 'calculate_confidence()' function that uses 'calculate_support()'\n",
        "* calculates support of first item\n",
        "* uses 'count_nonzero()' to count number of transactions that contain both items as specified by the user"
      ],
      "metadata": {
        "id": "0gbzS_3fJFwT"
      }
    },
    {
      "cell_type": "code",
      "source": [
        "def calculate_confidence(item1,item2,transactions):\n",
        "  support_of_item1 = calculate_support(item1,transactions)\n",
        "  support_of_item1_and_item2 = calculate_support(item2,transactions)\n",
        "  return support_of_item1_and_item2/support_of_item1"
      ],
      "metadata": {
        "id": "2TmOL9FCLiRj"
      },
      "execution_count": 113,
      "outputs": []
    },
    {
      "cell_type": "markdown",
      "source": [
        "defining main program to read our csv file transactions,using a 'while' loop to to create an interactive loop for the user to engage with using commands 'sup','con' and 'exit'"
      ],
      "metadata": {
        "id": "3oc2bd6PMGAu"
      }
    },
    {
      "cell_type": "code",
      "source": [
        "def main():\n",
        "  #transactions = read_csv('shoppingtransactions.csv')\n",
        "  import csv\n",
        "  from google.colab import drive\n",
        "  drive.mount('/content/drive')\n",
        "\n",
        "  csv_file_path = '/content/drive/MyDrive/shoppingtransactions.csv'\n",
        "\n",
        "  with open(csv_file_path,'r') as f:\n",
        "      transactions = csv.reader(f)\n",
        "\n",
        "  while True:\n",
        "    print('Welcome to Shopping Transactions'+'/n')\n",
        "    command = input(\"Enter a command('sup', 'con', 'exit')\")\n",
        "    if command == 'sup':\n",
        "      item = input('Enter a single item: ')\n",
        "      # typeError here\n",
        "      print(calculate_support(item,transactions))\n",
        "    elif command == 'con':\n",
        "      item1 = input('Enter first item: ')\n",
        "      item2 = input('Enter second item: ')\n",
        "      print(calculate_confidence([item1,item2],transactions))\n",
        "    elif command == 'exit':\n",
        "      break\n",
        "\n",
        "if __name__ =='__main__':\n",
        "  main()"
      ],
      "metadata": {
        "colab": {
          "base_uri": "https://localhost:8080/"
        },
        "id": "puSdBSKVMFh6",
        "outputId": "7deeeefa-67a0-47be-97d2-0811c441e0a5"
      },
      "execution_count": 115,
      "outputs": [
        {
          "name": "stdout",
          "output_type": "stream",
          "text": [
            "Drive already mounted at /content/drive; to attempt to forcibly remount, call drive.mount(\"/content/drive\", force_remount=True).\n",
            "Welcome to Shopping Transactions/n\n",
            "Enter a command('sup', 'con', 'exit')exit\n"
          ]
        }
      ]
    }
  ]
}